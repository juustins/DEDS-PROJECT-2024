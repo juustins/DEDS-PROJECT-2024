{
 "cells": [
  {
   "cell_type": "code",
   "execution_count": 5,
   "id": "initial_id",
   "metadata": {
    "collapsed": true,
    "ExecuteTime": {
     "end_time": "2024-05-24T13:02:09.498350900Z",
     "start_time": "2024-05-24T13:02:08.295979300Z"
    }
   },
   "outputs": [
    {
     "name": "stdout",
     "output_type": "stream",
     "text": [
      "bonus\n",
      "customer\n",
      "department\n",
      "employee\n",
      "product\n",
      "region\n",
      "sales_order\n",
      "sales_order_item\n",
      "state\n"
     ]
    }
   ],
   "source": [
    "import pyodbc\n",
    "import pandas as pd\n",
    "\n",
    "conn_str = (\n",
    "    r'DRIVER={Microsoft Access Driver (*.mdb, *.accdb)};'\n",
    "    r'DBQ=./Databases/aenc.accdb;'\n",
    ")\n",
    "cnxn = pyodbc.connect(conn_str)\n",
    "crsr = cnxn.cursor()\n",
    "for table_info in crsr.tables(tableType='TABLE'):\n",
    "    print(table_info.table_name)"
   ]
  },
  {
   "cell_type": "code",
   "outputs": [
    {
     "name": "stderr",
     "output_type": "stream",
     "text": [
      "C:\\Users\\jboek\\AppData\\Local\\Temp\\ipykernel_21004\\3834279795.py:1: UserWarning: pandas only supports SQLAlchemy connectable (engine/connection) or database string URI or sqlite3 DBAPI2 connection. Other DBAPI2 objects are not tested. Please consider using SQLAlchemy.\n",
      "  df_product = pd.read_sql_query(\"SELECT * FROM product\",cnxn)\n",
      "C:\\Users\\jboek\\AppData\\Local\\Temp\\ipykernel_21004\\3834279795.py:2: UserWarning: pandas only supports SQLAlchemy connectable (engine/connection) or database string URI or sqlite3 DBAPI2 connection. Other DBAPI2 objects are not tested. Please consider using SQLAlchemy.\n",
      "  df_bonus = pd.read_sql_query(\"SELECT * FROM bonus\",cnxn)\n",
      "C:\\Users\\jboek\\AppData\\Local\\Temp\\ipykernel_21004\\3834279795.py:3: UserWarning: pandas only supports SQLAlchemy connectable (engine/connection) or database string URI or sqlite3 DBAPI2 connection. Other DBAPI2 objects are not tested. Please consider using SQLAlchemy.\n",
      "  df_department = pd.read_sql_query(\"SELECT * FROM department\",cnxn)\n",
      "C:\\Users\\jboek\\AppData\\Local\\Temp\\ipykernel_21004\\3834279795.py:4: UserWarning: pandas only supports SQLAlchemy connectable (engine/connection) or database string URI or sqlite3 DBAPI2 connection. Other DBAPI2 objects are not tested. Please consider using SQLAlchemy.\n",
      "  df_employee = pd.read_sql_query(\"SELECT * FROM employee\",cnxn)\n",
      "C:\\Users\\jboek\\AppData\\Local\\Temp\\ipykernel_21004\\3834279795.py:5: UserWarning: pandas only supports SQLAlchemy connectable (engine/connection) or database string URI or sqlite3 DBAPI2 connection. Other DBAPI2 objects are not tested. Please consider using SQLAlchemy.\n",
      "  df_customer = pd.read_sql_query(\"SELECT * FROM customer\",cnxn)\n",
      "C:\\Users\\jboek\\AppData\\Local\\Temp\\ipykernel_21004\\3834279795.py:6: UserWarning: pandas only supports SQLAlchemy connectable (engine/connection) or database string URI or sqlite3 DBAPI2 connection. Other DBAPI2 objects are not tested. Please consider using SQLAlchemy.\n",
      "  df_region = pd.read_sql_query(\"SELECT * FROM region\",cnxn)\n",
      "C:\\Users\\jboek\\AppData\\Local\\Temp\\ipykernel_21004\\3834279795.py:7: UserWarning: pandas only supports SQLAlchemy connectable (engine/connection) or database string URI or sqlite3 DBAPI2 connection. Other DBAPI2 objects are not tested. Please consider using SQLAlchemy.\n",
      "  df_sales_order = pd.read_sql_query(\"SELECT * FROM sales_order\",cnxn)\n",
      "C:\\Users\\jboek\\AppData\\Local\\Temp\\ipykernel_21004\\3834279795.py:8: UserWarning: pandas only supports SQLAlchemy connectable (engine/connection) or database string URI or sqlite3 DBAPI2 connection. Other DBAPI2 objects are not tested. Please consider using SQLAlchemy.\n",
      "  df_sales_order_item = pd.read_sql_query(\"SELECT * FROM sales_order_item\",cnxn)\n",
      "C:\\Users\\jboek\\AppData\\Local\\Temp\\ipykernel_21004\\3834279795.py:9: UserWarning: pandas only supports SQLAlchemy connectable (engine/connection) or database string URI or sqlite3 DBAPI2 connection. Other DBAPI2 objects are not tested. Please consider using SQLAlchemy.\n",
      "  df_state = pd.read_sql_query(\"SELECT * FROM state\",cnxn)\n"
     ]
    }
   ],
   "source": [
    "df_product = pd.read_sql_query(\"SELECT * FROM product\",cnxn)\n",
    "df_bonus = pd.read_sql_query(\"SELECT * FROM bonus\",cnxn)\n",
    "df_department = pd.read_sql_query(\"SELECT * FROM department\",cnxn)\n",
    "df_employee = pd.read_sql_query(\"SELECT * FROM employee\",cnxn)\n",
    "df_customer = pd.read_sql_query(\"SELECT * FROM customer\",cnxn)\n",
    "df_region = pd.read_sql_query(\"SELECT * FROM region\",cnxn)\n",
    "df_sales_order = pd.read_sql_query(\"SELECT * FROM sales_order\",cnxn)\n",
    "df_sales_order_item = pd.read_sql_query(\"SELECT * FROM sales_order_item\",cnxn)\n",
    "df_state = pd.read_sql_query(\"SELECT * FROM state\",cnxn)"
   ],
   "metadata": {
    "collapsed": false,
    "ExecuteTime": {
     "end_time": "2024-05-24T13:17:53.859333500Z",
     "start_time": "2024-05-24T13:17:53.783315900Z"
    }
   },
   "id": "a6c79806f825ac50",
   "execution_count": 7
  },
  {
   "cell_type": "code",
   "outputs": [],
   "source": [],
   "metadata": {
    "collapsed": false
   },
   "id": "c028ec3de1c70261"
  }
 ],
 "metadata": {
  "kernelspec": {
   "display_name": "Python 3",
   "language": "python",
   "name": "python3"
  },
  "language_info": {
   "codemirror_mode": {
    "name": "ipython",
    "version": 2
   },
   "file_extension": ".py",
   "mimetype": "text/x-python",
   "name": "python",
   "nbconvert_exporter": "python",
   "pygments_lexer": "ipython2",
   "version": "2.7.6"
  }
 },
 "nbformat": 4,
 "nbformat_minor": 5
}
