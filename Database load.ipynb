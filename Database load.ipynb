{
 "cells": [
  {
   "cell_type": "code",
   "execution_count": 93,
   "id": "initial_id",
   "metadata": {
    "collapsed": true,
    "ExecuteTime": {
     "end_time": "2024-05-28T20:39:34.523653400Z",
     "start_time": "2024-05-28T20:39:34.443566600Z"
    }
   },
   "outputs": [
    {
     "name": "stdout",
     "output_type": "stream",
     "text": [
      "bonus\n",
      "customer\n",
      "department\n",
      "employee\n",
      "product\n",
      "region\n",
      "sales_order\n",
      "sales_order_item\n",
      "state\n"
     ]
    }
   ],
   "source": [
    "import pyodbc\n",
    "import pandas as pd\n",
    "import warnings\n",
    "\n",
    "conn_str = (\n",
    "    r'DRIVER={Microsoft Access Driver (*.mdb, *.accdb)};'\n",
    "    r'DBQ=./Databases/aenc.accdb;'\n",
    ")\n",
    "cnxn = pyodbc.connect(conn_str)\n",
    "crsr = cnxn.cursor()\n",
    "for table_info in crsr.tables(tableType='TABLE'):\n",
    "    print(table_info.table_name)"
   ]
  },
  {
   "cell_type": "code",
   "outputs": [
    {
     "name": "stderr",
     "output_type": "stream",
     "text": [
      "C:\\Users\\jboek\\AppData\\Local\\Temp\\ipykernel_20860\\1333140308.py:1: UserWarning: pandas only supports SQLAlchemy connectable (engine/connection) or database string URI or sqlite3 DBAPI2 connection. Other DBAPI2 objects are not tested. Please consider using SQLAlchemy.\n",
      "  aenc_df_product = pd.read_sql_query(\"SELECT * FROM product\",cnxn)\n",
      "C:\\Users\\jboek\\AppData\\Local\\Temp\\ipykernel_20860\\1333140308.py:2: UserWarning: pandas only supports SQLAlchemy connectable (engine/connection) or database string URI or sqlite3 DBAPI2 connection. Other DBAPI2 objects are not tested. Please consider using SQLAlchemy.\n",
      "  aenc_df_bonus = pd.read_sql_query(\"SELECT * FROM bonus\",cnxn)\n",
      "C:\\Users\\jboek\\AppData\\Local\\Temp\\ipykernel_20860\\1333140308.py:3: UserWarning: pandas only supports SQLAlchemy connectable (engine/connection) or database string URI or sqlite3 DBAPI2 connection. Other DBAPI2 objects are not tested. Please consider using SQLAlchemy.\n",
      "  aenc_df_department = pd.read_sql_query(\"SELECT * FROM department\",cnxn)\n",
      "C:\\Users\\jboek\\AppData\\Local\\Temp\\ipykernel_20860\\1333140308.py:4: UserWarning: pandas only supports SQLAlchemy connectable (engine/connection) or database string URI or sqlite3 DBAPI2 connection. Other DBAPI2 objects are not tested. Please consider using SQLAlchemy.\n",
      "  aenc_df_employee = pd.read_sql_query(\"SELECT * FROM employee\",cnxn)\n",
      "C:\\Users\\jboek\\AppData\\Local\\Temp\\ipykernel_20860\\1333140308.py:5: UserWarning: pandas only supports SQLAlchemy connectable (engine/connection) or database string URI or sqlite3 DBAPI2 connection. Other DBAPI2 objects are not tested. Please consider using SQLAlchemy.\n",
      "  aenc_df_customer = pd.read_sql_query(\"SELECT * FROM customer\",cnxn)\n",
      "C:\\Users\\jboek\\AppData\\Local\\Temp\\ipykernel_20860\\1333140308.py:6: UserWarning: pandas only supports SQLAlchemy connectable (engine/connection) or database string URI or sqlite3 DBAPI2 connection. Other DBAPI2 objects are not tested. Please consider using SQLAlchemy.\n",
      "  aenc_df_region = pd.read_sql_query(\"SELECT * FROM region\",cnxn)\n",
      "C:\\Users\\jboek\\AppData\\Local\\Temp\\ipykernel_20860\\1333140308.py:7: UserWarning: pandas only supports SQLAlchemy connectable (engine/connection) or database string URI or sqlite3 DBAPI2 connection. Other DBAPI2 objects are not tested. Please consider using SQLAlchemy.\n",
      "  aenc_df_sales_order = pd.read_sql_query(\"SELECT * FROM sales_order\",cnxn)\n",
      "C:\\Users\\jboek\\AppData\\Local\\Temp\\ipykernel_20860\\1333140308.py:8: UserWarning: pandas only supports SQLAlchemy connectable (engine/connection) or database string URI or sqlite3 DBAPI2 connection. Other DBAPI2 objects are not tested. Please consider using SQLAlchemy.\n",
      "  aenc_df_sales_order_item = pd.read_sql_query(\"SELECT * FROM sales_order_item\",cnxn)\n",
      "C:\\Users\\jboek\\AppData\\Local\\Temp\\ipykernel_20860\\1333140308.py:9: UserWarning: pandas only supports SQLAlchemy connectable (engine/connection) or database string URI or sqlite3 DBAPI2 connection. Other DBAPI2 objects are not tested. Please consider using SQLAlchemy.\n",
      "  aenc_df_state = pd.read_sql_query(\"SELECT * FROM state\",cnxn)\n"
     ]
    }
   ],
   "source": [
    "aenc_df_product = pd.read_sql_query(\"SELECT * FROM product\",cnxn)\n",
    "aenc_df_bonus = pd.read_sql_query(\"SELECT * FROM bonus\",cnxn)\n",
    "aenc_df_department = pd.read_sql_query(\"SELECT * FROM department\",cnxn)\n",
    "aenc_df_employee = pd.read_sql_query(\"SELECT * FROM employee\",cnxn)\n",
    "aenc_df_customer = pd.read_sql_query(\"SELECT * FROM customer\",cnxn)\n",
    "aenc_df_region = pd.read_sql_query(\"SELECT * FROM region\",cnxn)\n",
    "aenc_df_sales_order = pd.read_sql_query(\"SELECT * FROM sales_order\",cnxn)\n",
    "aenc_df_sales_order_item = pd.read_sql_query(\"SELECT * FROM sales_order_item\",cnxn)\n",
    "aenc_df_state = pd.read_sql_query(\"SELECT * FROM state\",cnxn)"
   ],
   "metadata": {
    "collapsed": false,
    "ExecuteTime": {
     "end_time": "2024-05-28T20:39:34.524639600Z",
     "start_time": "2024-05-28T20:39:34.472572300Z"
    }
   },
   "id": "a6c79806f825ac50",
   "execution_count": 94
  },
  {
   "cell_type": "code",
   "outputs": [],
   "source": [
    "DB = {'servername': 'LAPTOP-JCB37LKM\\SQLEXPRESS',\n",
    "      'database': 'NorthWind'}\n",
    "\n",
    "export_conn = pyodbc.connect('DRIVER={SQL Server};SERVER='+ DB['servername'] + ';DATABASE=' + DB['database'] + ';Trusted_Connection=yes')"
   ],
   "metadata": {
    "collapsed": false,
    "ExecuteTime": {
     "end_time": "2024-05-28T20:39:34.571650400Z",
     "start_time": "2024-05-28T20:39:34.518071900Z"
    }
   },
   "id": "6946aa5b8b003bc",
   "execution_count": 95
  },
  {
   "cell_type": "code",
   "outputs": [],
   "source": [
    "DB2 = {'servername': 'LAPTOP-JCB37LKM\\SQLEXPRESS',\n",
    "      'database': 'AdventureWorks2019'}\n",
    "\n",
    "export_conn_adventurewors = pyodbc.connect('DRIVER={SQL Server};SERVER='+ DB2['servername'] + ';DATABASE=' + DB2['database'] + ';Trusted_Connection=yes')"
   ],
   "metadata": {
    "collapsed": false,
    "ExecuteTime": {
     "end_time": "2024-05-28T20:39:34.572648600Z",
     "start_time": "2024-05-28T20:39:34.549646Z"
    }
   },
   "id": "7037c5e157bcd004",
   "execution_count": 96
  },
  {
   "cell_type": "code",
   "outputs": [
    {
     "name": "stderr",
     "output_type": "stream",
     "text": [
      "C:\\Users\\jboek\\AppData\\Local\\Temp\\ipykernel_20860\\4184286982.py:1: UserWarning: pandas only supports SQLAlchemy connectable (engine/connection) or database string URI or sqlite3 DBAPI2 connection. Other DBAPI2 objects are not tested. Please consider using SQLAlchemy.\n",
      "  adv_df_product = pd.read_sql_query(\"SELECT ProductID,Name,ProductSubcategoryID from Production.Product\",export_conn_adventurewors)\n",
      "C:\\Users\\jboek\\AppData\\Local\\Temp\\ipykernel_20860\\4184286982.py:2: UserWarning: pandas only supports SQLAlchemy connectable (engine/connection) or database string URI or sqlite3 DBAPI2 connection. Other DBAPI2 objects are not tested. Please consider using SQLAlchemy.\n",
      "  adv_df_product_subcategory = pd.read_sql_query(\"SELECT ProductSubcategoryID,Name,ProductCategoryID from Production.ProductSubcategory\",export_conn_adventurewors)\n",
      "C:\\Users\\jboek\\AppData\\Local\\Temp\\ipykernel_20860\\4184286982.py:3: UserWarning: pandas only supports SQLAlchemy connectable (engine/connection) or database string URI or sqlite3 DBAPI2 connection. Other DBAPI2 objects are not tested. Please consider using SQLAlchemy.\n",
      "  adv_df_product_category = pd.read_sql_query(\"SELECT Name,ProductCategoryID from Production.ProductCategory\",export_conn_adventurewors)\n"
     ]
    }
   ],
   "source": [
    "adv_df_product = pd.read_sql_query(\"SELECT ProductID,Name,ProductSubcategoryID from Production.Product\",export_conn_adventurewors)\n",
    "adv_df_product_subcategory = pd.read_sql_query(\"SELECT ProductSubcategoryID,Name,ProductCategoryID from Production.ProductSubcategory\",export_conn_adventurewors)\n",
    "adv_df_product_category = pd.read_sql_query(\"SELECT Name,ProductCategoryID from Production.ProductCategory\",export_conn_adventurewors)"
   ],
   "metadata": {
    "collapsed": false,
    "ExecuteTime": {
     "end_time": "2024-05-28T20:39:34.599655300Z",
     "start_time": "2024-05-28T20:39:34.567648500Z"
    }
   },
   "id": "5d35c567720ff74d",
   "execution_count": 97
  },
  {
   "cell_type": "code",
   "outputs": [
    {
     "name": "stderr",
     "output_type": "stream",
     "text": [
      "C:\\Users\\jboek\\AppData\\Local\\Temp\\ipykernel_20860\\425355533.py:1: UserWarning: pandas only supports SQLAlchemy connectable (engine/connection) or database string URI or sqlite3 DBAPI2 connection. Other DBAPI2 objects are not tested. Please consider using SQLAlchemy.\n",
      "  nw_df_product = pd.read_sql_query(\"SELECT * from Products\",export_conn)\n",
      "C:\\Users\\jboek\\AppData\\Local\\Temp\\ipykernel_20860\\425355533.py:2: UserWarning: pandas only supports SQLAlchemy connectable (engine/connection) or database string URI or sqlite3 DBAPI2 connection. Other DBAPI2 objects are not tested. Please consider using SQLAlchemy.\n",
      "  nw_df_category = pd.read_sql_query(\"SELECT CategoryID,CategoryName from Categories\",export_conn)\n"
     ]
    }
   ],
   "source": [
    "nw_df_product = pd.read_sql_query(\"SELECT * from Products\",export_conn)\n",
    "nw_df_category = pd.read_sql_query(\"SELECT CategoryID,CategoryName from Categories\",export_conn)"
   ],
   "metadata": {
    "collapsed": false,
    "ExecuteTime": {
     "end_time": "2024-05-28T20:39:34.619657800Z",
     "start_time": "2024-05-28T20:39:34.597655Z"
    }
   },
   "id": "caa6e262484b2dbb",
   "execution_count": 98
  },
  {
   "cell_type": "code",
   "outputs": [
    {
     "data": {
      "text/plain": "     ProductID                   Name      Subcategory    Category  \\\n0            1        Adjustable Race              NaN         NaN   \n1            2           Bearing Ball              NaN         NaN   \n2            3        BB Ball Bearing              NaN         NaN   \n3            4  Headset Ball Bearings              NaN         NaN   \n4          316                  Blade              NaN         NaN   \n..         ...                    ...              ...         ...   \n499        995      ML Bottom Bracket  Bottom Brackets  Components   \n500        996      HL Bottom Bracket  Bottom Brackets  Components   \n501        997     Road-750 Black, 44       Road Bikes       Bikes   \n502        998     Road-750 Black, 48       Road Bikes       Bikes   \n503        999     Road-750 Black, 52       Road Bikes       Bikes   \n\n             Source  \n0    AdventureWorks  \n1    AdventureWorks  \n2    AdventureWorks  \n3    AdventureWorks  \n4    AdventureWorks  \n..              ...  \n499  AdventureWorks  \n500  AdventureWorks  \n501  AdventureWorks  \n502  AdventureWorks  \n503  AdventureWorks  \n\n[504 rows x 5 columns]",
      "text/html": "<div>\n<style scoped>\n    .dataframe tbody tr th:only-of-type {\n        vertical-align: middle;\n    }\n\n    .dataframe tbody tr th {\n        vertical-align: top;\n    }\n\n    .dataframe thead th {\n        text-align: right;\n    }\n</style>\n<table border=\"1\" class=\"dataframe\">\n  <thead>\n    <tr style=\"text-align: right;\">\n      <th></th>\n      <th>ProductID</th>\n      <th>Name</th>\n      <th>Subcategory</th>\n      <th>Category</th>\n      <th>Source</th>\n    </tr>\n  </thead>\n  <tbody>\n    <tr>\n      <th>0</th>\n      <td>1</td>\n      <td>Adjustable Race</td>\n      <td>NaN</td>\n      <td>NaN</td>\n      <td>AdventureWorks</td>\n    </tr>\n    <tr>\n      <th>1</th>\n      <td>2</td>\n      <td>Bearing Ball</td>\n      <td>NaN</td>\n      <td>NaN</td>\n      <td>AdventureWorks</td>\n    </tr>\n    <tr>\n      <th>2</th>\n      <td>3</td>\n      <td>BB Ball Bearing</td>\n      <td>NaN</td>\n      <td>NaN</td>\n      <td>AdventureWorks</td>\n    </tr>\n    <tr>\n      <th>3</th>\n      <td>4</td>\n      <td>Headset Ball Bearings</td>\n      <td>NaN</td>\n      <td>NaN</td>\n      <td>AdventureWorks</td>\n    </tr>\n    <tr>\n      <th>4</th>\n      <td>316</td>\n      <td>Blade</td>\n      <td>NaN</td>\n      <td>NaN</td>\n      <td>AdventureWorks</td>\n    </tr>\n    <tr>\n      <th>...</th>\n      <td>...</td>\n      <td>...</td>\n      <td>...</td>\n      <td>...</td>\n      <td>...</td>\n    </tr>\n    <tr>\n      <th>499</th>\n      <td>995</td>\n      <td>ML Bottom Bracket</td>\n      <td>Bottom Brackets</td>\n      <td>Components</td>\n      <td>AdventureWorks</td>\n    </tr>\n    <tr>\n      <th>500</th>\n      <td>996</td>\n      <td>HL Bottom Bracket</td>\n      <td>Bottom Brackets</td>\n      <td>Components</td>\n      <td>AdventureWorks</td>\n    </tr>\n    <tr>\n      <th>501</th>\n      <td>997</td>\n      <td>Road-750 Black, 44</td>\n      <td>Road Bikes</td>\n      <td>Bikes</td>\n      <td>AdventureWorks</td>\n    </tr>\n    <tr>\n      <th>502</th>\n      <td>998</td>\n      <td>Road-750 Black, 48</td>\n      <td>Road Bikes</td>\n      <td>Bikes</td>\n      <td>AdventureWorks</td>\n    </tr>\n    <tr>\n      <th>503</th>\n      <td>999</td>\n      <td>Road-750 Black, 52</td>\n      <td>Road Bikes</td>\n      <td>Bikes</td>\n      <td>AdventureWorks</td>\n    </tr>\n  </tbody>\n</table>\n<p>504 rows × 5 columns</p>\n</div>"
     },
     "execution_count": 99,
     "metadata": {},
     "output_type": "execute_result"
    }
   ],
   "source": [
    "adv_product_merged = pd.merge(adv_df_product,adv_df_product_subcategory,on='ProductSubcategoryID',how='left')\n",
    "adv_product_merged = pd.merge(adv_product_merged,adv_df_product_category,on='ProductCategoryID',how='left')\n",
    "\n",
    "adv_product_merged = adv_product_merged.drop(['ProductSubcategoryID','ProductCategoryID'],axis=1)\n",
    "adv_product_merged = adv_product_merged.rename(columns={\n",
    "    'Name': 'Category',\n",
    "    'Name_y': 'Subcategory',\n",
    "    'Name_x': 'Name',\n",
    "\n",
    "})\n",
    "adv_product_merged['Source'] = 'AdventureWorks'\n",
    "adv_product_final = adv_product_merged.reindex(columns=['ProductID', 'Name', 'Subcategory','Category','Source'])\n",
    "adv_product_final"
   ],
   "metadata": {
    "collapsed": false,
    "ExecuteTime": {
     "end_time": "2024-05-28T20:39:34.671709300Z",
     "start_time": "2024-05-28T20:39:34.613657500Z"
    }
   },
   "id": "4b5ed27c558eb86c",
   "execution_count": 99
  },
  {
   "cell_type": "code",
   "outputs": [
    {
     "data": {
      "text/plain": "  ProductID               Name   Subcategory     Category Source\n0       300           Tank Top     Tee Shirt     Clothing   AenC\n1       301             V-neck     Tee Shirt     Clothing   AenC\n2       302          Crew Neck     Tee Shirt     Clothing   AenC\n3       400         Cotton Cap  Baseball Cap  Accessories   AenC\n4       401           Wool cap  Baseball Cap  Accessories   AenC\n5       500        Cloth Visor         Visor  Accessories   AenC\n6       501      Plastic Visor         Visor  Accessories   AenC\n7       600  Hooded Sweatshirt    Sweatshirt     Clothing   AenC\n8       601  Zipped Sweatshirt    Sweatshirt     Clothing   AenC\n9       700      Cotton Shorts        Shorts     Clothing   AenC",
      "text/html": "<div>\n<style scoped>\n    .dataframe tbody tr th:only-of-type {\n        vertical-align: middle;\n    }\n\n    .dataframe tbody tr th {\n        vertical-align: top;\n    }\n\n    .dataframe thead th {\n        text-align: right;\n    }\n</style>\n<table border=\"1\" class=\"dataframe\">\n  <thead>\n    <tr style=\"text-align: right;\">\n      <th></th>\n      <th>ProductID</th>\n      <th>Name</th>\n      <th>Subcategory</th>\n      <th>Category</th>\n      <th>Source</th>\n    </tr>\n  </thead>\n  <tbody>\n    <tr>\n      <th>0</th>\n      <td>300</td>\n      <td>Tank Top</td>\n      <td>Tee Shirt</td>\n      <td>Clothing</td>\n      <td>AenC</td>\n    </tr>\n    <tr>\n      <th>1</th>\n      <td>301</td>\n      <td>V-neck</td>\n      <td>Tee Shirt</td>\n      <td>Clothing</td>\n      <td>AenC</td>\n    </tr>\n    <tr>\n      <th>2</th>\n      <td>302</td>\n      <td>Crew Neck</td>\n      <td>Tee Shirt</td>\n      <td>Clothing</td>\n      <td>AenC</td>\n    </tr>\n    <tr>\n      <th>3</th>\n      <td>400</td>\n      <td>Cotton Cap</td>\n      <td>Baseball Cap</td>\n      <td>Accessories</td>\n      <td>AenC</td>\n    </tr>\n    <tr>\n      <th>4</th>\n      <td>401</td>\n      <td>Wool cap</td>\n      <td>Baseball Cap</td>\n      <td>Accessories</td>\n      <td>AenC</td>\n    </tr>\n    <tr>\n      <th>5</th>\n      <td>500</td>\n      <td>Cloth Visor</td>\n      <td>Visor</td>\n      <td>Accessories</td>\n      <td>AenC</td>\n    </tr>\n    <tr>\n      <th>6</th>\n      <td>501</td>\n      <td>Plastic Visor</td>\n      <td>Visor</td>\n      <td>Accessories</td>\n      <td>AenC</td>\n    </tr>\n    <tr>\n      <th>7</th>\n      <td>600</td>\n      <td>Hooded Sweatshirt</td>\n      <td>Sweatshirt</td>\n      <td>Clothing</td>\n      <td>AenC</td>\n    </tr>\n    <tr>\n      <th>8</th>\n      <td>601</td>\n      <td>Zipped Sweatshirt</td>\n      <td>Sweatshirt</td>\n      <td>Clothing</td>\n      <td>AenC</td>\n    </tr>\n    <tr>\n      <th>9</th>\n      <td>700</td>\n      <td>Cotton Shorts</td>\n      <td>Shorts</td>\n      <td>Clothing</td>\n      <td>AenC</td>\n    </tr>\n  </tbody>\n</table>\n</div>"
     },
     "execution_count": 100,
     "metadata": {},
     "output_type": "execute_result"
    }
   ],
   "source": [
    "aenc_df_product_dropped = aenc_df_product.drop(['picture_name','quantity','prod_size','unit_price'],axis=1)\n",
    "aenc_df_product_dropped['Source'] = 'AenC'\n",
    "aenc_df_product_dropped = aenc_df_product_dropped.rename(columns={\n",
    "    'id': 'ProductID',\n",
    "    'name': 'Subcategory',\n",
    "    'description': 'Name',\n",
    "    'color': 'Color',\n",
    "\n",
    "})\n",
    "aenc_df_product_dropped['Category'] = aenc_df_product_dropped['Category'].replace('Clothes', 'Clothing')\n",
    "\n",
    "aenc_df_product_final = aenc_df_product_dropped.reindex(columns=['ProductID', 'Name', 'Subcategory','Category','Source'])\n",
    "aenc_df_product_final"
   ],
   "metadata": {
    "collapsed": false,
    "ExecuteTime": {
     "end_time": "2024-05-28T20:39:34.699714400Z",
     "start_time": "2024-05-28T20:39:34.652713300Z"
    }
   },
   "id": "be6ef6eacec5ce15",
   "execution_count": 100
  },
  {
   "cell_type": "code",
   "outputs": [
    {
     "data": {
      "text/plain": "    ProductID                             Name Subcategory Category     Source\n0           1                             Chai   Beverages     Food  NorthWind\n1           2                            Chang   Beverages     Food  NorthWind\n2           3                    Aniseed Syrup  Condiments     Food  NorthWind\n3           4     Chef Anton's Cajun Seasoning  Condiments     Food  NorthWind\n4           5           Chef Anton's Gumbo Mix  Condiments     Food  NorthWind\n..        ...                              ...         ...      ...        ...\n72         73                       Röd Kaviar     Seafood     Food  NorthWind\n73         74                    Longlife Tofu     Produce     Food  NorthWind\n74         75             Rhönbräu Klosterbier   Beverages     Food  NorthWind\n75         76                     Lakkalikööri   Beverages     Food  NorthWind\n76         77  Original Frankfurter grüne Soße  Condiments     Food  NorthWind\n\n[77 rows x 5 columns]",
      "text/html": "<div>\n<style scoped>\n    .dataframe tbody tr th:only-of-type {\n        vertical-align: middle;\n    }\n\n    .dataframe tbody tr th {\n        vertical-align: top;\n    }\n\n    .dataframe thead th {\n        text-align: right;\n    }\n</style>\n<table border=\"1\" class=\"dataframe\">\n  <thead>\n    <tr style=\"text-align: right;\">\n      <th></th>\n      <th>ProductID</th>\n      <th>Name</th>\n      <th>Subcategory</th>\n      <th>Category</th>\n      <th>Source</th>\n    </tr>\n  </thead>\n  <tbody>\n    <tr>\n      <th>0</th>\n      <td>1</td>\n      <td>Chai</td>\n      <td>Beverages</td>\n      <td>Food</td>\n      <td>NorthWind</td>\n    </tr>\n    <tr>\n      <th>1</th>\n      <td>2</td>\n      <td>Chang</td>\n      <td>Beverages</td>\n      <td>Food</td>\n      <td>NorthWind</td>\n    </tr>\n    <tr>\n      <th>2</th>\n      <td>3</td>\n      <td>Aniseed Syrup</td>\n      <td>Condiments</td>\n      <td>Food</td>\n      <td>NorthWind</td>\n    </tr>\n    <tr>\n      <th>3</th>\n      <td>4</td>\n      <td>Chef Anton's Cajun Seasoning</td>\n      <td>Condiments</td>\n      <td>Food</td>\n      <td>NorthWind</td>\n    </tr>\n    <tr>\n      <th>4</th>\n      <td>5</td>\n      <td>Chef Anton's Gumbo Mix</td>\n      <td>Condiments</td>\n      <td>Food</td>\n      <td>NorthWind</td>\n    </tr>\n    <tr>\n      <th>...</th>\n      <td>...</td>\n      <td>...</td>\n      <td>...</td>\n      <td>...</td>\n      <td>...</td>\n    </tr>\n    <tr>\n      <th>72</th>\n      <td>73</td>\n      <td>Röd Kaviar</td>\n      <td>Seafood</td>\n      <td>Food</td>\n      <td>NorthWind</td>\n    </tr>\n    <tr>\n      <th>73</th>\n      <td>74</td>\n      <td>Longlife Tofu</td>\n      <td>Produce</td>\n      <td>Food</td>\n      <td>NorthWind</td>\n    </tr>\n    <tr>\n      <th>74</th>\n      <td>75</td>\n      <td>Rhönbräu Klosterbier</td>\n      <td>Beverages</td>\n      <td>Food</td>\n      <td>NorthWind</td>\n    </tr>\n    <tr>\n      <th>75</th>\n      <td>76</td>\n      <td>Lakkalikööri</td>\n      <td>Beverages</td>\n      <td>Food</td>\n      <td>NorthWind</td>\n    </tr>\n    <tr>\n      <th>76</th>\n      <td>77</td>\n      <td>Original Frankfurter grüne Soße</td>\n      <td>Condiments</td>\n      <td>Food</td>\n      <td>NorthWind</td>\n    </tr>\n  </tbody>\n</table>\n<p>77 rows × 5 columns</p>\n</div>"
     },
     "execution_count": 101,
     "metadata": {},
     "output_type": "execute_result"
    }
   ],
   "source": [
    "nw_df_product_dropped = nw_df_product.drop(['Discontinued','ReorderLevel','UnitPrice','UnitsInStock','QuantityPerUnit','UnitsOnOrder','SupplierID'],axis=1)\n",
    "nw_df_product_merged = pd.merge(nw_df_product_dropped,nw_df_category,on='CategoryID',how='left')\n",
    "nw_df_product_merged = nw_df_product_merged.drop('CategoryID',axis=1)\n",
    "nw_df_product_merged['Source'] = 'NorthWind'\n",
    "nw_df_product_merged['Category'] = 'Food'\n",
    "nw_df_product_merged = nw_df_product_merged.rename(columns={\n",
    "    'ProductName': 'Name',\n",
    "    'CategoryName': 'Subcategory',\n",
    "    \n",
    "})\n",
    "nw_df_product_final = nw_df_product_merged.reindex(columns=['ProductID', 'Name','Subcategory','Category','Source'])\n",
    "nw_df_product_final"
   ],
   "metadata": {
    "collapsed": false,
    "ExecuteTime": {
     "end_time": "2024-05-28T20:39:34.700715100Z",
     "start_time": "2024-05-28T20:39:34.662707600Z"
    }
   },
   "id": "e01e1caa3db4c581",
   "execution_count": 101
  },
  {
   "cell_type": "code",
   "outputs": [
    {
     "data": {
      "text/plain": "     ProductKey ProductID                             Name Subcategory  \\\n0             1         1                  Adjustable Race         NaN   \n1             2         2                     Bearing Ball         NaN   \n2             3         3                  BB Ball Bearing         NaN   \n3             4         4            Headset Ball Bearings         NaN   \n4             5       316                            Blade         NaN   \n..          ...       ...                              ...         ...   \n586         587        73                       Röd Kaviar     Seafood   \n587         588        74                    Longlife Tofu     Produce   \n588         589        75             Rhönbräu Klosterbier   Beverages   \n589         590        76                     Lakkalikööri   Beverages   \n590         591        77  Original Frankfurter grüne Soße  Condiments   \n\n    Category          Source  \n0        NaN  AdventureWorks  \n1        NaN  AdventureWorks  \n2        NaN  AdventureWorks  \n3        NaN  AdventureWorks  \n4        NaN  AdventureWorks  \n..       ...             ...  \n586     Food       NorthWind  \n587     Food       NorthWind  \n588     Food       NorthWind  \n589     Food       NorthWind  \n590     Food       NorthWind  \n\n[591 rows x 6 columns]",
      "text/html": "<div>\n<style scoped>\n    .dataframe tbody tr th:only-of-type {\n        vertical-align: middle;\n    }\n\n    .dataframe tbody tr th {\n        vertical-align: top;\n    }\n\n    .dataframe thead th {\n        text-align: right;\n    }\n</style>\n<table border=\"1\" class=\"dataframe\">\n  <thead>\n    <tr style=\"text-align: right;\">\n      <th></th>\n      <th>ProductKey</th>\n      <th>ProductID</th>\n      <th>Name</th>\n      <th>Subcategory</th>\n      <th>Category</th>\n      <th>Source</th>\n    </tr>\n  </thead>\n  <tbody>\n    <tr>\n      <th>0</th>\n      <td>1</td>\n      <td>1</td>\n      <td>Adjustable Race</td>\n      <td>NaN</td>\n      <td>NaN</td>\n      <td>AdventureWorks</td>\n    </tr>\n    <tr>\n      <th>1</th>\n      <td>2</td>\n      <td>2</td>\n      <td>Bearing Ball</td>\n      <td>NaN</td>\n      <td>NaN</td>\n      <td>AdventureWorks</td>\n    </tr>\n    <tr>\n      <th>2</th>\n      <td>3</td>\n      <td>3</td>\n      <td>BB Ball Bearing</td>\n      <td>NaN</td>\n      <td>NaN</td>\n      <td>AdventureWorks</td>\n    </tr>\n    <tr>\n      <th>3</th>\n      <td>4</td>\n      <td>4</td>\n      <td>Headset Ball Bearings</td>\n      <td>NaN</td>\n      <td>NaN</td>\n      <td>AdventureWorks</td>\n    </tr>\n    <tr>\n      <th>4</th>\n      <td>5</td>\n      <td>316</td>\n      <td>Blade</td>\n      <td>NaN</td>\n      <td>NaN</td>\n      <td>AdventureWorks</td>\n    </tr>\n    <tr>\n      <th>...</th>\n      <td>...</td>\n      <td>...</td>\n      <td>...</td>\n      <td>...</td>\n      <td>...</td>\n      <td>...</td>\n    </tr>\n    <tr>\n      <th>586</th>\n      <td>587</td>\n      <td>73</td>\n      <td>Röd Kaviar</td>\n      <td>Seafood</td>\n      <td>Food</td>\n      <td>NorthWind</td>\n    </tr>\n    <tr>\n      <th>587</th>\n      <td>588</td>\n      <td>74</td>\n      <td>Longlife Tofu</td>\n      <td>Produce</td>\n      <td>Food</td>\n      <td>NorthWind</td>\n    </tr>\n    <tr>\n      <th>588</th>\n      <td>589</td>\n      <td>75</td>\n      <td>Rhönbräu Klosterbier</td>\n      <td>Beverages</td>\n      <td>Food</td>\n      <td>NorthWind</td>\n    </tr>\n    <tr>\n      <th>589</th>\n      <td>590</td>\n      <td>76</td>\n      <td>Lakkalikööri</td>\n      <td>Beverages</td>\n      <td>Food</td>\n      <td>NorthWind</td>\n    </tr>\n    <tr>\n      <th>590</th>\n      <td>591</td>\n      <td>77</td>\n      <td>Original Frankfurter grüne Soße</td>\n      <td>Condiments</td>\n      <td>Food</td>\n      <td>NorthWind</td>\n    </tr>\n  </tbody>\n</table>\n<p>591 rows × 6 columns</p>\n</div>"
     },
     "execution_count": 107,
     "metadata": {},
     "output_type": "execute_result"
    }
   ],
   "source": [
    "combined_products = pd.concat([adv_product_final, aenc_df_product_final, nw_df_product_final]).reset_index(drop=True)\n",
    "combined_products['ProductKey'] = combined_products.index + 1\n",
    "combined_products = combined_products.reindex(columns=['ProductKey','ProductID', 'Name','Subcategory','Category','Source'])\n",
    "combined_products"
   ],
   "metadata": {
    "collapsed": false,
    "ExecuteTime": {
     "end_time": "2024-05-28T20:46:09.760903Z",
     "start_time": "2024-05-28T20:46:09.727392500Z"
    }
   },
   "id": "6040d1b7b494cd2d",
   "execution_count": 107
  }
 ],
 "metadata": {
  "kernelspec": {
   "display_name": "Python 3",
   "language": "python",
   "name": "python3"
  },
  "language_info": {
   "codemirror_mode": {
    "name": "ipython",
    "version": 2
   },
   "file_extension": ".py",
   "mimetype": "text/x-python",
   "name": "python",
   "nbconvert_exporter": "python",
   "pygments_lexer": "ipython2",
   "version": "2.7.6"
  }
 },
 "nbformat": 4,
 "nbformat_minor": 5
}
