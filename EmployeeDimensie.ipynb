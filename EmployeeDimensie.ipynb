{
 "cells": [
  {
   "cell_type": "code",
   "execution_count": 149,
   "id": "initial_id",
   "metadata": {
    "collapsed": true,
    "ExecuteTime": {
     "end_time": "2024-05-30T17:03:25.401087400Z",
     "start_time": "2024-05-30T17:03:25.336071700Z"
    }
   },
   "outputs": [],
   "source": [
    "import pyodbc\n",
    "import pandas as pd\n",
    "import warnings\n",
    "\n",
    "conn_str = (\n",
    "    r'DRIVER={Microsoft Access Driver (*.mdb, *.accdb)};'\n",
    "    r'DBQ=./Databases/aenc.accdb;'\n",
    ")\n",
    "cnxn = pyodbc.connect(conn_str)\n",
    "crsr = cnxn.cursor()\n",
    "DBNorthWind = {'servername': 'LAPTOP-JCB37LKM\\SQLEXPRESS',\n",
    "      'database': 'NorthWind'}\n",
    "\n",
    "export_conn_NorthWind = pyodbc.connect('DRIVER={SQL Server};SERVER='+ DBNorthWind['servername'] + ';DATABASE=' + DBNorthWind['database'] + ';Trusted_Connection=yes')\n",
    "\n",
    "DBAdventureWorks = {'servername': 'LAPTOP-JCB37LKM\\SQLEXPRESS',\n",
    "       'database': 'AdventureWorks2019'}\n",
    "\n",
    "export_conn_AdventureWorks = pyodbc.connect('DRIVER={SQL Server};SERVER='+ DBAdventureWorks['servername'] + ';DATABASE=' + DBAdventureWorks['database'] + ';Trusted_Connection=yes')\n"
   ]
  },
  {
   "cell_type": "code",
   "outputs": [
    {
     "name": "stderr",
     "output_type": "stream",
     "text": [
      "C:\\Users\\jboek\\AppData\\Local\\Temp\\ipykernel_2916\\4102220782.py:1: UserWarning: pandas only supports SQLAlchemy connectable (engine/connection) or database string URI or sqlite3 DBAPI2 connection. Other DBAPI2 objects are not tested. Please consider using SQLAlchemy.\n",
      "  aenc_df_employee = pd.read_sql_query(\"SELECT emp_id,emp_fname,emp_lname,street,city,state FROM employee\",cnxn)\n",
      "C:\\Users\\jboek\\AppData\\Local\\Temp\\ipykernel_2916\\4102220782.py:2: UserWarning: pandas only supports SQLAlchemy connectable (engine/connection) or database string URI or sqlite3 DBAPI2 connection. Other DBAPI2 objects are not tested. Please consider using SQLAlchemy.\n",
      "  nw_df_employee = pd.read_sql_query(\"SELECT EmployeeID,FirstName,LastName,Address,City,PostalCode,Country FROM employees\",export_conn_NorthWind)\n",
      "C:\\Users\\jboek\\AppData\\Local\\Temp\\ipykernel_2916\\4102220782.py:3: UserWarning: pandas only supports SQLAlchemy connectable (engine/connection) or database string URI or sqlite3 DBAPI2 connection. Other DBAPI2 objects are not tested. Please consider using SQLAlchemy.\n",
      "  adv_df_employee = pd.read_sql_query(\"SELECT BusinessEntityID FROM HumanResources.Employee\",export_conn_AdventureWorks)\n",
      "C:\\Users\\jboek\\AppData\\Local\\Temp\\ipykernel_2916\\4102220782.py:4: UserWarning: pandas only supports SQLAlchemy connectable (engine/connection) or database string URI or sqlite3 DBAPI2 connection. Other DBAPI2 objects are not tested. Please consider using SQLAlchemy.\n",
      "  adv_df_salePerson = pd.read_sql_query(\"SELECT BusinessEntityID FROM Sales.SalesPerson\",export_conn_AdventureWorks)\n",
      "C:\\Users\\jboek\\AppData\\Local\\Temp\\ipykernel_2916\\4102220782.py:5: UserWarning: pandas only supports SQLAlchemy connectable (engine/connection) or database string URI or sqlite3 DBAPI2 connection. Other DBAPI2 objects are not tested. Please consider using SQLAlchemy.\n",
      "  adv_df_PersonPerson = pd.read_sql_query(\"SELECT BusinessEntityID,FirstName,LastName FROM Person.Person\",export_conn_AdventureWorks)\n",
      "C:\\Users\\jboek\\AppData\\Local\\Temp\\ipykernel_2916\\4102220782.py:6: UserWarning: pandas only supports SQLAlchemy connectable (engine/connection) or database string URI or sqlite3 DBAPI2 connection. Other DBAPI2 objects are not tested. Please consider using SQLAlchemy.\n",
      "  adv_df_PersonBusinessEntity = pd.read_sql_query(\"SELECT BusinessEntityID FROM Person.BusinessEntity\",export_conn_AdventureWorks)\n",
      "C:\\Users\\jboek\\AppData\\Local\\Temp\\ipykernel_2916\\4102220782.py:7: UserWarning: pandas only supports SQLAlchemy connectable (engine/connection) or database string URI or sqlite3 DBAPI2 connection. Other DBAPI2 objects are not tested. Please consider using SQLAlchemy.\n",
      "  adv_df_PersonBusinessEntityAdress = pd.read_sql_query(\"SELECT BusinessEntityID,AddressID FROM Person.BusinessEntityAddress\",export_conn_AdventureWorks)\n",
      "C:\\Users\\jboek\\AppData\\Local\\Temp\\ipykernel_2916\\4102220782.py:8: UserWarning: pandas only supports SQLAlchemy connectable (engine/connection) or database string URI or sqlite3 DBAPI2 connection. Other DBAPI2 objects are not tested. Please consider using SQLAlchemy.\n",
      "  adv_df_PersonAddress = pd.read_sql_query(\"SELECT AddressID,AddressLine1,City,StateProvinceID,PostalCode FROM Person.Address\",export_conn_AdventureWorks)\n",
      "C:\\Users\\jboek\\AppData\\Local\\Temp\\ipykernel_2916\\4102220782.py:9: UserWarning: pandas only supports SQLAlchemy connectable (engine/connection) or database string URI or sqlite3 DBAPI2 connection. Other DBAPI2 objects are not tested. Please consider using SQLAlchemy.\n",
      "  adv_df_PersonState = pd.read_sql_query(\"SELECT StateProvinceID,CountryRegionCode,Name FROM Person.StateProvince\",export_conn_AdventureWorks)\n",
      "C:\\Users\\jboek\\AppData\\Local\\Temp\\ipykernel_2916\\4102220782.py:10: UserWarning: pandas only supports SQLAlchemy connectable (engine/connection) or database string URI or sqlite3 DBAPI2 connection. Other DBAPI2 objects are not tested. Please consider using SQLAlchemy.\n",
      "  adv_df_PersonCountryRegion = pd.read_sql_query(\"SELECT CountryRegionCode,Name FROM Person.CountryRegion\",export_conn_AdventureWorks)\n"
     ]
    }
   ],
   "source": [
    "aenc_df_employee = pd.read_sql_query(\"SELECT emp_id,emp_fname,emp_lname,street,city,state FROM employee\",cnxn)\n",
    "nw_df_employee = pd.read_sql_query(\"SELECT EmployeeID,FirstName,LastName,Address,City,PostalCode,Country FROM employees\",export_conn_NorthWind)\n",
    "adv_df_employee = pd.read_sql_query(\"SELECT BusinessEntityID FROM HumanResources.Employee\",export_conn_AdventureWorks)\n",
    "adv_df_salePerson = pd.read_sql_query(\"SELECT BusinessEntityID FROM Sales.SalesPerson\",export_conn_AdventureWorks)\n",
    "adv_df_PersonPerson = pd.read_sql_query(\"SELECT BusinessEntityID,FirstName,LastName FROM Person.Person\",export_conn_AdventureWorks)\n",
    "adv_df_PersonBusinessEntity = pd.read_sql_query(\"SELECT BusinessEntityID FROM Person.BusinessEntity\",export_conn_AdventureWorks)\n",
    "adv_df_PersonBusinessEntityAdress = pd.read_sql_query(\"SELECT BusinessEntityID,AddressID FROM Person.BusinessEntityAddress\",export_conn_AdventureWorks)\n",
    "adv_df_PersonAddress = pd.read_sql_query(\"SELECT AddressID,AddressLine1,City,StateProvinceID,PostalCode FROM Person.Address\",export_conn_AdventureWorks)\n",
    "adv_df_PersonState = pd.read_sql_query(\"SELECT StateProvinceID,CountryRegionCode,Name FROM Person.StateProvince\",export_conn_AdventureWorks)\n",
    "adv_df_PersonCountryRegion = pd.read_sql_query(\"SELECT CountryRegionCode,Name FROM Person.CountryRegion\",export_conn_AdventureWorks)\n",
    "\n",
    "\n"
   ],
   "metadata": {
    "collapsed": false,
    "ExecuteTime": {
     "end_time": "2024-05-30T17:03:25.540380300Z",
     "start_time": "2024-05-30T17:03:25.380081600Z"
    }
   },
   "id": "f97c0ee18ce03353",
   "execution_count": 150
  },
  {
   "cell_type": "code",
   "outputs": [
    {
     "data": {
      "text/plain": "    EmployeeID FirstName           LastName                     Address  \\\n0          285      Syed              Abbas        7484 Roundtree Drive   \n1          283     David           Campbell          2284 Azalea Avenue   \n2          278   Garrett             Vargas          10203 Acorn Avenue   \n3          279      Tsvi             Reiter           8291 Crossbow Way   \n4          277   Jillian             Carson          80 Sunview Terrace   \n5          275   Michael             Blythe             8154 Via Mexico   \n6          288    Rachel             Valdez               Pascalstr 951   \n7          287       Amy            Alberts          5009 Orange Street   \n8          276     Linda           Mitchell        2487 Riverside Drive   \n9          282      José            Saraiva  9100 Sheppard Avenue North   \n10         289       Jae                Pak               Downshire Way   \n11         290    Ranjit  Varkey Chudukatil           94, rue Descartes   \n12         274   Stephen              Jiang        2427 Notre Dame Ave.   \n13         286      Lynn           Tsoflias            34 Waterloo Road   \n14         280    Pamela       Ansman-Wolfe           636 Vine Hill Way   \n15         284      Tete        Mensa-Annan            3997 Via De Luna   \n16         281       Shu                Ito            5725 Glaze Drive   \n\n             City          State         Country          Source  \n0         Bothell     Washington   United States  AdventureWorks  \n1        Bellevue     Washington   United States  AdventureWorks  \n2         Calgary        Alberta          Canada  AdventureWorks  \n3         Memphis      Tennessee   United States  AdventureWorks  \n4          Duluth      Minnesota   United States  AdventureWorks  \n5         Detroit       Michigan   United States  AdventureWorks  \n6          Berlin        Hamburg         Germany  AdventureWorks  \n7          Renton     Washington   United States  AdventureWorks  \n8          Nevada           Utah   United States  AdventureWorks  \n9          Ottawa        Ontario          Canada  AdventureWorks  \n10      Cambridge        England  United Kingdom  AdventureWorks  \n11       Bordeaux        Gironde          France  AdventureWorks  \n12        Redmond     Washington   United States  AdventureWorks  \n13      Melbourne       Victoria       Australia  AdventureWorks  \n14       Portland         Oregon   United States  AdventureWorks  \n15      Cambridge  Massachusetts   United States  AdventureWorks  \n16  San Francisco     California   United States  AdventureWorks  ",
      "text/html": "<div>\n<style scoped>\n    .dataframe tbody tr th:only-of-type {\n        vertical-align: middle;\n    }\n\n    .dataframe tbody tr th {\n        vertical-align: top;\n    }\n\n    .dataframe thead th {\n        text-align: right;\n    }\n</style>\n<table border=\"1\" class=\"dataframe\">\n  <thead>\n    <tr style=\"text-align: right;\">\n      <th></th>\n      <th>EmployeeID</th>\n      <th>FirstName</th>\n      <th>LastName</th>\n      <th>Address</th>\n      <th>City</th>\n      <th>State</th>\n      <th>Country</th>\n      <th>Source</th>\n    </tr>\n  </thead>\n  <tbody>\n    <tr>\n      <th>0</th>\n      <td>285</td>\n      <td>Syed</td>\n      <td>Abbas</td>\n      <td>7484 Roundtree Drive</td>\n      <td>Bothell</td>\n      <td>Washington</td>\n      <td>United States</td>\n      <td>AdventureWorks</td>\n    </tr>\n    <tr>\n      <th>1</th>\n      <td>283</td>\n      <td>David</td>\n      <td>Campbell</td>\n      <td>2284 Azalea Avenue</td>\n      <td>Bellevue</td>\n      <td>Washington</td>\n      <td>United States</td>\n      <td>AdventureWorks</td>\n    </tr>\n    <tr>\n      <th>2</th>\n      <td>278</td>\n      <td>Garrett</td>\n      <td>Vargas</td>\n      <td>10203 Acorn Avenue</td>\n      <td>Calgary</td>\n      <td>Alberta</td>\n      <td>Canada</td>\n      <td>AdventureWorks</td>\n    </tr>\n    <tr>\n      <th>3</th>\n      <td>279</td>\n      <td>Tsvi</td>\n      <td>Reiter</td>\n      <td>8291 Crossbow Way</td>\n      <td>Memphis</td>\n      <td>Tennessee</td>\n      <td>United States</td>\n      <td>AdventureWorks</td>\n    </tr>\n    <tr>\n      <th>4</th>\n      <td>277</td>\n      <td>Jillian</td>\n      <td>Carson</td>\n      <td>80 Sunview Terrace</td>\n      <td>Duluth</td>\n      <td>Minnesota</td>\n      <td>United States</td>\n      <td>AdventureWorks</td>\n    </tr>\n    <tr>\n      <th>5</th>\n      <td>275</td>\n      <td>Michael</td>\n      <td>Blythe</td>\n      <td>8154 Via Mexico</td>\n      <td>Detroit</td>\n      <td>Michigan</td>\n      <td>United States</td>\n      <td>AdventureWorks</td>\n    </tr>\n    <tr>\n      <th>6</th>\n      <td>288</td>\n      <td>Rachel</td>\n      <td>Valdez</td>\n      <td>Pascalstr 951</td>\n      <td>Berlin</td>\n      <td>Hamburg</td>\n      <td>Germany</td>\n      <td>AdventureWorks</td>\n    </tr>\n    <tr>\n      <th>7</th>\n      <td>287</td>\n      <td>Amy</td>\n      <td>Alberts</td>\n      <td>5009 Orange Street</td>\n      <td>Renton</td>\n      <td>Washington</td>\n      <td>United States</td>\n      <td>AdventureWorks</td>\n    </tr>\n    <tr>\n      <th>8</th>\n      <td>276</td>\n      <td>Linda</td>\n      <td>Mitchell</td>\n      <td>2487 Riverside Drive</td>\n      <td>Nevada</td>\n      <td>Utah</td>\n      <td>United States</td>\n      <td>AdventureWorks</td>\n    </tr>\n    <tr>\n      <th>9</th>\n      <td>282</td>\n      <td>José</td>\n      <td>Saraiva</td>\n      <td>9100 Sheppard Avenue North</td>\n      <td>Ottawa</td>\n      <td>Ontario</td>\n      <td>Canada</td>\n      <td>AdventureWorks</td>\n    </tr>\n    <tr>\n      <th>10</th>\n      <td>289</td>\n      <td>Jae</td>\n      <td>Pak</td>\n      <td>Downshire Way</td>\n      <td>Cambridge</td>\n      <td>England</td>\n      <td>United Kingdom</td>\n      <td>AdventureWorks</td>\n    </tr>\n    <tr>\n      <th>11</th>\n      <td>290</td>\n      <td>Ranjit</td>\n      <td>Varkey Chudukatil</td>\n      <td>94, rue Descartes</td>\n      <td>Bordeaux</td>\n      <td>Gironde</td>\n      <td>France</td>\n      <td>AdventureWorks</td>\n    </tr>\n    <tr>\n      <th>12</th>\n      <td>274</td>\n      <td>Stephen</td>\n      <td>Jiang</td>\n      <td>2427 Notre Dame Ave.</td>\n      <td>Redmond</td>\n      <td>Washington</td>\n      <td>United States</td>\n      <td>AdventureWorks</td>\n    </tr>\n    <tr>\n      <th>13</th>\n      <td>286</td>\n      <td>Lynn</td>\n      <td>Tsoflias</td>\n      <td>34 Waterloo Road</td>\n      <td>Melbourne</td>\n      <td>Victoria</td>\n      <td>Australia</td>\n      <td>AdventureWorks</td>\n    </tr>\n    <tr>\n      <th>14</th>\n      <td>280</td>\n      <td>Pamela</td>\n      <td>Ansman-Wolfe</td>\n      <td>636 Vine Hill Way</td>\n      <td>Portland</td>\n      <td>Oregon</td>\n      <td>United States</td>\n      <td>AdventureWorks</td>\n    </tr>\n    <tr>\n      <th>15</th>\n      <td>284</td>\n      <td>Tete</td>\n      <td>Mensa-Annan</td>\n      <td>3997 Via De Luna</td>\n      <td>Cambridge</td>\n      <td>Massachusetts</td>\n      <td>United States</td>\n      <td>AdventureWorks</td>\n    </tr>\n    <tr>\n      <th>16</th>\n      <td>281</td>\n      <td>Shu</td>\n      <td>Ito</td>\n      <td>5725 Glaze Drive</td>\n      <td>San Francisco</td>\n      <td>California</td>\n      <td>United States</td>\n      <td>AdventureWorks</td>\n    </tr>\n  </tbody>\n</table>\n</div>"
     },
     "execution_count": 157,
     "metadata": {},
     "output_type": "execute_result"
    }
   ],
   "source": [
    "adv_salesPerson_merged = pd.merge(adv_df_salePerson,adv_df_PersonPerson,on='BusinessEntityID',how='left')\n",
    "adv_salesPersonEntityAdress_merged = pd.merge(adv_salesPerson_merged,adv_df_PersonBusinessEntityAdress,on='BusinessEntityID',how='left')\n",
    "adv_salesPersonAdress_merged = pd.merge(adv_salesPersonEntityAdress_merged,adv_df_PersonAddress,on='AddressID',how='left')\n",
    "adv_salesPersonAdress_merged = pd.merge(adv_salesPersonAdress_merged,adv_df_PersonState,on=\"StateProvinceID\",how=\"left\")\n",
    "adv_salesPersonAdress_merged = pd.merge(adv_salesPersonAdress_merged,adv_df_PersonCountryRegion,on=\"CountryRegionCode\",how=\"left\")\n",
    "adv_salesPersonAdress_merged = adv_salesPersonAdress_merged.rename(columns={\n",
    "    'BusinessEntityID' : 'EmployeeID',\n",
    "    'AddressLine1' : 'Address',  \n",
    "    'Name_x' : 'State',  \n",
    "    'Name_y' : 'Country',  \n",
    "})\n",
    "adv_salesPersonAdress_merged = adv_salesPersonAdress_merged.drop(['AddressID','PostalCode','CountryRegionCode','StateProvinceID'],axis=1)\n",
    "adv_salesPersonAdress_merged['Source'] = 'AdventureWorks'\n",
    "adv_df_final = adv_salesPersonAdress_merged\n",
    "adv_df_final\n"
   ],
   "metadata": {
    "collapsed": false,
    "ExecuteTime": {
     "end_time": "2024-05-30T17:03:42.743961600Z",
     "start_time": "2024-05-30T17:03:42.708445700Z"
    }
   },
   "id": "ada0b074363f387e",
   "execution_count": 157
  },
  {
   "cell_type": "code",
   "outputs": [],
   "source": [
    "nw_df_employee['Country'] = nw_df_employee['Country'].replace(['USA', 'UK'], ['US', 'GB'])\n",
    "nw_df_employee = nw_df_employee.rename(columns={\n",
    "     'Country': 'CountryRegionCode',\n",
    " })\n",
    "nw_df_employee = pd.merge(nw_df_employee,adv_df_PersonCountryRegion,on='CountryRegionCode',how='left')\n",
    "\n",
    "\n",
    "nw_df_employee = nw_df_employee.drop(['CountryRegionCode'],axis=1)\n",
    "nw_df_employee = nw_df_employee.rename(columns={\n",
    "    'Name': 'Country'\n",
    "})\n"
   ],
   "metadata": {
    "collapsed": false,
    "ExecuteTime": {
     "end_time": "2024-05-30T17:03:25.594393Z",
     "start_time": "2024-05-30T17:03:25.568386400Z"
    }
   },
   "id": "29b00a9a18d30b5e",
   "execution_count": 152
  },
  {
   "cell_type": "code",
   "outputs": [
    {
     "data": {
      "text/plain": "                   State        City        Country\n0                Alberta     Calgary         Canada\n7                Alberta    Edmonton         Canada\n25               Alabama  Huntsville  United States\n26               Alabama  Birmingham  United States\n27               Alabama      Mobile  United States\n...                  ...         ...            ...\n19269  Seine Saint Denis      Pantin         France\n19271  Seine Saint Denis     Bobigny         France\n19276  Seine Saint Denis      Drancy         France\n19552       Val de Marne        Orly         France\n19583         Val d'Oise       Cergy         France\n\n[613 rows x 3 columns]",
      "text/html": "<div>\n<style scoped>\n    .dataframe tbody tr th:only-of-type {\n        vertical-align: middle;\n    }\n\n    .dataframe tbody tr th {\n        vertical-align: top;\n    }\n\n    .dataframe thead th {\n        text-align: right;\n    }\n</style>\n<table border=\"1\" class=\"dataframe\">\n  <thead>\n    <tr style=\"text-align: right;\">\n      <th></th>\n      <th>State</th>\n      <th>City</th>\n      <th>Country</th>\n    </tr>\n  </thead>\n  <tbody>\n    <tr>\n      <th>0</th>\n      <td>Alberta</td>\n      <td>Calgary</td>\n      <td>Canada</td>\n    </tr>\n    <tr>\n      <th>7</th>\n      <td>Alberta</td>\n      <td>Edmonton</td>\n      <td>Canada</td>\n    </tr>\n    <tr>\n      <th>25</th>\n      <td>Alabama</td>\n      <td>Huntsville</td>\n      <td>United States</td>\n    </tr>\n    <tr>\n      <th>26</th>\n      <td>Alabama</td>\n      <td>Birmingham</td>\n      <td>United States</td>\n    </tr>\n    <tr>\n      <th>27</th>\n      <td>Alabama</td>\n      <td>Mobile</td>\n      <td>United States</td>\n    </tr>\n    <tr>\n      <th>...</th>\n      <td>...</td>\n      <td>...</td>\n      <td>...</td>\n    </tr>\n    <tr>\n      <th>19269</th>\n      <td>Seine Saint Denis</td>\n      <td>Pantin</td>\n      <td>France</td>\n    </tr>\n    <tr>\n      <th>19271</th>\n      <td>Seine Saint Denis</td>\n      <td>Bobigny</td>\n      <td>France</td>\n    </tr>\n    <tr>\n      <th>19276</th>\n      <td>Seine Saint Denis</td>\n      <td>Drancy</td>\n      <td>France</td>\n    </tr>\n    <tr>\n      <th>19552</th>\n      <td>Val de Marne</td>\n      <td>Orly</td>\n      <td>France</td>\n    </tr>\n    <tr>\n      <th>19583</th>\n      <td>Val d'Oise</td>\n      <td>Cergy</td>\n      <td>France</td>\n    </tr>\n  </tbody>\n</table>\n<p>613 rows × 3 columns</p>\n</div>"
     },
     "execution_count": 153,
     "metadata": {},
     "output_type": "execute_result"
    }
   ],
   "source": [
    "merged_df = pd.merge(adv_df_PersonState, adv_df_PersonAddress, on='StateProvinceID', how='inner')\n",
    "merged_df = pd.merge(merged_df, adv_df_PersonCountryRegion, on='CountryRegionCode', how='left')\n",
    "merged_df = merged_df.drop(columns=['StateProvinceID','CountryRegionCode','AddressID','AddressLine1','PostalCode'])\n",
    "merged_df = merged_df.rename(columns={'Name_y' : 'Country','Name_x': 'State'})\n",
    "merged_df = merged_df.drop_duplicates()\n",
    "merged_df"
   ],
   "metadata": {
    "collapsed": false,
    "ExecuteTime": {
     "end_time": "2024-05-30T17:03:25.632400900Z",
     "start_time": "2024-05-30T17:03:25.585390500Z"
    }
   },
   "id": "a692209edc0e672d",
   "execution_count": 153
  },
  {
   "cell_type": "code",
   "outputs": [
    {
     "data": {
      "text/plain": "   EmployeeID FirstName   LastName                         Address      City  \\\n0           1     Nancy    Davolio       507 - 20th Ave. E.Apt. 2A   Seattle   \n1           2    Andrew     Fuller              908 W. Capital Way    Tacoma   \n2           3     Janet  Leverling              722 Moss Bay Blvd.  Kirkland   \n3           4  Margaret    Peacock            4110 Old Redmond Rd.   Redmond   \n4           5    Steven   Buchanan                 14 Garrett Hill    London   \n5           6   Michael     Suyama       Coventry House\\nMiner Rd.    London   \n6           7    Robert       King  Edgeham Hollow\\nWinchester Way    London   \n7           8     Laura   Callahan           4726 - 11th Ave. N.E.   Seattle   \n8           9      Anne  Dodsworth               7 Houndstooth Rd.    London   \n\n        State         Country     Source  \n0  Washington   United States  NorthWind  \n1  Washington   United States  NorthWind  \n2  Washington   United States  NorthWind  \n3  Washington   United States  NorthWind  \n4     England  United Kingdom  NorthWind  \n5     England  United Kingdom  NorthWind  \n6     England  United Kingdom  NorthWind  \n7  Washington   United States  NorthWind  \n8     England  United Kingdom  NorthWind  ",
      "text/html": "<div>\n<style scoped>\n    .dataframe tbody tr th:only-of-type {\n        vertical-align: middle;\n    }\n\n    .dataframe tbody tr th {\n        vertical-align: top;\n    }\n\n    .dataframe thead th {\n        text-align: right;\n    }\n</style>\n<table border=\"1\" class=\"dataframe\">\n  <thead>\n    <tr style=\"text-align: right;\">\n      <th></th>\n      <th>EmployeeID</th>\n      <th>FirstName</th>\n      <th>LastName</th>\n      <th>Address</th>\n      <th>City</th>\n      <th>State</th>\n      <th>Country</th>\n      <th>Source</th>\n    </tr>\n  </thead>\n  <tbody>\n    <tr>\n      <th>0</th>\n      <td>1</td>\n      <td>Nancy</td>\n      <td>Davolio</td>\n      <td>507 - 20th Ave. E.Apt. 2A</td>\n      <td>Seattle</td>\n      <td>Washington</td>\n      <td>United States</td>\n      <td>NorthWind</td>\n    </tr>\n    <tr>\n      <th>1</th>\n      <td>2</td>\n      <td>Andrew</td>\n      <td>Fuller</td>\n      <td>908 W. Capital Way</td>\n      <td>Tacoma</td>\n      <td>Washington</td>\n      <td>United States</td>\n      <td>NorthWind</td>\n    </tr>\n    <tr>\n      <th>2</th>\n      <td>3</td>\n      <td>Janet</td>\n      <td>Leverling</td>\n      <td>722 Moss Bay Blvd.</td>\n      <td>Kirkland</td>\n      <td>Washington</td>\n      <td>United States</td>\n      <td>NorthWind</td>\n    </tr>\n    <tr>\n      <th>3</th>\n      <td>4</td>\n      <td>Margaret</td>\n      <td>Peacock</td>\n      <td>4110 Old Redmond Rd.</td>\n      <td>Redmond</td>\n      <td>Washington</td>\n      <td>United States</td>\n      <td>NorthWind</td>\n    </tr>\n    <tr>\n      <th>4</th>\n      <td>5</td>\n      <td>Steven</td>\n      <td>Buchanan</td>\n      <td>14 Garrett Hill</td>\n      <td>London</td>\n      <td>England</td>\n      <td>United Kingdom</td>\n      <td>NorthWind</td>\n    </tr>\n    <tr>\n      <th>5</th>\n      <td>6</td>\n      <td>Michael</td>\n      <td>Suyama</td>\n      <td>Coventry House\\nMiner Rd.</td>\n      <td>London</td>\n      <td>England</td>\n      <td>United Kingdom</td>\n      <td>NorthWind</td>\n    </tr>\n    <tr>\n      <th>6</th>\n      <td>7</td>\n      <td>Robert</td>\n      <td>King</td>\n      <td>Edgeham Hollow\\nWinchester Way</td>\n      <td>London</td>\n      <td>England</td>\n      <td>United Kingdom</td>\n      <td>NorthWind</td>\n    </tr>\n    <tr>\n      <th>7</th>\n      <td>8</td>\n      <td>Laura</td>\n      <td>Callahan</td>\n      <td>4726 - 11th Ave. N.E.</td>\n      <td>Seattle</td>\n      <td>Washington</td>\n      <td>United States</td>\n      <td>NorthWind</td>\n    </tr>\n    <tr>\n      <th>8</th>\n      <td>9</td>\n      <td>Anne</td>\n      <td>Dodsworth</td>\n      <td>7 Houndstooth Rd.</td>\n      <td>London</td>\n      <td>England</td>\n      <td>United Kingdom</td>\n      <td>NorthWind</td>\n    </tr>\n  </tbody>\n</table>\n</div>"
     },
     "execution_count": 154,
     "metadata": {},
     "output_type": "execute_result"
    }
   ],
   "source": [
    "df_nw_final = pd.merge(nw_df_employee,merged_df,left_on=['City','Country'],right_on=['City','Country'],how='left')\n",
    "df_nw_final = df_nw_final.drop(columns=['PostalCode'])\n",
    "df_nw_final = df_nw_final.reindex(columns=['EmployeeID','FirstName','LastName','Address','City','State','Country'])\n",
    "df_nw_final['Source'] = 'NorthWind'\n",
    "df_nw_final"
   ],
   "metadata": {
    "collapsed": false,
    "ExecuteTime": {
     "end_time": "2024-05-30T17:03:25.694414700Z",
     "start_time": "2024-05-30T17:03:25.633401200Z"
    }
   },
   "id": "42938504357f3af8",
   "execution_count": 154
  },
  {
   "cell_type": "code",
   "outputs": [
    {
     "data": {
      "text/plain": "   EmployeeID  FirstName    LastName                    Address        City  \\\n0         102       Fran     Whitney  49 East Washington Street     Needham   \n1         105    Matthew        Cobb         77 Pleasant Street     Waltham   \n2         129     Philip        Chin             59 Pond Street     Atlanta   \n3         148      Julie      Jordan     144 Great Plain Avenue  Winchester   \n4         160     Robert     Breault           58 Cherry Street      Milton   \n..        ...        ...         ...                        ...         ...   \n70       1643  Elizabeth     Lambert            29 Union Street  Burlington   \n71       1658    Michael       Lynch          76 Brookside Road     Waltham   \n72       1684      Janet  Hildebrand          47 Hilltop Street     Waltham   \n73       1740     Robert     Nielsen          55 Sargent Avenue     Bedford   \n74       1751       Alex       Ahmed         114 Cushing Street     Needham   \n\n            State        Country Source  \n0   Massachusetts  United States   AenC  \n1   Massachusetts  United States   AenC  \n2         Georgia  United States   AenC  \n3   Massachusetts  United States   AenC  \n4   Massachusetts  United States   AenC  \n..            ...            ...    ...  \n70  Massachusetts  United States   AenC  \n71  Massachusetts  United States   AenC  \n72  Massachusetts  United States   AenC  \n73  Massachusetts  United States   AenC  \n74  Massachusetts  United States   AenC  \n\n[75 rows x 8 columns]",
      "text/html": "<div>\n<style scoped>\n    .dataframe tbody tr th:only-of-type {\n        vertical-align: middle;\n    }\n\n    .dataframe tbody tr th {\n        vertical-align: top;\n    }\n\n    .dataframe thead th {\n        text-align: right;\n    }\n</style>\n<table border=\"1\" class=\"dataframe\">\n  <thead>\n    <tr style=\"text-align: right;\">\n      <th></th>\n      <th>EmployeeID</th>\n      <th>FirstName</th>\n      <th>LastName</th>\n      <th>Address</th>\n      <th>City</th>\n      <th>State</th>\n      <th>Country</th>\n      <th>Source</th>\n    </tr>\n  </thead>\n  <tbody>\n    <tr>\n      <th>0</th>\n      <td>102</td>\n      <td>Fran</td>\n      <td>Whitney</td>\n      <td>49 East Washington Street</td>\n      <td>Needham</td>\n      <td>Massachusetts</td>\n      <td>United States</td>\n      <td>AenC</td>\n    </tr>\n    <tr>\n      <th>1</th>\n      <td>105</td>\n      <td>Matthew</td>\n      <td>Cobb</td>\n      <td>77 Pleasant Street</td>\n      <td>Waltham</td>\n      <td>Massachusetts</td>\n      <td>United States</td>\n      <td>AenC</td>\n    </tr>\n    <tr>\n      <th>2</th>\n      <td>129</td>\n      <td>Philip</td>\n      <td>Chin</td>\n      <td>59 Pond Street</td>\n      <td>Atlanta</td>\n      <td>Georgia</td>\n      <td>United States</td>\n      <td>AenC</td>\n    </tr>\n    <tr>\n      <th>3</th>\n      <td>148</td>\n      <td>Julie</td>\n      <td>Jordan</td>\n      <td>144 Great Plain Avenue</td>\n      <td>Winchester</td>\n      <td>Massachusetts</td>\n      <td>United States</td>\n      <td>AenC</td>\n    </tr>\n    <tr>\n      <th>4</th>\n      <td>160</td>\n      <td>Robert</td>\n      <td>Breault</td>\n      <td>58 Cherry Street</td>\n      <td>Milton</td>\n      <td>Massachusetts</td>\n      <td>United States</td>\n      <td>AenC</td>\n    </tr>\n    <tr>\n      <th>...</th>\n      <td>...</td>\n      <td>...</td>\n      <td>...</td>\n      <td>...</td>\n      <td>...</td>\n      <td>...</td>\n      <td>...</td>\n      <td>...</td>\n    </tr>\n    <tr>\n      <th>70</th>\n      <td>1643</td>\n      <td>Elizabeth</td>\n      <td>Lambert</td>\n      <td>29 Union Street</td>\n      <td>Burlington</td>\n      <td>Massachusetts</td>\n      <td>United States</td>\n      <td>AenC</td>\n    </tr>\n    <tr>\n      <th>71</th>\n      <td>1658</td>\n      <td>Michael</td>\n      <td>Lynch</td>\n      <td>76 Brookside Road</td>\n      <td>Waltham</td>\n      <td>Massachusetts</td>\n      <td>United States</td>\n      <td>AenC</td>\n    </tr>\n    <tr>\n      <th>72</th>\n      <td>1684</td>\n      <td>Janet</td>\n      <td>Hildebrand</td>\n      <td>47 Hilltop Street</td>\n      <td>Waltham</td>\n      <td>Massachusetts</td>\n      <td>United States</td>\n      <td>AenC</td>\n    </tr>\n    <tr>\n      <th>73</th>\n      <td>1740</td>\n      <td>Robert</td>\n      <td>Nielsen</td>\n      <td>55 Sargent Avenue</td>\n      <td>Bedford</td>\n      <td>Massachusetts</td>\n      <td>United States</td>\n      <td>AenC</td>\n    </tr>\n    <tr>\n      <th>74</th>\n      <td>1751</td>\n      <td>Alex</td>\n      <td>Ahmed</td>\n      <td>114 Cushing Street</td>\n      <td>Needham</td>\n      <td>Massachusetts</td>\n      <td>United States</td>\n      <td>AenC</td>\n    </tr>\n  </tbody>\n</table>\n<p>75 rows × 8 columns</p>\n</div>"
     },
     "execution_count": 158,
     "metadata": {},
     "output_type": "execute_result"
    }
   ],
   "source": [
    "aenc_df_employee_renamed = aenc_df_employee.rename(columns={'emp_id': 'EmployeeID','emp_fname':'FirstName','emp_lname':'LastName','street':'Address','city':'City','state':'State'})\n",
    "aenc_df_employee_renamed['Country'] = 'United States'\n",
    "\n",
    "state_mapping = {\"MA\": \"Massachusetts\", \"GA\": \"Georgia\", \"CA\": \"California\", \"TX\": \"Texas\"}\n",
    "aenc_df_employee_renamed['State'] = aenc_df_employee_renamed['State'].replace(state_mapping)\n",
    "aenc_df_employee_renamed['Source'] = 'AenC'\n",
    "fd_aenc_final = aenc_df_employee_renamed\n",
    "fd_aenc_final\n",
    "\n"
   ],
   "metadata": {
    "collapsed": false,
    "ExecuteTime": {
     "end_time": "2024-05-30T17:03:57.031520900Z",
     "start_time": "2024-05-30T17:03:57.000515100Z"
    }
   },
   "id": "4930cf06588fcdf2",
   "execution_count": 158
  },
  {
   "cell_type": "code",
   "outputs": [
    {
     "data": {
      "text/plain": "     EmployeeKey EmployeeID FirstName   LastName  \\\n0              1        285      Syed      Abbas   \n1              2        283     David   Campbell   \n2              3        278   Garrett     Vargas   \n3              4        279      Tsvi     Reiter   \n4              5        277   Jillian     Carson   \n..           ...        ...       ...        ...   \n96            97          5    Steven   Buchanan   \n97            98          6   Michael     Suyama   \n98            99          7    Robert       King   \n99           100          8     Laura   Callahan   \n100          101          9      Anne  Dodsworth   \n\n                            Address      City       State         Country  \\\n0              7484 Roundtree Drive   Bothell  Washington   United States   \n1                2284 Azalea Avenue  Bellevue  Washington   United States   \n2                10203 Acorn Avenue   Calgary     Alberta          Canada   \n3                 8291 Crossbow Way   Memphis   Tennessee   United States   \n4                80 Sunview Terrace    Duluth   Minnesota   United States   \n..                              ...       ...         ...             ...   \n96                  14 Garrett Hill    London     England  United Kingdom   \n97        Coventry House\\nMiner Rd.    London     England  United Kingdom   \n98   Edgeham Hollow\\nWinchester Way    London     England  United Kingdom   \n99            4726 - 11th Ave. N.E.   Seattle  Washington   United States   \n100               7 Houndstooth Rd.    London     England  United Kingdom   \n\n             Source  \n0    AdventureWorks  \n1    AdventureWorks  \n2    AdventureWorks  \n3    AdventureWorks  \n4    AdventureWorks  \n..              ...  \n96        NorthWind  \n97        NorthWind  \n98        NorthWind  \n99        NorthWind  \n100       NorthWind  \n\n[101 rows x 9 columns]",
      "text/html": "<div>\n<style scoped>\n    .dataframe tbody tr th:only-of-type {\n        vertical-align: middle;\n    }\n\n    .dataframe tbody tr th {\n        vertical-align: top;\n    }\n\n    .dataframe thead th {\n        text-align: right;\n    }\n</style>\n<table border=\"1\" class=\"dataframe\">\n  <thead>\n    <tr style=\"text-align: right;\">\n      <th></th>\n      <th>EmployeeKey</th>\n      <th>EmployeeID</th>\n      <th>FirstName</th>\n      <th>LastName</th>\n      <th>Address</th>\n      <th>City</th>\n      <th>State</th>\n      <th>Country</th>\n      <th>Source</th>\n    </tr>\n  </thead>\n  <tbody>\n    <tr>\n      <th>0</th>\n      <td>1</td>\n      <td>285</td>\n      <td>Syed</td>\n      <td>Abbas</td>\n      <td>7484 Roundtree Drive</td>\n      <td>Bothell</td>\n      <td>Washington</td>\n      <td>United States</td>\n      <td>AdventureWorks</td>\n    </tr>\n    <tr>\n      <th>1</th>\n      <td>2</td>\n      <td>283</td>\n      <td>David</td>\n      <td>Campbell</td>\n      <td>2284 Azalea Avenue</td>\n      <td>Bellevue</td>\n      <td>Washington</td>\n      <td>United States</td>\n      <td>AdventureWorks</td>\n    </tr>\n    <tr>\n      <th>2</th>\n      <td>3</td>\n      <td>278</td>\n      <td>Garrett</td>\n      <td>Vargas</td>\n      <td>10203 Acorn Avenue</td>\n      <td>Calgary</td>\n      <td>Alberta</td>\n      <td>Canada</td>\n      <td>AdventureWorks</td>\n    </tr>\n    <tr>\n      <th>3</th>\n      <td>4</td>\n      <td>279</td>\n      <td>Tsvi</td>\n      <td>Reiter</td>\n      <td>8291 Crossbow Way</td>\n      <td>Memphis</td>\n      <td>Tennessee</td>\n      <td>United States</td>\n      <td>AdventureWorks</td>\n    </tr>\n    <tr>\n      <th>4</th>\n      <td>5</td>\n      <td>277</td>\n      <td>Jillian</td>\n      <td>Carson</td>\n      <td>80 Sunview Terrace</td>\n      <td>Duluth</td>\n      <td>Minnesota</td>\n      <td>United States</td>\n      <td>AdventureWorks</td>\n    </tr>\n    <tr>\n      <th>...</th>\n      <td>...</td>\n      <td>...</td>\n      <td>...</td>\n      <td>...</td>\n      <td>...</td>\n      <td>...</td>\n      <td>...</td>\n      <td>...</td>\n      <td>...</td>\n    </tr>\n    <tr>\n      <th>96</th>\n      <td>97</td>\n      <td>5</td>\n      <td>Steven</td>\n      <td>Buchanan</td>\n      <td>14 Garrett Hill</td>\n      <td>London</td>\n      <td>England</td>\n      <td>United Kingdom</td>\n      <td>NorthWind</td>\n    </tr>\n    <tr>\n      <th>97</th>\n      <td>98</td>\n      <td>6</td>\n      <td>Michael</td>\n      <td>Suyama</td>\n      <td>Coventry House\\nMiner Rd.</td>\n      <td>London</td>\n      <td>England</td>\n      <td>United Kingdom</td>\n      <td>NorthWind</td>\n    </tr>\n    <tr>\n      <th>98</th>\n      <td>99</td>\n      <td>7</td>\n      <td>Robert</td>\n      <td>King</td>\n      <td>Edgeham Hollow\\nWinchester Way</td>\n      <td>London</td>\n      <td>England</td>\n      <td>United Kingdom</td>\n      <td>NorthWind</td>\n    </tr>\n    <tr>\n      <th>99</th>\n      <td>100</td>\n      <td>8</td>\n      <td>Laura</td>\n      <td>Callahan</td>\n      <td>4726 - 11th Ave. N.E.</td>\n      <td>Seattle</td>\n      <td>Washington</td>\n      <td>United States</td>\n      <td>NorthWind</td>\n    </tr>\n    <tr>\n      <th>100</th>\n      <td>101</td>\n      <td>9</td>\n      <td>Anne</td>\n      <td>Dodsworth</td>\n      <td>7 Houndstooth Rd.</td>\n      <td>London</td>\n      <td>England</td>\n      <td>United Kingdom</td>\n      <td>NorthWind</td>\n    </tr>\n  </tbody>\n</table>\n<p>101 rows × 9 columns</p>\n</div>"
     },
     "execution_count": 159,
     "metadata": {},
     "output_type": "execute_result"
    }
   ],
   "source": [
    "combined_employee = pd.concat([adv_df_final, fd_aenc_final, df_nw_final]).reset_index(drop=True)\n",
    "combined_employee['EmployeeKey'] = combined_employee.index + 1\n",
    "combined_employee = combined_employee.reindex(columns=['EmployeeKey','EmployeeID', 'FirstName','LastName','Address','City','State','Country','Source'])\n",
    "combined_employee"
   ],
   "metadata": {
    "collapsed": false,
    "ExecuteTime": {
     "end_time": "2024-05-30T17:04:16.335555200Z",
     "start_time": "2024-05-30T17:04:16.314549600Z"
    }
   },
   "id": "6c199283620a5e76",
   "execution_count": 159
  }
 ],
 "metadata": {
  "kernelspec": {
   "display_name": "Python 3",
   "language": "python",
   "name": "python3"
  },
  "language_info": {
   "codemirror_mode": {
    "name": "ipython",
    "version": 2
   },
   "file_extension": ".py",
   "mimetype": "text/x-python",
   "name": "python",
   "nbconvert_exporter": "python",
   "pygments_lexer": "ipython2",
   "version": "2.7.6"
  }
 },
 "nbformat": 4,
 "nbformat_minor": 5
}
