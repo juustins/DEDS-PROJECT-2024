{
 "cells": [
  {
   "cell_type": "code",
   "execution_count": 1,
   "id": "initial_id",
   "metadata": {
    "collapsed": true,
    "ExecuteTime": {
     "end_time": "2024-05-31T08:58:51.040935Z",
     "start_time": "2024-05-31T08:58:49.924613200Z"
    }
   },
   "outputs": [
    {
     "data": {
      "text/plain": "<pyodbc.Cursor at 0x160c4df9530>"
     },
     "execution_count": 1,
     "metadata": {},
     "output_type": "execute_result"
    }
   ],
   "source": [
    "import numpy as np\n",
    "import pyodbc\n",
    "import pandas as pd\n",
    "\n",
    "DBUnitedOutdoorsDWH = {'servername': 'LAPTOP-JCB37LKM\\SQLEXPRESS',\n",
    "                       'database': 'UnitedOutdoorsDWH'}\n",
    "\n",
    "export_conn_UODwh = pyodbc.connect('DRIVER={SQL Server};SERVER='+ DBUnitedOutdoorsDWH['servername'] + ';DATABASE=' + DBUnitedOutdoorsDWH['database'] + ';Trusted_Connection=yes')\n",
    "export_cursor = export_conn_UODwh.cursor()\n",
    "export_cursor\n",
    "\n",
    "final_df = pd.read_csv(\"./Dimensies/Sales.csv\")\n",
    "product_df = pd.read_csv(\"./Dimensies/Product.csv\")\n",
    "employee_df = pd.read_csv(\"./Dimensies/Employee.csv\")\n"
   ]
  },
  {
   "cell_type": "code",
   "outputs": [],
   "source": [
    "import sys\n",
    "\n",
    "for index, row in product_df.iterrows():\n",
    "    try:\n",
    "        name = row['Name'].replace(\"'\", \"''\")\n",
    "        query = f\"INSERT INTO Product (ProductID, Name, Subcategory,Category,Source) VALUES ({row['ProductID']}, '{name}','{row['Subcategory']}', '{row['Category']}', '{row['Source']}')\"\n",
    "        export_cursor.execute(query)\n",
    "    except pyodbc.Error:\n",
    "        # If there's an error, print the query for debugging\n",
    "        print(\"Query:\", query)\n",
    "        print(\"Error:\", sys.exc_info()[1])\n",
    "\n",
    "export_conn_UODwh.commit()\n",
    "export_cursor.close()"
   ],
   "metadata": {
    "collapsed": false
   },
   "id": "c7fce9b63d9e94cb"
  },
  {
   "cell_type": "code",
   "outputs": [],
   "source": [
    "import sys\n",
    "\n",
    "for index, row in employee_df.iterrows():\n",
    "    try:\n",
    "        name = row['FirstName'].replace(\"'\", \"''\")\n",
    "        query = f\"INSERT INTO Employee (EmployeeID, FirstName, LastName,Address,City,State,Country,Source) VALUES ({row['EmployeeID']}, '{name}','{row['LastName']}', '{row['Address']}','{row['City']}','{row['State']}','{row['Country']}', '{row['Source']}')\"\n",
    "        export_cursor.execute(query)\n",
    "    except pyodbc.Error:\n",
    "        # If there's an error, print the query for debugging\n",
    "        print(\"Query:\", query)\n",
    "        print(\"Error:\", sys.exc_info()[1])\n",
    "\n",
    "export_conn_UODwh.commit()\n",
    "export_cursor.close()"
   ],
   "metadata": {
    "collapsed": false
   },
   "id": "5d29ec0c9d3d50cc"
  },
  {
   "cell_type": "code",
   "outputs": [],
   "source": [
    "import sys\n",
    "\n",
    "for index, row in final_df.iterrows():\n",
    "    try:\n",
    "        employee_key = 'NULL' if pd.isnull(row['EmployeeKey']) else row['EmployeeKey']\n",
    "        query = f\"INSERT INTO Sales (OrderID, OrderLineID, ProductKey,EmployeeKey,Quantity,UnitPrice,OrderDate,Source) VALUES ({row['OrderID']}, {row['OrderLineID']},{row['ProductKey']},{employee_key},{row['Quantity']},{row['UnitPrice']},'{row['OrderDate']}','{row['Source']}')\"\n",
    "        export_cursor.execute(query)\n",
    "    except pyodbc.Error:\n",
    "        # If there's an error, print the query for debugging\n",
    "        print(sys.exc_info()[1])\n",
    "        print(\"Query:\", query)\n",
    "\n",
    "export_conn_UODwh.commit()\n",
    "export_cursor.close()"
   ],
   "metadata": {
    "collapsed": false
   },
   "id": "4b82cdf02d0679b4"
  }
 ],
 "metadata": {
  "kernelspec": {
   "display_name": "Python 3",
   "language": "python",
   "name": "python3"
  },
  "language_info": {
   "codemirror_mode": {
    "name": "ipython",
    "version": 2
   },
   "file_extension": ".py",
   "mimetype": "text/x-python",
   "name": "python",
   "nbconvert_exporter": "python",
   "pygments_lexer": "ipython2",
   "version": "2.7.6"
  }
 },
 "nbformat": 4,
 "nbformat_minor": 5
}
