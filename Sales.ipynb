{
 "cells": [
  {
   "cell_type": "code",
   "execution_count": 31,
   "id": "initial_id",
   "metadata": {
    "collapsed": true,
    "ExecuteTime": {
     "end_time": "2024-05-31T08:50:07.434900900Z",
     "start_time": "2024-05-31T08:50:07.325360300Z"
    }
   },
   "outputs": [],
   "source": [
    "import numpy as np\n",
    "import pyodbc\n",
    "import pandas as pd\n",
    "import warnings\n",
    "\n",
    "conn_str = (\n",
    "    r'DRIVER={Microsoft Access Driver (*.mdb, *.accdb)};'\n",
    "    r'DBQ=./Databases/aenc.accdb;'\n",
    ")\n",
    "cnxn = pyodbc.connect(conn_str)\n",
    "crsr = cnxn.cursor()\n",
    "DBNorthWind = {'servername': 'LAPTOP-JCB37LKM\\SQLEXPRESS',\n",
    "               'database': 'NorthWind'}\n",
    "\n",
    "export_conn_NorthWind = pyodbc.connect('DRIVER={SQL Server};SERVER='+ DBNorthWind['servername'] + ';DATABASE=' + DBNorthWind['database'] + ';Trusted_Connection=yes')\n",
    "\n",
    "DBAdventureWorks = {'servername': 'LAPTOP-JCB37LKM\\SQLEXPRESS',\n",
    "                    'database': 'AdventureWorks2019'}\n",
    "\n",
    "export_conn_AdventureWorks = pyodbc.connect('DRIVER={SQL Server};SERVER='+ DBAdventureWorks['servername'] + ';DATABASE=' + DBAdventureWorks['database'] + ';Trusted_Connection=yes')\n"
   ]
  },
  {
   "cell_type": "code",
   "outputs": [
    {
     "name": "stderr",
     "output_type": "stream",
     "text": [
      "C:\\Users\\jboek\\AppData\\Local\\Temp\\ipykernel_57860\\420703445.py:1: UserWarning: pandas only supports SQLAlchemy connectable (engine/connection) or database string URI or sqlite3 DBAPI2 connection. Other DBAPI2 objects are not tested. Please consider using SQLAlchemy.\n",
      "  aenc_df_sales_order = pd.read_sql_query(\"SELECT * FROM Sales_order\",cnxn)\n",
      "C:\\Users\\jboek\\AppData\\Local\\Temp\\ipykernel_57860\\420703445.py:2: UserWarning: pandas only supports SQLAlchemy connectable (engine/connection) or database string URI or sqlite3 DBAPI2 connection. Other DBAPI2 objects are not tested. Please consider using SQLAlchemy.\n",
      "  aenc_df_sales_order_item = pd.read_sql_query(\"SELECT * FROM Sales_order_item\",cnxn)\n",
      "C:\\Users\\jboek\\AppData\\Local\\Temp\\ipykernel_57860\\420703445.py:4: UserWarning: pandas only supports SQLAlchemy connectable (engine/connection) or database string URI or sqlite3 DBAPI2 connection. Other DBAPI2 objects are not tested. Please consider using SQLAlchemy.\n",
      "  nw_df_orders = pd.read_sql_query(\"SELECT * FROM Orders\",export_conn_NorthWind)\n",
      "C:\\Users\\jboek\\AppData\\Local\\Temp\\ipykernel_57860\\420703445.py:5: UserWarning: pandas only supports SQLAlchemy connectable (engine/connection) or database string URI or sqlite3 DBAPI2 connection. Other DBAPI2 objects are not tested. Please consider using SQLAlchemy.\n",
      "  nw_df_orders_details = pd.read_sql_query(\"SELECT * FROM OrderDetails\",export_conn_NorthWind)\n",
      "C:\\Users\\jboek\\AppData\\Local\\Temp\\ipykernel_57860\\420703445.py:7: UserWarning: pandas only supports SQLAlchemy connectable (engine/connection) or database string URI or sqlite3 DBAPI2 connection. Other DBAPI2 objects are not tested. Please consider using SQLAlchemy.\n",
      "  adv_salesOrderDetail = pd.read_sql_query(\"SELECT * FROM Sales.SalesOrderDetail\",export_conn_AdventureWorks)\n",
      "C:\\Users\\jboek\\AppData\\Local\\Temp\\ipykernel_57860\\420703445.py:8: UserWarning: pandas only supports SQLAlchemy connectable (engine/connection) or database string URI or sqlite3 DBAPI2 connection. Other DBAPI2 objects are not tested. Please consider using SQLAlchemy.\n",
      "  adv_SalesOrderHeader = pd.read_sql_query(\"SELECT * FROM Sales.SalesOrderHeader\",export_conn_AdventureWorks)\n"
     ]
    }
   ],
   "source": [
    "aenc_df_sales_order = pd.read_sql_query(\"SELECT * FROM Sales_order\",cnxn)\n",
    "aenc_df_sales_order_item = pd.read_sql_query(\"SELECT * FROM Sales_order_item\",cnxn)\n",
    "\n",
    "nw_df_orders = pd.read_sql_query(\"SELECT * FROM Orders\",export_conn_NorthWind)\n",
    "nw_df_orders_details = pd.read_sql_query(\"SELECT * FROM OrderDetails\",export_conn_NorthWind)\n",
    "\n",
    "adv_salesOrderDetail = pd.read_sql_query(\"SELECT * FROM Sales.SalesOrderDetail\",export_conn_AdventureWorks)\n",
    "adv_SalesOrderHeader = pd.read_sql_query(\"SELECT * FROM Sales.SalesOrderHeader\",export_conn_AdventureWorks)"
   ],
   "metadata": {
    "collapsed": false,
    "ExecuteTime": {
     "end_time": "2024-05-31T08:50:12.450815600Z",
     "start_time": "2024-05-31T08:50:09.402042600Z"
    }
   },
   "id": "5ef98ea9940f6783",
   "execution_count": 32
  },
  {
   "cell_type": "code",
   "outputs": [
    {
     "data": {
      "text/plain": "        id  line_id  prod_id  quantity                ship_date cust_id  \\\n0     2001        1      300        12  15-Sep-1996 12:00:00 AM     101   \n1     2001        2      301        12  14-Sep-1996 12:00:00 AM     101   \n2     2001        3      302        12  14-Sep-1996 12:00:00 AM     101   \n3     2002        1      400        24  18-Sep-1996 12:00:00 AM     102   \n4     2002        2      401        24  18-Sep-1996 12:00:00 AM     102   \n...    ...      ...      ...       ...                      ...     ...   \n1098  2652        2      300        10  01-Dec-1998 12:00:00 AM     174   \n1099  2653        1      301         0  17-Oct-1999 12:00:00 AM     102   \n1100  2654        1      301        15  29-Oct-1999 12:00:00 AM     105   \n1101  2654        2      302         3  29-Oct-1999 12:00:00 AM     105   \n1102  2654        3      400         8  29-Oct-1999 12:00:00 AM     105   \n\n                   order_date   region sales_rep Source  \n0     14-Mar-1996 12:00:00 AM  Eastern       299   AenC  \n1     14-Mar-1996 12:00:00 AM  Eastern       299   AenC  \n2     14-Mar-1996 12:00:00 AM  Eastern       299   AenC  \n3     18-Mar-1996 12:00:00 AM  Eastern       467   AenC  \n4     18-Mar-1996 12:00:00 AM  Eastern       467   AenC  \n...                       ...      ...       ...    ...  \n1098  26-Nov-1998 12:00:00 AM  Central       902   AenC  \n1099  17-Jan-1999 12:00:00 AM  Eastern       148   AenC  \n1100  26-Feb-1999 12:00:00 AM    South       148   AenC  \n1101  26-Feb-1999 12:00:00 AM    South       148   AenC  \n1102  26-Feb-1999 12:00:00 AM    South       148   AenC  \n\n[1103 rows x 10 columns]",
      "text/html": "<div>\n<style scoped>\n    .dataframe tbody tr th:only-of-type {\n        vertical-align: middle;\n    }\n\n    .dataframe tbody tr th {\n        vertical-align: top;\n    }\n\n    .dataframe thead th {\n        text-align: right;\n    }\n</style>\n<table border=\"1\" class=\"dataframe\">\n  <thead>\n    <tr style=\"text-align: right;\">\n      <th></th>\n      <th>id</th>\n      <th>line_id</th>\n      <th>prod_id</th>\n      <th>quantity</th>\n      <th>ship_date</th>\n      <th>cust_id</th>\n      <th>order_date</th>\n      <th>region</th>\n      <th>sales_rep</th>\n      <th>Source</th>\n    </tr>\n  </thead>\n  <tbody>\n    <tr>\n      <th>0</th>\n      <td>2001</td>\n      <td>1</td>\n      <td>300</td>\n      <td>12</td>\n      <td>15-Sep-1996 12:00:00 AM</td>\n      <td>101</td>\n      <td>14-Mar-1996 12:00:00 AM</td>\n      <td>Eastern</td>\n      <td>299</td>\n      <td>AenC</td>\n    </tr>\n    <tr>\n      <th>1</th>\n      <td>2001</td>\n      <td>2</td>\n      <td>301</td>\n      <td>12</td>\n      <td>14-Sep-1996 12:00:00 AM</td>\n      <td>101</td>\n      <td>14-Mar-1996 12:00:00 AM</td>\n      <td>Eastern</td>\n      <td>299</td>\n      <td>AenC</td>\n    </tr>\n    <tr>\n      <th>2</th>\n      <td>2001</td>\n      <td>3</td>\n      <td>302</td>\n      <td>12</td>\n      <td>14-Sep-1996 12:00:00 AM</td>\n      <td>101</td>\n      <td>14-Mar-1996 12:00:00 AM</td>\n      <td>Eastern</td>\n      <td>299</td>\n      <td>AenC</td>\n    </tr>\n    <tr>\n      <th>3</th>\n      <td>2002</td>\n      <td>1</td>\n      <td>400</td>\n      <td>24</td>\n      <td>18-Sep-1996 12:00:00 AM</td>\n      <td>102</td>\n      <td>18-Mar-1996 12:00:00 AM</td>\n      <td>Eastern</td>\n      <td>467</td>\n      <td>AenC</td>\n    </tr>\n    <tr>\n      <th>4</th>\n      <td>2002</td>\n      <td>2</td>\n      <td>401</td>\n      <td>24</td>\n      <td>18-Sep-1996 12:00:00 AM</td>\n      <td>102</td>\n      <td>18-Mar-1996 12:00:00 AM</td>\n      <td>Eastern</td>\n      <td>467</td>\n      <td>AenC</td>\n    </tr>\n    <tr>\n      <th>...</th>\n      <td>...</td>\n      <td>...</td>\n      <td>...</td>\n      <td>...</td>\n      <td>...</td>\n      <td>...</td>\n      <td>...</td>\n      <td>...</td>\n      <td>...</td>\n      <td>...</td>\n    </tr>\n    <tr>\n      <th>1098</th>\n      <td>2652</td>\n      <td>2</td>\n      <td>300</td>\n      <td>10</td>\n      <td>01-Dec-1998 12:00:00 AM</td>\n      <td>174</td>\n      <td>26-Nov-1998 12:00:00 AM</td>\n      <td>Central</td>\n      <td>902</td>\n      <td>AenC</td>\n    </tr>\n    <tr>\n      <th>1099</th>\n      <td>2653</td>\n      <td>1</td>\n      <td>301</td>\n      <td>0</td>\n      <td>17-Oct-1999 12:00:00 AM</td>\n      <td>102</td>\n      <td>17-Jan-1999 12:00:00 AM</td>\n      <td>Eastern</td>\n      <td>148</td>\n      <td>AenC</td>\n    </tr>\n    <tr>\n      <th>1100</th>\n      <td>2654</td>\n      <td>1</td>\n      <td>301</td>\n      <td>15</td>\n      <td>29-Oct-1999 12:00:00 AM</td>\n      <td>105</td>\n      <td>26-Feb-1999 12:00:00 AM</td>\n      <td>South</td>\n      <td>148</td>\n      <td>AenC</td>\n    </tr>\n    <tr>\n      <th>1101</th>\n      <td>2654</td>\n      <td>2</td>\n      <td>302</td>\n      <td>3</td>\n      <td>29-Oct-1999 12:00:00 AM</td>\n      <td>105</td>\n      <td>26-Feb-1999 12:00:00 AM</td>\n      <td>South</td>\n      <td>148</td>\n      <td>AenC</td>\n    </tr>\n    <tr>\n      <th>1102</th>\n      <td>2654</td>\n      <td>3</td>\n      <td>400</td>\n      <td>8</td>\n      <td>29-Oct-1999 12:00:00 AM</td>\n      <td>105</td>\n      <td>26-Feb-1999 12:00:00 AM</td>\n      <td>South</td>\n      <td>148</td>\n      <td>AenC</td>\n    </tr>\n  </tbody>\n</table>\n<p>1103 rows × 10 columns</p>\n</div>"
     },
     "execution_count": 33,
     "metadata": {},
     "output_type": "execute_result"
    }
   ],
   "source": [
    "aenc_df_sales_order_item\n",
    "\n",
    "aenc_df_sales_order_item_merged = pd.merge(aenc_df_sales_order_item,aenc_df_sales_order,on='id',how='left')\n",
    "aenc_df_sales_order_item_merged['Source'] = 'AenC'\n",
    "aenc_df_sales_order_item_merged['id'] = aenc_df_sales_order_item_merged['id'].astype('int64')\n",
    "aenc_df_sales_order_item_merged['line_id'] = aenc_df_sales_order_item_merged['line_id'].astype('int64')\n",
    "# aenc_df_sales_order_item_merged['sales_rep'] = aenc_df_sales_order_item_merged['sales_rep'].astype('int64')\n",
    "aenc_df_sales_order_item_merged['prod_id'] = aenc_df_sales_order_item_merged['prod_id'].astype('int64')\n",
    "aenc_df_sales_order_item_merged['quantity'] = aenc_df_sales_order_item_merged['quantity'].astype('int64')\n",
    "aenc_df_sales_order_item_merged['Source'] = aenc_df_sales_order_item_merged['Source'].astype('str')\n",
    "\n",
    "aenc_df_sales_order_item_merged"
   ],
   "metadata": {
    "collapsed": false,
    "ExecuteTime": {
     "end_time": "2024-05-31T08:50:12.520847500Z",
     "start_time": "2024-05-31T08:50:12.456805300Z"
    }
   },
   "id": "64916359201f1443",
   "execution_count": 33
  },
  {
   "cell_type": "code",
   "outputs": [
    {
     "data": {
      "text/plain": "     ProductKey  ProductID          Source\n0             1          1  AdventureWorks\n1             2          2  AdventureWorks\n2             3          3  AdventureWorks\n3             4          4  AdventureWorks\n4             5        316  AdventureWorks\n..          ...        ...             ...\n586         587         73       NorthWind\n587         588         74       NorthWind\n588         589         75       NorthWind\n589         590         76       NorthWind\n590         591         77       NorthWind\n\n[591 rows x 3 columns]",
      "text/html": "<div>\n<style scoped>\n    .dataframe tbody tr th:only-of-type {\n        vertical-align: middle;\n    }\n\n    .dataframe tbody tr th {\n        vertical-align: top;\n    }\n\n    .dataframe thead th {\n        text-align: right;\n    }\n</style>\n<table border=\"1\" class=\"dataframe\">\n  <thead>\n    <tr style=\"text-align: right;\">\n      <th></th>\n      <th>ProductKey</th>\n      <th>ProductID</th>\n      <th>Source</th>\n    </tr>\n  </thead>\n  <tbody>\n    <tr>\n      <th>0</th>\n      <td>1</td>\n      <td>1</td>\n      <td>AdventureWorks</td>\n    </tr>\n    <tr>\n      <th>1</th>\n      <td>2</td>\n      <td>2</td>\n      <td>AdventureWorks</td>\n    </tr>\n    <tr>\n      <th>2</th>\n      <td>3</td>\n      <td>3</td>\n      <td>AdventureWorks</td>\n    </tr>\n    <tr>\n      <th>3</th>\n      <td>4</td>\n      <td>4</td>\n      <td>AdventureWorks</td>\n    </tr>\n    <tr>\n      <th>4</th>\n      <td>5</td>\n      <td>316</td>\n      <td>AdventureWorks</td>\n    </tr>\n    <tr>\n      <th>...</th>\n      <td>...</td>\n      <td>...</td>\n      <td>...</td>\n    </tr>\n    <tr>\n      <th>586</th>\n      <td>587</td>\n      <td>73</td>\n      <td>NorthWind</td>\n    </tr>\n    <tr>\n      <th>587</th>\n      <td>588</td>\n      <td>74</td>\n      <td>NorthWind</td>\n    </tr>\n    <tr>\n      <th>588</th>\n      <td>589</td>\n      <td>75</td>\n      <td>NorthWind</td>\n    </tr>\n    <tr>\n      <th>589</th>\n      <td>590</td>\n      <td>76</td>\n      <td>NorthWind</td>\n    </tr>\n    <tr>\n      <th>590</th>\n      <td>591</td>\n      <td>77</td>\n      <td>NorthWind</td>\n    </tr>\n  </tbody>\n</table>\n<p>591 rows × 3 columns</p>\n</div>"
     },
     "execution_count": 34,
     "metadata": {},
     "output_type": "execute_result"
    }
   ],
   "source": [
    "products_df = pd.read_csv('./Dimensies/Product.csv')\n",
    "products_dropped = products_df.drop(columns=['Unnamed: 0','Name','Subcategory','Category'])\n",
    "products_dropped"
   ],
   "metadata": {
    "collapsed": false,
    "ExecuteTime": {
     "end_time": "2024-05-31T08:50:13.146450500Z",
     "start_time": "2024-05-31T08:50:13.092438900Z"
    }
   },
   "id": "5d8739bc42af36b4",
   "execution_count": 34
  },
  {
   "cell_type": "code",
   "outputs": [
    {
     "data": {
      "text/plain": "        id  line_id  prod_id  quantity                ship_date cust_id  \\\n0     2001        1      300        12  15-Sep-1996 12:00:00 AM     101   \n1     2006        1      300        48  28-Sep-1996 12:00:00 AM     105   \n2     2015        1      300        24  06-Oct-1996 12:00:00 AM     114   \n3     2019        1      300        12  13-Aug-1996 12:00:00 AM     118   \n4     2030        1      300        24  06-Oct-1996 12:00:00 AM     129   \n...    ...      ...      ...       ...                      ...     ...   \n1098  2625        3      700        24  09-Nov-1998 12:00:00 AM     122   \n1099  2635        1      700        72  16-Nov-1998 12:00:00 AM     127   \n1100  2641        2      700        24  18-Nov-1998 12:00:00 AM     130   \n1101  2649        1      700        36  26-Nov-1998 12:00:00 AM     132   \n1102  2651        1      700        48  29-Nov-1998 12:00:00 AM     133   \n\n                   order_date   region sales_rep Source  ProductKey  ProductID  \n0     14-Mar-1996 12:00:00 AM  Eastern       299   AenC         505        300  \n1     28-Mar-1996 12:00:00 AM  Central       299   AenC         505        300  \n2     30-Apr-1996 12:00:00 AM  Central       949   AenC         505        300  \n3     13-Apr-1996 12:00:00 AM    South       667   AenC         505        300  \n4     06-May-1996 12:00:00 AM  Eastern       299   AenC         505        300  \n...                       ...      ...       ...    ...         ...        ...  \n1098  08-Nov-1998 12:00:00 AM  Eastern       690   AenC         514        700  \n1099  15-Nov-1998 12:00:00 AM    South       129   AenC         514        700  \n1100  18-Nov-1998 12:00:00 AM  Central       949   AenC         514        700  \n1101  25-Nov-1998 12:00:00 AM  Central       690   AenC         514        700  \n1102  26-Nov-1998 12:00:00 AM  Western       299   AenC         514        700  \n\n[1103 rows x 12 columns]",
      "text/html": "<div>\n<style scoped>\n    .dataframe tbody tr th:only-of-type {\n        vertical-align: middle;\n    }\n\n    .dataframe tbody tr th {\n        vertical-align: top;\n    }\n\n    .dataframe thead th {\n        text-align: right;\n    }\n</style>\n<table border=\"1\" class=\"dataframe\">\n  <thead>\n    <tr style=\"text-align: right;\">\n      <th></th>\n      <th>id</th>\n      <th>line_id</th>\n      <th>prod_id</th>\n      <th>quantity</th>\n      <th>ship_date</th>\n      <th>cust_id</th>\n      <th>order_date</th>\n      <th>region</th>\n      <th>sales_rep</th>\n      <th>Source</th>\n      <th>ProductKey</th>\n      <th>ProductID</th>\n    </tr>\n  </thead>\n  <tbody>\n    <tr>\n      <th>0</th>\n      <td>2001</td>\n      <td>1</td>\n      <td>300</td>\n      <td>12</td>\n      <td>15-Sep-1996 12:00:00 AM</td>\n      <td>101</td>\n      <td>14-Mar-1996 12:00:00 AM</td>\n      <td>Eastern</td>\n      <td>299</td>\n      <td>AenC</td>\n      <td>505</td>\n      <td>300</td>\n    </tr>\n    <tr>\n      <th>1</th>\n      <td>2006</td>\n      <td>1</td>\n      <td>300</td>\n      <td>48</td>\n      <td>28-Sep-1996 12:00:00 AM</td>\n      <td>105</td>\n      <td>28-Mar-1996 12:00:00 AM</td>\n      <td>Central</td>\n      <td>299</td>\n      <td>AenC</td>\n      <td>505</td>\n      <td>300</td>\n    </tr>\n    <tr>\n      <th>2</th>\n      <td>2015</td>\n      <td>1</td>\n      <td>300</td>\n      <td>24</td>\n      <td>06-Oct-1996 12:00:00 AM</td>\n      <td>114</td>\n      <td>30-Apr-1996 12:00:00 AM</td>\n      <td>Central</td>\n      <td>949</td>\n      <td>AenC</td>\n      <td>505</td>\n      <td>300</td>\n    </tr>\n    <tr>\n      <th>3</th>\n      <td>2019</td>\n      <td>1</td>\n      <td>300</td>\n      <td>12</td>\n      <td>13-Aug-1996 12:00:00 AM</td>\n      <td>118</td>\n      <td>13-Apr-1996 12:00:00 AM</td>\n      <td>South</td>\n      <td>667</td>\n      <td>AenC</td>\n      <td>505</td>\n      <td>300</td>\n    </tr>\n    <tr>\n      <th>4</th>\n      <td>2030</td>\n      <td>1</td>\n      <td>300</td>\n      <td>24</td>\n      <td>06-Oct-1996 12:00:00 AM</td>\n      <td>129</td>\n      <td>06-May-1996 12:00:00 AM</td>\n      <td>Eastern</td>\n      <td>299</td>\n      <td>AenC</td>\n      <td>505</td>\n      <td>300</td>\n    </tr>\n    <tr>\n      <th>...</th>\n      <td>...</td>\n      <td>...</td>\n      <td>...</td>\n      <td>...</td>\n      <td>...</td>\n      <td>...</td>\n      <td>...</td>\n      <td>...</td>\n      <td>...</td>\n      <td>...</td>\n      <td>...</td>\n      <td>...</td>\n    </tr>\n    <tr>\n      <th>1098</th>\n      <td>2625</td>\n      <td>3</td>\n      <td>700</td>\n      <td>24</td>\n      <td>09-Nov-1998 12:00:00 AM</td>\n      <td>122</td>\n      <td>08-Nov-1998 12:00:00 AM</td>\n      <td>Eastern</td>\n      <td>690</td>\n      <td>AenC</td>\n      <td>514</td>\n      <td>700</td>\n    </tr>\n    <tr>\n      <th>1099</th>\n      <td>2635</td>\n      <td>1</td>\n      <td>700</td>\n      <td>72</td>\n      <td>16-Nov-1998 12:00:00 AM</td>\n      <td>127</td>\n      <td>15-Nov-1998 12:00:00 AM</td>\n      <td>South</td>\n      <td>129</td>\n      <td>AenC</td>\n      <td>514</td>\n      <td>700</td>\n    </tr>\n    <tr>\n      <th>1100</th>\n      <td>2641</td>\n      <td>2</td>\n      <td>700</td>\n      <td>24</td>\n      <td>18-Nov-1998 12:00:00 AM</td>\n      <td>130</td>\n      <td>18-Nov-1998 12:00:00 AM</td>\n      <td>Central</td>\n      <td>949</td>\n      <td>AenC</td>\n      <td>514</td>\n      <td>700</td>\n    </tr>\n    <tr>\n      <th>1101</th>\n      <td>2649</td>\n      <td>1</td>\n      <td>700</td>\n      <td>36</td>\n      <td>26-Nov-1998 12:00:00 AM</td>\n      <td>132</td>\n      <td>25-Nov-1998 12:00:00 AM</td>\n      <td>Central</td>\n      <td>690</td>\n      <td>AenC</td>\n      <td>514</td>\n      <td>700</td>\n    </tr>\n    <tr>\n      <th>1102</th>\n      <td>2651</td>\n      <td>1</td>\n      <td>700</td>\n      <td>48</td>\n      <td>29-Nov-1998 12:00:00 AM</td>\n      <td>133</td>\n      <td>26-Nov-1998 12:00:00 AM</td>\n      <td>Western</td>\n      <td>299</td>\n      <td>AenC</td>\n      <td>514</td>\n      <td>700</td>\n    </tr>\n  </tbody>\n</table>\n<p>1103 rows × 12 columns</p>\n</div>"
     },
     "execution_count": 35,
     "metadata": {},
     "output_type": "execute_result"
    }
   ],
   "source": [
    "aenc_df_sales_order_item_joined_productkey = pd.merge(aenc_df_sales_order_item_merged,products_dropped,left_on=['prod_id','Source'],right_on=['ProductID','Source'])\n",
    "aenc_df_sales_order_item_joined_productkey"
   ],
   "metadata": {
    "collapsed": false,
    "ExecuteTime": {
     "end_time": "2024-05-31T08:50:14.645115400Z",
     "start_time": "2024-05-31T08:50:14.588075400Z"
    }
   },
   "id": "49e5a891882802d3",
   "execution_count": 35
  },
  {
   "cell_type": "code",
   "outputs": [
    {
     "data": {
      "text/plain": "     EmployeeKey EmployeeID          Source\n0              1        285  AdventureWorks\n1              2        283  AdventureWorks\n2              3        278  AdventureWorks\n3              4        279  AdventureWorks\n4              5        277  AdventureWorks\n..           ...        ...             ...\n96            97          5       NorthWind\n97            98          6       NorthWind\n98            99          7       NorthWind\n99           100          8       NorthWind\n100          101          9       NorthWind\n\n[101 rows x 3 columns]",
      "text/html": "<div>\n<style scoped>\n    .dataframe tbody tr th:only-of-type {\n        vertical-align: middle;\n    }\n\n    .dataframe tbody tr th {\n        vertical-align: top;\n    }\n\n    .dataframe thead th {\n        text-align: right;\n    }\n</style>\n<table border=\"1\" class=\"dataframe\">\n  <thead>\n    <tr style=\"text-align: right;\">\n      <th></th>\n      <th>EmployeeKey</th>\n      <th>EmployeeID</th>\n      <th>Source</th>\n    </tr>\n  </thead>\n  <tbody>\n    <tr>\n      <th>0</th>\n      <td>1</td>\n      <td>285</td>\n      <td>AdventureWorks</td>\n    </tr>\n    <tr>\n      <th>1</th>\n      <td>2</td>\n      <td>283</td>\n      <td>AdventureWorks</td>\n    </tr>\n    <tr>\n      <th>2</th>\n      <td>3</td>\n      <td>278</td>\n      <td>AdventureWorks</td>\n    </tr>\n    <tr>\n      <th>3</th>\n      <td>4</td>\n      <td>279</td>\n      <td>AdventureWorks</td>\n    </tr>\n    <tr>\n      <th>4</th>\n      <td>5</td>\n      <td>277</td>\n      <td>AdventureWorks</td>\n    </tr>\n    <tr>\n      <th>...</th>\n      <td>...</td>\n      <td>...</td>\n      <td>...</td>\n    </tr>\n    <tr>\n      <th>96</th>\n      <td>97</td>\n      <td>5</td>\n      <td>NorthWind</td>\n    </tr>\n    <tr>\n      <th>97</th>\n      <td>98</td>\n      <td>6</td>\n      <td>NorthWind</td>\n    </tr>\n    <tr>\n      <th>98</th>\n      <td>99</td>\n      <td>7</td>\n      <td>NorthWind</td>\n    </tr>\n    <tr>\n      <th>99</th>\n      <td>100</td>\n      <td>8</td>\n      <td>NorthWind</td>\n    </tr>\n    <tr>\n      <th>100</th>\n      <td>101</td>\n      <td>9</td>\n      <td>NorthWind</td>\n    </tr>\n  </tbody>\n</table>\n<p>101 rows × 3 columns</p>\n</div>"
     },
     "execution_count": 36,
     "metadata": {},
     "output_type": "execute_result"
    }
   ],
   "source": [
    "df_employee = pd.read_csv('./Dimensies/Employee.csv')\n",
    "df_employee_dropped = df_employee.drop(columns=['Unnamed: 0','FirstName','LastName','Address','City','State','Country'])\n",
    "df_employee_dropped"
   ],
   "metadata": {
    "collapsed": false,
    "ExecuteTime": {
     "end_time": "2024-05-31T08:50:15.652522900Z",
     "start_time": "2024-05-31T08:50:15.553496100Z"
    }
   },
   "id": "9fdab79d2b18d3e2",
   "execution_count": 36
  },
  {
   "cell_type": "code",
   "outputs": [
    {
     "data": {
      "text/plain": "        id  line_id  prod_id  quantity                ship_date cust_id  \\\n0     2001        1      300        12  15-Sep-1996 12:00:00 AM     101   \n1     2006        1      300        48  28-Sep-1996 12:00:00 AM     105   \n2     2030        1      300        24  06-Oct-1996 12:00:00 AM     129   \n3     2049        1      300        24  19-Aug-1996 12:00:00 AM     148   \n4     2156        1      300        12  13-Aug-1997 12:00:00 AM     157   \n...    ...      ...      ...       ...                      ...     ...   \n1098  2654        2      302         3  29-Oct-1999 12:00:00 AM     105   \n1099  2654        3      400         8  29-Oct-1999 12:00:00 AM     105   \n1100  2003        3      400        12  23-Sep-1996 12:00:00 AM     103   \n1101  2003        1      500        12  23-Sep-1996 12:00:00 AM     103   \n1102  2003        2      501        12  23-Sep-1996 12:00:00 AM     103   \n\n                   order_date   region sales_rep Source  ProductKey  \\\n0     14-Mar-1996 12:00:00 AM  Eastern       299   AenC         505   \n1     28-Mar-1996 12:00:00 AM  Central       299   AenC         505   \n2     06-May-1996 12:00:00 AM  Eastern       299   AenC         505   \n3     18-Jul-1996 12:00:00 AM   Canada       299   AenC         505   \n4     12-Aug-1997 12:00:00 AM  Central       299   AenC         505   \n...                       ...      ...       ...    ...         ...   \n1098  26-Feb-1999 12:00:00 AM    South       148   AenC         507   \n1099  26-Feb-1999 12:00:00 AM    South       148   AenC         508   \n1100  21-Mar-1996 12:00:00 AM  Eastern      1039   AenC         508   \n1101  21-Mar-1996 12:00:00 AM  Eastern      1039   AenC         510   \n1102  21-Mar-1996 12:00:00 AM  Eastern      1039   AenC         511   \n\n      ProductID  EmployeeKey EmployeeID  \n0           300           32        299  \n1           300           32        299  \n2           300           32        299  \n3           300           32        299  \n4           300           32        299  \n...         ...          ...        ...  \n1098        302           21        148  \n1099        400           21        148  \n1100        400           68       1039  \n1101        500           68       1039  \n1102        501           68       1039  \n\n[1103 rows x 14 columns]",
      "text/html": "<div>\n<style scoped>\n    .dataframe tbody tr th:only-of-type {\n        vertical-align: middle;\n    }\n\n    .dataframe tbody tr th {\n        vertical-align: top;\n    }\n\n    .dataframe thead th {\n        text-align: right;\n    }\n</style>\n<table border=\"1\" class=\"dataframe\">\n  <thead>\n    <tr style=\"text-align: right;\">\n      <th></th>\n      <th>id</th>\n      <th>line_id</th>\n      <th>prod_id</th>\n      <th>quantity</th>\n      <th>ship_date</th>\n      <th>cust_id</th>\n      <th>order_date</th>\n      <th>region</th>\n      <th>sales_rep</th>\n      <th>Source</th>\n      <th>ProductKey</th>\n      <th>ProductID</th>\n      <th>EmployeeKey</th>\n      <th>EmployeeID</th>\n    </tr>\n  </thead>\n  <tbody>\n    <tr>\n      <th>0</th>\n      <td>2001</td>\n      <td>1</td>\n      <td>300</td>\n      <td>12</td>\n      <td>15-Sep-1996 12:00:00 AM</td>\n      <td>101</td>\n      <td>14-Mar-1996 12:00:00 AM</td>\n      <td>Eastern</td>\n      <td>299</td>\n      <td>AenC</td>\n      <td>505</td>\n      <td>300</td>\n      <td>32</td>\n      <td>299</td>\n    </tr>\n    <tr>\n      <th>1</th>\n      <td>2006</td>\n      <td>1</td>\n      <td>300</td>\n      <td>48</td>\n      <td>28-Sep-1996 12:00:00 AM</td>\n      <td>105</td>\n      <td>28-Mar-1996 12:00:00 AM</td>\n      <td>Central</td>\n      <td>299</td>\n      <td>AenC</td>\n      <td>505</td>\n      <td>300</td>\n      <td>32</td>\n      <td>299</td>\n    </tr>\n    <tr>\n      <th>2</th>\n      <td>2030</td>\n      <td>1</td>\n      <td>300</td>\n      <td>24</td>\n      <td>06-Oct-1996 12:00:00 AM</td>\n      <td>129</td>\n      <td>06-May-1996 12:00:00 AM</td>\n      <td>Eastern</td>\n      <td>299</td>\n      <td>AenC</td>\n      <td>505</td>\n      <td>300</td>\n      <td>32</td>\n      <td>299</td>\n    </tr>\n    <tr>\n      <th>3</th>\n      <td>2049</td>\n      <td>1</td>\n      <td>300</td>\n      <td>24</td>\n      <td>19-Aug-1996 12:00:00 AM</td>\n      <td>148</td>\n      <td>18-Jul-1996 12:00:00 AM</td>\n      <td>Canada</td>\n      <td>299</td>\n      <td>AenC</td>\n      <td>505</td>\n      <td>300</td>\n      <td>32</td>\n      <td>299</td>\n    </tr>\n    <tr>\n      <th>4</th>\n      <td>2156</td>\n      <td>1</td>\n      <td>300</td>\n      <td>12</td>\n      <td>13-Aug-1997 12:00:00 AM</td>\n      <td>157</td>\n      <td>12-Aug-1997 12:00:00 AM</td>\n      <td>Central</td>\n      <td>299</td>\n      <td>AenC</td>\n      <td>505</td>\n      <td>300</td>\n      <td>32</td>\n      <td>299</td>\n    </tr>\n    <tr>\n      <th>...</th>\n      <td>...</td>\n      <td>...</td>\n      <td>...</td>\n      <td>...</td>\n      <td>...</td>\n      <td>...</td>\n      <td>...</td>\n      <td>...</td>\n      <td>...</td>\n      <td>...</td>\n      <td>...</td>\n      <td>...</td>\n      <td>...</td>\n      <td>...</td>\n    </tr>\n    <tr>\n      <th>1098</th>\n      <td>2654</td>\n      <td>2</td>\n      <td>302</td>\n      <td>3</td>\n      <td>29-Oct-1999 12:00:00 AM</td>\n      <td>105</td>\n      <td>26-Feb-1999 12:00:00 AM</td>\n      <td>South</td>\n      <td>148</td>\n      <td>AenC</td>\n      <td>507</td>\n      <td>302</td>\n      <td>21</td>\n      <td>148</td>\n    </tr>\n    <tr>\n      <th>1099</th>\n      <td>2654</td>\n      <td>3</td>\n      <td>400</td>\n      <td>8</td>\n      <td>29-Oct-1999 12:00:00 AM</td>\n      <td>105</td>\n      <td>26-Feb-1999 12:00:00 AM</td>\n      <td>South</td>\n      <td>148</td>\n      <td>AenC</td>\n      <td>508</td>\n      <td>400</td>\n      <td>21</td>\n      <td>148</td>\n    </tr>\n    <tr>\n      <th>1100</th>\n      <td>2003</td>\n      <td>3</td>\n      <td>400</td>\n      <td>12</td>\n      <td>23-Sep-1996 12:00:00 AM</td>\n      <td>103</td>\n      <td>21-Mar-1996 12:00:00 AM</td>\n      <td>Eastern</td>\n      <td>1039</td>\n      <td>AenC</td>\n      <td>508</td>\n      <td>400</td>\n      <td>68</td>\n      <td>1039</td>\n    </tr>\n    <tr>\n      <th>1101</th>\n      <td>2003</td>\n      <td>1</td>\n      <td>500</td>\n      <td>12</td>\n      <td>23-Sep-1996 12:00:00 AM</td>\n      <td>103</td>\n      <td>21-Mar-1996 12:00:00 AM</td>\n      <td>Eastern</td>\n      <td>1039</td>\n      <td>AenC</td>\n      <td>510</td>\n      <td>500</td>\n      <td>68</td>\n      <td>1039</td>\n    </tr>\n    <tr>\n      <th>1102</th>\n      <td>2003</td>\n      <td>2</td>\n      <td>501</td>\n      <td>12</td>\n      <td>23-Sep-1996 12:00:00 AM</td>\n      <td>103</td>\n      <td>21-Mar-1996 12:00:00 AM</td>\n      <td>Eastern</td>\n      <td>1039</td>\n      <td>AenC</td>\n      <td>511</td>\n      <td>501</td>\n      <td>68</td>\n      <td>1039</td>\n    </tr>\n  </tbody>\n</table>\n<p>1103 rows × 14 columns</p>\n</div>"
     },
     "execution_count": 37,
     "metadata": {},
     "output_type": "execute_result"
    }
   ],
   "source": [
    "aenc_df_sales_order_item_joined_employee = pd.merge(aenc_df_sales_order_item_joined_productkey,df_employee_dropped,left_on=['sales_rep','Source'],right_on=['EmployeeID','Source'])\n",
    "aenc_df_sales_order_item_joined_employee"
   ],
   "metadata": {
    "collapsed": false,
    "ExecuteTime": {
     "end_time": "2024-05-31T08:50:16.563708300Z",
     "start_time": "2024-05-31T08:50:16.503697400Z"
    }
   },
   "id": "722e644ac16f7157",
   "execution_count": 37
  },
  {
   "cell_type": "code",
   "outputs": [
    {
     "name": "stderr",
     "output_type": "stream",
     "text": [
      "C:\\Users\\jboek\\AppData\\Local\\Temp\\ipykernel_57860\\820263215.py:1: UserWarning: pandas only supports SQLAlchemy connectable (engine/connection) or database string URI or sqlite3 DBAPI2 connection. Other DBAPI2 objects are not tested. Please consider using SQLAlchemy.\n",
      "  df_product_aenc = pd.read_sql_query(\"SELECT id,unit_price FROM product\",cnxn)\n"
     ]
    },
    {
     "data": {
      "text/plain": "      id_x  line_id  prod_id  quantity                ship_date cust_id  \\\n0     2001        1      300        12  15-Sep-1996 12:00:00 AM     101   \n1     2006        1      300        48  28-Sep-1996 12:00:00 AM     105   \n2     2030        1      300        24  06-Oct-1996 12:00:00 AM     129   \n3     2049        1      300        24  19-Aug-1996 12:00:00 AM     148   \n4     2156        1      300        12  13-Aug-1997 12:00:00 AM     157   \n...    ...      ...      ...       ...                      ...     ...   \n1098  2654        2      302         3  29-Oct-1999 12:00:00 AM     105   \n1099  2654        3      400         8  29-Oct-1999 12:00:00 AM     105   \n1100  2003        3      400        12  23-Sep-1996 12:00:00 AM     103   \n1101  2003        1      500        12  23-Sep-1996 12:00:00 AM     103   \n1102  2003        2      501        12  23-Sep-1996 12:00:00 AM     103   \n\n                   order_date   region sales_rep Source  ProductKey  \\\n0     14-Mar-1996 12:00:00 AM  Eastern       299   AenC         505   \n1     28-Mar-1996 12:00:00 AM  Central       299   AenC         505   \n2     06-May-1996 12:00:00 AM  Eastern       299   AenC         505   \n3     18-Jul-1996 12:00:00 AM   Canada       299   AenC         505   \n4     12-Aug-1997 12:00:00 AM  Central       299   AenC         505   \n...                       ...      ...       ...    ...         ...   \n1098  26-Feb-1999 12:00:00 AM    South       148   AenC         507   \n1099  26-Feb-1999 12:00:00 AM    South       148   AenC         508   \n1100  21-Mar-1996 12:00:00 AM  Eastern      1039   AenC         508   \n1101  21-Mar-1996 12:00:00 AM  Eastern      1039   AenC         510   \n1102  21-Mar-1996 12:00:00 AM  Eastern      1039   AenC         511   \n\n      ProductID  EmployeeKey EmployeeID  id_y unit_price  \n0           300           32        299   300          9  \n1           300           32        299   300          9  \n2           300           32        299   300          9  \n3           300           32        299   300          9  \n4           300           32        299   300          9  \n...         ...          ...        ...   ...        ...  \n1098        302           21        148   302         14  \n1099        400           21        148   400          9  \n1100        400           68       1039   400          9  \n1101        500           68       1039   500          7  \n1102        501           68       1039   501          7  \n\n[1103 rows x 16 columns]",
      "text/html": "<div>\n<style scoped>\n    .dataframe tbody tr th:only-of-type {\n        vertical-align: middle;\n    }\n\n    .dataframe tbody tr th {\n        vertical-align: top;\n    }\n\n    .dataframe thead th {\n        text-align: right;\n    }\n</style>\n<table border=\"1\" class=\"dataframe\">\n  <thead>\n    <tr style=\"text-align: right;\">\n      <th></th>\n      <th>id_x</th>\n      <th>line_id</th>\n      <th>prod_id</th>\n      <th>quantity</th>\n      <th>ship_date</th>\n      <th>cust_id</th>\n      <th>order_date</th>\n      <th>region</th>\n      <th>sales_rep</th>\n      <th>Source</th>\n      <th>ProductKey</th>\n      <th>ProductID</th>\n      <th>EmployeeKey</th>\n      <th>EmployeeID</th>\n      <th>id_y</th>\n      <th>unit_price</th>\n    </tr>\n  </thead>\n  <tbody>\n    <tr>\n      <th>0</th>\n      <td>2001</td>\n      <td>1</td>\n      <td>300</td>\n      <td>12</td>\n      <td>15-Sep-1996 12:00:00 AM</td>\n      <td>101</td>\n      <td>14-Mar-1996 12:00:00 AM</td>\n      <td>Eastern</td>\n      <td>299</td>\n      <td>AenC</td>\n      <td>505</td>\n      <td>300</td>\n      <td>32</td>\n      <td>299</td>\n      <td>300</td>\n      <td>9</td>\n    </tr>\n    <tr>\n      <th>1</th>\n      <td>2006</td>\n      <td>1</td>\n      <td>300</td>\n      <td>48</td>\n      <td>28-Sep-1996 12:00:00 AM</td>\n      <td>105</td>\n      <td>28-Mar-1996 12:00:00 AM</td>\n      <td>Central</td>\n      <td>299</td>\n      <td>AenC</td>\n      <td>505</td>\n      <td>300</td>\n      <td>32</td>\n      <td>299</td>\n      <td>300</td>\n      <td>9</td>\n    </tr>\n    <tr>\n      <th>2</th>\n      <td>2030</td>\n      <td>1</td>\n      <td>300</td>\n      <td>24</td>\n      <td>06-Oct-1996 12:00:00 AM</td>\n      <td>129</td>\n      <td>06-May-1996 12:00:00 AM</td>\n      <td>Eastern</td>\n      <td>299</td>\n      <td>AenC</td>\n      <td>505</td>\n      <td>300</td>\n      <td>32</td>\n      <td>299</td>\n      <td>300</td>\n      <td>9</td>\n    </tr>\n    <tr>\n      <th>3</th>\n      <td>2049</td>\n      <td>1</td>\n      <td>300</td>\n      <td>24</td>\n      <td>19-Aug-1996 12:00:00 AM</td>\n      <td>148</td>\n      <td>18-Jul-1996 12:00:00 AM</td>\n      <td>Canada</td>\n      <td>299</td>\n      <td>AenC</td>\n      <td>505</td>\n      <td>300</td>\n      <td>32</td>\n      <td>299</td>\n      <td>300</td>\n      <td>9</td>\n    </tr>\n    <tr>\n      <th>4</th>\n      <td>2156</td>\n      <td>1</td>\n      <td>300</td>\n      <td>12</td>\n      <td>13-Aug-1997 12:00:00 AM</td>\n      <td>157</td>\n      <td>12-Aug-1997 12:00:00 AM</td>\n      <td>Central</td>\n      <td>299</td>\n      <td>AenC</td>\n      <td>505</td>\n      <td>300</td>\n      <td>32</td>\n      <td>299</td>\n      <td>300</td>\n      <td>9</td>\n    </tr>\n    <tr>\n      <th>...</th>\n      <td>...</td>\n      <td>...</td>\n      <td>...</td>\n      <td>...</td>\n      <td>...</td>\n      <td>...</td>\n      <td>...</td>\n      <td>...</td>\n      <td>...</td>\n      <td>...</td>\n      <td>...</td>\n      <td>...</td>\n      <td>...</td>\n      <td>...</td>\n      <td>...</td>\n      <td>...</td>\n    </tr>\n    <tr>\n      <th>1098</th>\n      <td>2654</td>\n      <td>2</td>\n      <td>302</td>\n      <td>3</td>\n      <td>29-Oct-1999 12:00:00 AM</td>\n      <td>105</td>\n      <td>26-Feb-1999 12:00:00 AM</td>\n      <td>South</td>\n      <td>148</td>\n      <td>AenC</td>\n      <td>507</td>\n      <td>302</td>\n      <td>21</td>\n      <td>148</td>\n      <td>302</td>\n      <td>14</td>\n    </tr>\n    <tr>\n      <th>1099</th>\n      <td>2654</td>\n      <td>3</td>\n      <td>400</td>\n      <td>8</td>\n      <td>29-Oct-1999 12:00:00 AM</td>\n      <td>105</td>\n      <td>26-Feb-1999 12:00:00 AM</td>\n      <td>South</td>\n      <td>148</td>\n      <td>AenC</td>\n      <td>508</td>\n      <td>400</td>\n      <td>21</td>\n      <td>148</td>\n      <td>400</td>\n      <td>9</td>\n    </tr>\n    <tr>\n      <th>1100</th>\n      <td>2003</td>\n      <td>3</td>\n      <td>400</td>\n      <td>12</td>\n      <td>23-Sep-1996 12:00:00 AM</td>\n      <td>103</td>\n      <td>21-Mar-1996 12:00:00 AM</td>\n      <td>Eastern</td>\n      <td>1039</td>\n      <td>AenC</td>\n      <td>508</td>\n      <td>400</td>\n      <td>68</td>\n      <td>1039</td>\n      <td>400</td>\n      <td>9</td>\n    </tr>\n    <tr>\n      <th>1101</th>\n      <td>2003</td>\n      <td>1</td>\n      <td>500</td>\n      <td>12</td>\n      <td>23-Sep-1996 12:00:00 AM</td>\n      <td>103</td>\n      <td>21-Mar-1996 12:00:00 AM</td>\n      <td>Eastern</td>\n      <td>1039</td>\n      <td>AenC</td>\n      <td>510</td>\n      <td>500</td>\n      <td>68</td>\n      <td>1039</td>\n      <td>500</td>\n      <td>7</td>\n    </tr>\n    <tr>\n      <th>1102</th>\n      <td>2003</td>\n      <td>2</td>\n      <td>501</td>\n      <td>12</td>\n      <td>23-Sep-1996 12:00:00 AM</td>\n      <td>103</td>\n      <td>21-Mar-1996 12:00:00 AM</td>\n      <td>Eastern</td>\n      <td>1039</td>\n      <td>AenC</td>\n      <td>511</td>\n      <td>501</td>\n      <td>68</td>\n      <td>1039</td>\n      <td>501</td>\n      <td>7</td>\n    </tr>\n  </tbody>\n</table>\n<p>1103 rows × 16 columns</p>\n</div>"
     },
     "execution_count": 38,
     "metadata": {},
     "output_type": "execute_result"
    }
   ],
   "source": [
    "df_product_aenc = pd.read_sql_query(\"SELECT id,unit_price FROM product\",cnxn)\n",
    "df_product_aenc['id'] = df_product_aenc['id'].astype('int64')\n",
    "aenc_df_sales_order_item_unit_price = pd.merge(aenc_df_sales_order_item_joined_employee,df_product_aenc,left_on='prod_id',right_on='id',how='left')\n",
    "aenc_toBeFormated = aenc_df_sales_order_item_unit_price\n",
    "aenc_df_sales_order_item_unit_price"
   ],
   "metadata": {
    "collapsed": false,
    "ExecuteTime": {
     "end_time": "2024-05-31T08:50:22.074438700Z",
     "start_time": "2024-05-31T08:50:22.000836100Z"
    }
   },
   "id": "9af9cbf8c392b55b",
   "execution_count": 38
  },
  {
   "cell_type": "code",
   "outputs": [
    {
     "data": {
      "text/plain": "      OrderID  OrderLineID  ProductKey  EmployeeKey  Quantity UnitPrice  \\\n0        2001            1         505           32        12         9   \n1        2006            1         505           32        48         9   \n2        2030            1         505           32        24         9   \n3        2049            1         505           32        24         9   \n4        2156            1         505           32        12         9   \n...       ...          ...         ...          ...       ...       ...   \n1098     2654            2         507           21         3        14   \n1099     2654            3         508           21         8         9   \n1100     2003            3         508           68        12         9   \n1101     2003            1         510           68        12         7   \n1102     2003            2         511           68        12         7   \n\n                    OrderDate Source  \n0     14-Mar-1996 12:00:00 AM   AenC  \n1     28-Mar-1996 12:00:00 AM   AenC  \n2     06-May-1996 12:00:00 AM   AenC  \n3     18-Jul-1996 12:00:00 AM   AenC  \n4     12-Aug-1997 12:00:00 AM   AenC  \n...                       ...    ...  \n1098  26-Feb-1999 12:00:00 AM   AenC  \n1099  26-Feb-1999 12:00:00 AM   AenC  \n1100  21-Mar-1996 12:00:00 AM   AenC  \n1101  21-Mar-1996 12:00:00 AM   AenC  \n1102  21-Mar-1996 12:00:00 AM   AenC  \n\n[1103 rows x 8 columns]",
      "text/html": "<div>\n<style scoped>\n    .dataframe tbody tr th:only-of-type {\n        vertical-align: middle;\n    }\n\n    .dataframe tbody tr th {\n        vertical-align: top;\n    }\n\n    .dataframe thead th {\n        text-align: right;\n    }\n</style>\n<table border=\"1\" class=\"dataframe\">\n  <thead>\n    <tr style=\"text-align: right;\">\n      <th></th>\n      <th>OrderID</th>\n      <th>OrderLineID</th>\n      <th>ProductKey</th>\n      <th>EmployeeKey</th>\n      <th>Quantity</th>\n      <th>UnitPrice</th>\n      <th>OrderDate</th>\n      <th>Source</th>\n    </tr>\n  </thead>\n  <tbody>\n    <tr>\n      <th>0</th>\n      <td>2001</td>\n      <td>1</td>\n      <td>505</td>\n      <td>32</td>\n      <td>12</td>\n      <td>9</td>\n      <td>14-Mar-1996 12:00:00 AM</td>\n      <td>AenC</td>\n    </tr>\n    <tr>\n      <th>1</th>\n      <td>2006</td>\n      <td>1</td>\n      <td>505</td>\n      <td>32</td>\n      <td>48</td>\n      <td>9</td>\n      <td>28-Mar-1996 12:00:00 AM</td>\n      <td>AenC</td>\n    </tr>\n    <tr>\n      <th>2</th>\n      <td>2030</td>\n      <td>1</td>\n      <td>505</td>\n      <td>32</td>\n      <td>24</td>\n      <td>9</td>\n      <td>06-May-1996 12:00:00 AM</td>\n      <td>AenC</td>\n    </tr>\n    <tr>\n      <th>3</th>\n      <td>2049</td>\n      <td>1</td>\n      <td>505</td>\n      <td>32</td>\n      <td>24</td>\n      <td>9</td>\n      <td>18-Jul-1996 12:00:00 AM</td>\n      <td>AenC</td>\n    </tr>\n    <tr>\n      <th>4</th>\n      <td>2156</td>\n      <td>1</td>\n      <td>505</td>\n      <td>32</td>\n      <td>12</td>\n      <td>9</td>\n      <td>12-Aug-1997 12:00:00 AM</td>\n      <td>AenC</td>\n    </tr>\n    <tr>\n      <th>...</th>\n      <td>...</td>\n      <td>...</td>\n      <td>...</td>\n      <td>...</td>\n      <td>...</td>\n      <td>...</td>\n      <td>...</td>\n      <td>...</td>\n    </tr>\n    <tr>\n      <th>1098</th>\n      <td>2654</td>\n      <td>2</td>\n      <td>507</td>\n      <td>21</td>\n      <td>3</td>\n      <td>14</td>\n      <td>26-Feb-1999 12:00:00 AM</td>\n      <td>AenC</td>\n    </tr>\n    <tr>\n      <th>1099</th>\n      <td>2654</td>\n      <td>3</td>\n      <td>508</td>\n      <td>21</td>\n      <td>8</td>\n      <td>9</td>\n      <td>26-Feb-1999 12:00:00 AM</td>\n      <td>AenC</td>\n    </tr>\n    <tr>\n      <th>1100</th>\n      <td>2003</td>\n      <td>3</td>\n      <td>508</td>\n      <td>68</td>\n      <td>12</td>\n      <td>9</td>\n      <td>21-Mar-1996 12:00:00 AM</td>\n      <td>AenC</td>\n    </tr>\n    <tr>\n      <th>1101</th>\n      <td>2003</td>\n      <td>1</td>\n      <td>510</td>\n      <td>68</td>\n      <td>12</td>\n      <td>7</td>\n      <td>21-Mar-1996 12:00:00 AM</td>\n      <td>AenC</td>\n    </tr>\n    <tr>\n      <th>1102</th>\n      <td>2003</td>\n      <td>2</td>\n      <td>511</td>\n      <td>68</td>\n      <td>12</td>\n      <td>7</td>\n      <td>21-Mar-1996 12:00:00 AM</td>\n      <td>AenC</td>\n    </tr>\n  </tbody>\n</table>\n<p>1103 rows × 8 columns</p>\n</div>"
     },
     "execution_count": 39,
     "metadata": {},
     "output_type": "execute_result"
    }
   ],
   "source": [
    "final_aenc_orderdetail_item = aenc_toBeFormated.drop(columns=['ship_date','cust_id','region','ProductID','sales_rep','EmployeeID','id_y'])\n",
    "final_aenc_orderdetail_item = final_aenc_orderdetail_item.reindex(columns=['id_x','line_id','ProductKey','EmployeeKey','quantity','unit_price','order_date','Source'])\n",
    "final_aenc_orderdetail_item = final_aenc_orderdetail_item.rename(columns={'id_x' : 'OrderID', 'line_id' : 'OrderLineID', 'quantity': 'Quantity', 'unit_price': 'UnitPrice','order_date' : 'OrderDate'})\n",
    "final_aenc_orderdetail_item"
   ],
   "metadata": {
    "collapsed": false,
    "ExecuteTime": {
     "end_time": "2024-05-31T08:50:24.560587400Z",
     "start_time": "2024-05-31T08:50:24.511467400Z"
    }
   },
   "id": "34f936322d9686c5",
   "execution_count": 39
  },
  {
   "cell_type": "code",
   "outputs": [
    {
     "data": {
      "text/plain": "      OrderID  ProductID  UnitPrice  Quantity  Discount CustomerID  \\\n0       10248         11      14.00        12      0.00      VINET   \n1       10248         42       9.80        10      0.00      VINET   \n2       10248         72      34.80         5      0.00      VINET   \n3       10249         14      18.60         9      0.00      TOMSP   \n4       10249         51      42.40        40      0.00      TOMSP   \n...       ...        ...        ...       ...       ...        ...   \n2150    11077         64      33.25         2      0.03      RATTC   \n2151    11077         66      17.00         1      0.00      RATTC   \n2152    11077         73      15.00         2      0.01      RATTC   \n2153    11077         75       7.75         4      0.00      RATTC   \n2154    11077         77      13.00         2      0.00      RATTC   \n\n      EmployeeID  OrderDate RequiredDate ShippedDate  ShipVia  Freight  \\\n0              5 1996-07-04   1996-08-01  1996-07-16        3    32.38   \n1              5 1996-07-04   1996-08-01  1996-07-16        3    32.38   \n2              5 1996-07-04   1996-08-01  1996-07-16        3    32.38   \n3              6 1996-07-05   1996-08-16  1996-07-10        1    11.61   \n4              6 1996-07-05   1996-08-16  1996-07-10        1    11.61   \n...          ...        ...          ...         ...      ...      ...   \n2150           1 1998-05-06   1998-06-03         NaT        2     8.53   \n2151           1 1998-05-06   1998-06-03         NaT        2     8.53   \n2152           1 1998-05-06   1998-06-03         NaT        2     8.53   \n2153           1 1998-05-06   1998-06-03         NaT        2     8.53   \n2154           1 1998-05-06   1998-06-03         NaT        2     8.53   \n\n                        ShipName         ShipAddress     ShipCity ShipRegion  \\\n0      Vins et alcools Chevalier  59 rue de l'Abbaye        Reims       None   \n1      Vins et alcools Chevalier  59 rue de l'Abbaye        Reims       None   \n2      Vins et alcools Chevalier  59 rue de l'Abbaye        Reims       None   \n3             Toms Spezialitäten       Luisenstr. 48      Münster       None   \n4             Toms Spezialitäten       Luisenstr. 48      Münster       None   \n...                          ...                 ...          ...        ...   \n2150  Rattlesnake Canyon Grocery     2817 Milton Dr.  Albuquerque         NM   \n2151  Rattlesnake Canyon Grocery     2817 Milton Dr.  Albuquerque         NM   \n2152  Rattlesnake Canyon Grocery     2817 Milton Dr.  Albuquerque         NM   \n2153  Rattlesnake Canyon Grocery     2817 Milton Dr.  Albuquerque         NM   \n2154  Rattlesnake Canyon Grocery     2817 Milton Dr.  Albuquerque         NM   \n\n     ShipPostalCode ShipCountry     Source  \n0             51100      France  NorthWind  \n1             51100      France  NorthWind  \n2             51100      France  NorthWind  \n3             44087     Germany  NorthWind  \n4             44087     Germany  NorthWind  \n...             ...         ...        ...  \n2150          87110         USA  NorthWind  \n2151          87110         USA  NorthWind  \n2152          87110         USA  NorthWind  \n2153          87110         USA  NorthWind  \n2154          87110         USA  NorthWind  \n\n[2155 rows x 19 columns]",
      "text/html": "<div>\n<style scoped>\n    .dataframe tbody tr th:only-of-type {\n        vertical-align: middle;\n    }\n\n    .dataframe tbody tr th {\n        vertical-align: top;\n    }\n\n    .dataframe thead th {\n        text-align: right;\n    }\n</style>\n<table border=\"1\" class=\"dataframe\">\n  <thead>\n    <tr style=\"text-align: right;\">\n      <th></th>\n      <th>OrderID</th>\n      <th>ProductID</th>\n      <th>UnitPrice</th>\n      <th>Quantity</th>\n      <th>Discount</th>\n      <th>CustomerID</th>\n      <th>EmployeeID</th>\n      <th>OrderDate</th>\n      <th>RequiredDate</th>\n      <th>ShippedDate</th>\n      <th>ShipVia</th>\n      <th>Freight</th>\n      <th>ShipName</th>\n      <th>ShipAddress</th>\n      <th>ShipCity</th>\n      <th>ShipRegion</th>\n      <th>ShipPostalCode</th>\n      <th>ShipCountry</th>\n      <th>Source</th>\n    </tr>\n  </thead>\n  <tbody>\n    <tr>\n      <th>0</th>\n      <td>10248</td>\n      <td>11</td>\n      <td>14.00</td>\n      <td>12</td>\n      <td>0.00</td>\n      <td>VINET</td>\n      <td>5</td>\n      <td>1996-07-04</td>\n      <td>1996-08-01</td>\n      <td>1996-07-16</td>\n      <td>3</td>\n      <td>32.38</td>\n      <td>Vins et alcools Chevalier</td>\n      <td>59 rue de l'Abbaye</td>\n      <td>Reims</td>\n      <td>None</td>\n      <td>51100</td>\n      <td>France</td>\n      <td>NorthWind</td>\n    </tr>\n    <tr>\n      <th>1</th>\n      <td>10248</td>\n      <td>42</td>\n      <td>9.80</td>\n      <td>10</td>\n      <td>0.00</td>\n      <td>VINET</td>\n      <td>5</td>\n      <td>1996-07-04</td>\n      <td>1996-08-01</td>\n      <td>1996-07-16</td>\n      <td>3</td>\n      <td>32.38</td>\n      <td>Vins et alcools Chevalier</td>\n      <td>59 rue de l'Abbaye</td>\n      <td>Reims</td>\n      <td>None</td>\n      <td>51100</td>\n      <td>France</td>\n      <td>NorthWind</td>\n    </tr>\n    <tr>\n      <th>2</th>\n      <td>10248</td>\n      <td>72</td>\n      <td>34.80</td>\n      <td>5</td>\n      <td>0.00</td>\n      <td>VINET</td>\n      <td>5</td>\n      <td>1996-07-04</td>\n      <td>1996-08-01</td>\n      <td>1996-07-16</td>\n      <td>3</td>\n      <td>32.38</td>\n      <td>Vins et alcools Chevalier</td>\n      <td>59 rue de l'Abbaye</td>\n      <td>Reims</td>\n      <td>None</td>\n      <td>51100</td>\n      <td>France</td>\n      <td>NorthWind</td>\n    </tr>\n    <tr>\n      <th>3</th>\n      <td>10249</td>\n      <td>14</td>\n      <td>18.60</td>\n      <td>9</td>\n      <td>0.00</td>\n      <td>TOMSP</td>\n      <td>6</td>\n      <td>1996-07-05</td>\n      <td>1996-08-16</td>\n      <td>1996-07-10</td>\n      <td>1</td>\n      <td>11.61</td>\n      <td>Toms Spezialitäten</td>\n      <td>Luisenstr. 48</td>\n      <td>Münster</td>\n      <td>None</td>\n      <td>44087</td>\n      <td>Germany</td>\n      <td>NorthWind</td>\n    </tr>\n    <tr>\n      <th>4</th>\n      <td>10249</td>\n      <td>51</td>\n      <td>42.40</td>\n      <td>40</td>\n      <td>0.00</td>\n      <td>TOMSP</td>\n      <td>6</td>\n      <td>1996-07-05</td>\n      <td>1996-08-16</td>\n      <td>1996-07-10</td>\n      <td>1</td>\n      <td>11.61</td>\n      <td>Toms Spezialitäten</td>\n      <td>Luisenstr. 48</td>\n      <td>Münster</td>\n      <td>None</td>\n      <td>44087</td>\n      <td>Germany</td>\n      <td>NorthWind</td>\n    </tr>\n    <tr>\n      <th>...</th>\n      <td>...</td>\n      <td>...</td>\n      <td>...</td>\n      <td>...</td>\n      <td>...</td>\n      <td>...</td>\n      <td>...</td>\n      <td>...</td>\n      <td>...</td>\n      <td>...</td>\n      <td>...</td>\n      <td>...</td>\n      <td>...</td>\n      <td>...</td>\n      <td>...</td>\n      <td>...</td>\n      <td>...</td>\n      <td>...</td>\n      <td>...</td>\n    </tr>\n    <tr>\n      <th>2150</th>\n      <td>11077</td>\n      <td>64</td>\n      <td>33.25</td>\n      <td>2</td>\n      <td>0.03</td>\n      <td>RATTC</td>\n      <td>1</td>\n      <td>1998-05-06</td>\n      <td>1998-06-03</td>\n      <td>NaT</td>\n      <td>2</td>\n      <td>8.53</td>\n      <td>Rattlesnake Canyon Grocery</td>\n      <td>2817 Milton Dr.</td>\n      <td>Albuquerque</td>\n      <td>NM</td>\n      <td>87110</td>\n      <td>USA</td>\n      <td>NorthWind</td>\n    </tr>\n    <tr>\n      <th>2151</th>\n      <td>11077</td>\n      <td>66</td>\n      <td>17.00</td>\n      <td>1</td>\n      <td>0.00</td>\n      <td>RATTC</td>\n      <td>1</td>\n      <td>1998-05-06</td>\n      <td>1998-06-03</td>\n      <td>NaT</td>\n      <td>2</td>\n      <td>8.53</td>\n      <td>Rattlesnake Canyon Grocery</td>\n      <td>2817 Milton Dr.</td>\n      <td>Albuquerque</td>\n      <td>NM</td>\n      <td>87110</td>\n      <td>USA</td>\n      <td>NorthWind</td>\n    </tr>\n    <tr>\n      <th>2152</th>\n      <td>11077</td>\n      <td>73</td>\n      <td>15.00</td>\n      <td>2</td>\n      <td>0.01</td>\n      <td>RATTC</td>\n      <td>1</td>\n      <td>1998-05-06</td>\n      <td>1998-06-03</td>\n      <td>NaT</td>\n      <td>2</td>\n      <td>8.53</td>\n      <td>Rattlesnake Canyon Grocery</td>\n      <td>2817 Milton Dr.</td>\n      <td>Albuquerque</td>\n      <td>NM</td>\n      <td>87110</td>\n      <td>USA</td>\n      <td>NorthWind</td>\n    </tr>\n    <tr>\n      <th>2153</th>\n      <td>11077</td>\n      <td>75</td>\n      <td>7.75</td>\n      <td>4</td>\n      <td>0.00</td>\n      <td>RATTC</td>\n      <td>1</td>\n      <td>1998-05-06</td>\n      <td>1998-06-03</td>\n      <td>NaT</td>\n      <td>2</td>\n      <td>8.53</td>\n      <td>Rattlesnake Canyon Grocery</td>\n      <td>2817 Milton Dr.</td>\n      <td>Albuquerque</td>\n      <td>NM</td>\n      <td>87110</td>\n      <td>USA</td>\n      <td>NorthWind</td>\n    </tr>\n    <tr>\n      <th>2154</th>\n      <td>11077</td>\n      <td>77</td>\n      <td>13.00</td>\n      <td>2</td>\n      <td>0.00</td>\n      <td>RATTC</td>\n      <td>1</td>\n      <td>1998-05-06</td>\n      <td>1998-06-03</td>\n      <td>NaT</td>\n      <td>2</td>\n      <td>8.53</td>\n      <td>Rattlesnake Canyon Grocery</td>\n      <td>2817 Milton Dr.</td>\n      <td>Albuquerque</td>\n      <td>NM</td>\n      <td>87110</td>\n      <td>USA</td>\n      <td>NorthWind</td>\n    </tr>\n  </tbody>\n</table>\n<p>2155 rows × 19 columns</p>\n</div>"
     },
     "execution_count": 40,
     "metadata": {},
     "output_type": "execute_result"
    }
   ],
   "source": [
    "nw_df_orderDetails_merged = pd.merge(nw_df_orders_details,nw_df_orders,on='OrderID',how='left')\n",
    "nw_df_orderDetails_merged['Source'] = 'NorthWind'\n",
    "nw_df_orderDetails_merged"
   ],
   "metadata": {
    "collapsed": false,
    "ExecuteTime": {
     "end_time": "2024-05-31T08:50:27.230776800Z",
     "start_time": "2024-05-31T08:50:27.168383400Z"
    }
   },
   "id": "fd74adc3aededac7",
   "execution_count": 40
  },
  {
   "cell_type": "code",
   "outputs": [],
   "source": [
    "df_employee_new = pd.read_csv('./Dimensies/Employee.csv')\n",
    "df_product_new = pd.read_csv('./Dimensies/Product.csv')\n",
    "df_employee_new_northwind = df_employee_new.loc[df_employee_new['Source'] == 'NorthWind']\n",
    "df_employee_new_northwind.loc[:, 'EmployeeID'] = df_employee_new_northwind['EmployeeID'].astype('int64')\n",
    "\n"
   ],
   "metadata": {
    "collapsed": false,
    "ExecuteTime": {
     "end_time": "2024-05-31T08:50:28.517894200Z",
     "start_time": "2024-05-31T08:50:28.479887700Z"
    }
   },
   "id": "badff35ab25a7832",
   "execution_count": 41
  },
  {
   "cell_type": "code",
   "outputs": [
    {
     "data": {
      "text/plain": "      OrderID  ProductID  UnitPrice  Quantity  Discount CustomerID EmployeeID  \\\n0       10248         11      14.00        12      0.00      VINET          5   \n1       10248         42       9.80        10      0.00      VINET          5   \n2       10248         72      34.80         5      0.00      VINET          5   \n3       10249         14      18.60         9      0.00      TOMSP          6   \n4       10249         51      42.40        40      0.00      TOMSP          6   \n...       ...        ...        ...       ...       ...        ...        ...   \n2150    11077         64      33.25         2      0.03      RATTC          1   \n2151    11077         66      17.00         1      0.00      RATTC          1   \n2152    11077         73      15.00         2      0.01      RATTC          1   \n2153    11077         75       7.75         4      0.00      RATTC          1   \n2154    11077         77      13.00         2      0.00      RATTC          1   \n\n      OrderDate RequiredDate ShippedDate  ...  LastName  \\\n0    1996-07-04   1996-08-01  1996-07-16  ...  Buchanan   \n1    1996-07-04   1996-08-01  1996-07-16  ...  Buchanan   \n2    1996-07-04   1996-08-01  1996-07-16  ...  Buchanan   \n3    1996-07-05   1996-08-16  1996-07-10  ...    Suyama   \n4    1996-07-05   1996-08-16  1996-07-10  ...    Suyama   \n...         ...          ...         ...  ...       ...   \n2150 1998-05-06   1998-06-03         NaT  ...   Davolio   \n2151 1998-05-06   1998-06-03         NaT  ...   Davolio   \n2152 1998-05-06   1998-06-03         NaT  ...   Davolio   \n2153 1998-05-06   1998-06-03         NaT  ...   Davolio   \n2154 1998-05-06   1998-06-03         NaT  ...   Davolio   \n\n                        Address     City       State         Country  \\\n0               14 Garrett Hill   London     England  United Kingdom   \n1               14 Garrett Hill   London     England  United Kingdom   \n2               14 Garrett Hill   London     England  United Kingdom   \n3     Coventry House\\nMiner Rd.   London     England  United Kingdom   \n4     Coventry House\\nMiner Rd.   London     England  United Kingdom   \n...                         ...      ...         ...             ...   \n2150  507 - 20th Ave. E.Apt. 2A  Seattle  Washington   United States   \n2151  507 - 20th Ave. E.Apt. 2A  Seattle  Washington   United States   \n2152  507 - 20th Ave. E.Apt. 2A  Seattle  Washington   United States   \n2153  507 - 20th Ave. E.Apt. 2A  Seattle  Washington   United States   \n2154  507 - 20th Ave. E.Apt. 2A  Seattle  Washington   United States   \n\n     Unnamed: 0_y ProductKey                             Name     Subcategory  \\\n0             524        525                   Queso Cabrales  Dairy Products   \n1             555        556    Singaporean Hokkien Fried Mee  Grains/Cereals   \n2             585        586           Mozzarella di Giovanni  Dairy Products   \n3             527        528                             Tofu         Produce   \n4             564        565            Manjimup Dried Apples         Produce   \n...           ...        ...                              ...             ...   \n2150          577        578        Wimmers gute Semmelknödel  Grains/Cereals   \n2151          579        580        Louisiana Hot Spiced Okra      Condiments   \n2152          586        587                       Röd Kaviar         Seafood   \n2153          588        589             Rhönbräu Klosterbier       Beverages   \n2154          590        591  Original Frankfurter grüne Soße      Condiments   \n\n      Category  \n0         Food  \n1         Food  \n2         Food  \n3         Food  \n4         Food  \n...        ...  \n2150      Food  \n2151      Food  \n2152      Food  \n2153      Food  \n2154      Food  \n\n[2155 rows x 32 columns]",
      "text/html": "<div>\n<style scoped>\n    .dataframe tbody tr th:only-of-type {\n        vertical-align: middle;\n    }\n\n    .dataframe tbody tr th {\n        vertical-align: top;\n    }\n\n    .dataframe thead th {\n        text-align: right;\n    }\n</style>\n<table border=\"1\" class=\"dataframe\">\n  <thead>\n    <tr style=\"text-align: right;\">\n      <th></th>\n      <th>OrderID</th>\n      <th>ProductID</th>\n      <th>UnitPrice</th>\n      <th>Quantity</th>\n      <th>Discount</th>\n      <th>CustomerID</th>\n      <th>EmployeeID</th>\n      <th>OrderDate</th>\n      <th>RequiredDate</th>\n      <th>ShippedDate</th>\n      <th>...</th>\n      <th>LastName</th>\n      <th>Address</th>\n      <th>City</th>\n      <th>State</th>\n      <th>Country</th>\n      <th>Unnamed: 0_y</th>\n      <th>ProductKey</th>\n      <th>Name</th>\n      <th>Subcategory</th>\n      <th>Category</th>\n    </tr>\n  </thead>\n  <tbody>\n    <tr>\n      <th>0</th>\n      <td>10248</td>\n      <td>11</td>\n      <td>14.00</td>\n      <td>12</td>\n      <td>0.00</td>\n      <td>VINET</td>\n      <td>5</td>\n      <td>1996-07-04</td>\n      <td>1996-08-01</td>\n      <td>1996-07-16</td>\n      <td>...</td>\n      <td>Buchanan</td>\n      <td>14 Garrett Hill</td>\n      <td>London</td>\n      <td>England</td>\n      <td>United Kingdom</td>\n      <td>524</td>\n      <td>525</td>\n      <td>Queso Cabrales</td>\n      <td>Dairy Products</td>\n      <td>Food</td>\n    </tr>\n    <tr>\n      <th>1</th>\n      <td>10248</td>\n      <td>42</td>\n      <td>9.80</td>\n      <td>10</td>\n      <td>0.00</td>\n      <td>VINET</td>\n      <td>5</td>\n      <td>1996-07-04</td>\n      <td>1996-08-01</td>\n      <td>1996-07-16</td>\n      <td>...</td>\n      <td>Buchanan</td>\n      <td>14 Garrett Hill</td>\n      <td>London</td>\n      <td>England</td>\n      <td>United Kingdom</td>\n      <td>555</td>\n      <td>556</td>\n      <td>Singaporean Hokkien Fried Mee</td>\n      <td>Grains/Cereals</td>\n      <td>Food</td>\n    </tr>\n    <tr>\n      <th>2</th>\n      <td>10248</td>\n      <td>72</td>\n      <td>34.80</td>\n      <td>5</td>\n      <td>0.00</td>\n      <td>VINET</td>\n      <td>5</td>\n      <td>1996-07-04</td>\n      <td>1996-08-01</td>\n      <td>1996-07-16</td>\n      <td>...</td>\n      <td>Buchanan</td>\n      <td>14 Garrett Hill</td>\n      <td>London</td>\n      <td>England</td>\n      <td>United Kingdom</td>\n      <td>585</td>\n      <td>586</td>\n      <td>Mozzarella di Giovanni</td>\n      <td>Dairy Products</td>\n      <td>Food</td>\n    </tr>\n    <tr>\n      <th>3</th>\n      <td>10249</td>\n      <td>14</td>\n      <td>18.60</td>\n      <td>9</td>\n      <td>0.00</td>\n      <td>TOMSP</td>\n      <td>6</td>\n      <td>1996-07-05</td>\n      <td>1996-08-16</td>\n      <td>1996-07-10</td>\n      <td>...</td>\n      <td>Suyama</td>\n      <td>Coventry House\\nMiner Rd.</td>\n      <td>London</td>\n      <td>England</td>\n      <td>United Kingdom</td>\n      <td>527</td>\n      <td>528</td>\n      <td>Tofu</td>\n      <td>Produce</td>\n      <td>Food</td>\n    </tr>\n    <tr>\n      <th>4</th>\n      <td>10249</td>\n      <td>51</td>\n      <td>42.40</td>\n      <td>40</td>\n      <td>0.00</td>\n      <td>TOMSP</td>\n      <td>6</td>\n      <td>1996-07-05</td>\n      <td>1996-08-16</td>\n      <td>1996-07-10</td>\n      <td>...</td>\n      <td>Suyama</td>\n      <td>Coventry House\\nMiner Rd.</td>\n      <td>London</td>\n      <td>England</td>\n      <td>United Kingdom</td>\n      <td>564</td>\n      <td>565</td>\n      <td>Manjimup Dried Apples</td>\n      <td>Produce</td>\n      <td>Food</td>\n    </tr>\n    <tr>\n      <th>...</th>\n      <td>...</td>\n      <td>...</td>\n      <td>...</td>\n      <td>...</td>\n      <td>...</td>\n      <td>...</td>\n      <td>...</td>\n      <td>...</td>\n      <td>...</td>\n      <td>...</td>\n      <td>...</td>\n      <td>...</td>\n      <td>...</td>\n      <td>...</td>\n      <td>...</td>\n      <td>...</td>\n      <td>...</td>\n      <td>...</td>\n      <td>...</td>\n      <td>...</td>\n      <td>...</td>\n    </tr>\n    <tr>\n      <th>2150</th>\n      <td>11077</td>\n      <td>64</td>\n      <td>33.25</td>\n      <td>2</td>\n      <td>0.03</td>\n      <td>RATTC</td>\n      <td>1</td>\n      <td>1998-05-06</td>\n      <td>1998-06-03</td>\n      <td>NaT</td>\n      <td>...</td>\n      <td>Davolio</td>\n      <td>507 - 20th Ave. E.Apt. 2A</td>\n      <td>Seattle</td>\n      <td>Washington</td>\n      <td>United States</td>\n      <td>577</td>\n      <td>578</td>\n      <td>Wimmers gute Semmelknödel</td>\n      <td>Grains/Cereals</td>\n      <td>Food</td>\n    </tr>\n    <tr>\n      <th>2151</th>\n      <td>11077</td>\n      <td>66</td>\n      <td>17.00</td>\n      <td>1</td>\n      <td>0.00</td>\n      <td>RATTC</td>\n      <td>1</td>\n      <td>1998-05-06</td>\n      <td>1998-06-03</td>\n      <td>NaT</td>\n      <td>...</td>\n      <td>Davolio</td>\n      <td>507 - 20th Ave. E.Apt. 2A</td>\n      <td>Seattle</td>\n      <td>Washington</td>\n      <td>United States</td>\n      <td>579</td>\n      <td>580</td>\n      <td>Louisiana Hot Spiced Okra</td>\n      <td>Condiments</td>\n      <td>Food</td>\n    </tr>\n    <tr>\n      <th>2152</th>\n      <td>11077</td>\n      <td>73</td>\n      <td>15.00</td>\n      <td>2</td>\n      <td>0.01</td>\n      <td>RATTC</td>\n      <td>1</td>\n      <td>1998-05-06</td>\n      <td>1998-06-03</td>\n      <td>NaT</td>\n      <td>...</td>\n      <td>Davolio</td>\n      <td>507 - 20th Ave. E.Apt. 2A</td>\n      <td>Seattle</td>\n      <td>Washington</td>\n      <td>United States</td>\n      <td>586</td>\n      <td>587</td>\n      <td>Röd Kaviar</td>\n      <td>Seafood</td>\n      <td>Food</td>\n    </tr>\n    <tr>\n      <th>2153</th>\n      <td>11077</td>\n      <td>75</td>\n      <td>7.75</td>\n      <td>4</td>\n      <td>0.00</td>\n      <td>RATTC</td>\n      <td>1</td>\n      <td>1998-05-06</td>\n      <td>1998-06-03</td>\n      <td>NaT</td>\n      <td>...</td>\n      <td>Davolio</td>\n      <td>507 - 20th Ave. E.Apt. 2A</td>\n      <td>Seattle</td>\n      <td>Washington</td>\n      <td>United States</td>\n      <td>588</td>\n      <td>589</td>\n      <td>Rhönbräu Klosterbier</td>\n      <td>Beverages</td>\n      <td>Food</td>\n    </tr>\n    <tr>\n      <th>2154</th>\n      <td>11077</td>\n      <td>77</td>\n      <td>13.00</td>\n      <td>2</td>\n      <td>0.00</td>\n      <td>RATTC</td>\n      <td>1</td>\n      <td>1998-05-06</td>\n      <td>1998-06-03</td>\n      <td>NaT</td>\n      <td>...</td>\n      <td>Davolio</td>\n      <td>507 - 20th Ave. E.Apt. 2A</td>\n      <td>Seattle</td>\n      <td>Washington</td>\n      <td>United States</td>\n      <td>590</td>\n      <td>591</td>\n      <td>Original Frankfurter grüne Soße</td>\n      <td>Condiments</td>\n      <td>Food</td>\n    </tr>\n  </tbody>\n</table>\n<p>2155 rows × 32 columns</p>\n</div>"
     },
     "execution_count": 42,
     "metadata": {},
     "output_type": "execute_result"
    }
   ],
   "source": [
    "nw_df_orderDetails_merged_employee = pd.merge(nw_df_orderDetails_merged,df_employee_new_northwind,on=['EmployeeID','Source'],how='left')\n",
    "nw_df_orderDetails_merged_product = pd.merge(nw_df_orderDetails_merged_employee,df_product_new,on=['ProductID','Source'],how='left')\n",
    "nw_df_orderDetails_merged_product"
   ],
   "metadata": {
    "collapsed": false,
    "ExecuteTime": {
     "end_time": "2024-05-31T08:50:29.537134400Z",
     "start_time": "2024-05-31T08:50:29.467118800Z"
    }
   },
   "id": "2ff86a5adb393d31",
   "execution_count": 42
  },
  {
   "cell_type": "code",
   "outputs": [
    {
     "data": {
      "text/plain": "      OrderID  OrderLineID  ProductKey  EmployeeKey  Quantity  UnitPrice  \\\n0       10248           11         525           97        12      14.00   \n1       10248           42         556           97        10       9.80   \n2       10248           72         586           97         5      34.80   \n3       10249           14         528           98         9      18.60   \n4       10249           51         565           98        40      42.40   \n...       ...          ...         ...          ...       ...        ...   \n2150    11077           64         578           93         2      33.25   \n2151    11077           66         580           93         1      17.00   \n2152    11077           73         587           93         2      15.00   \n2153    11077           75         589           93         4       7.75   \n2154    11077           77         591           93         2      13.00   \n\n      OrderDate     Source  \n0    1996-07-04  NorthWind  \n1    1996-07-04  NorthWind  \n2    1996-07-04  NorthWind  \n3    1996-07-05  NorthWind  \n4    1996-07-05  NorthWind  \n...         ...        ...  \n2150 1998-05-06  NorthWind  \n2151 1998-05-06  NorthWind  \n2152 1998-05-06  NorthWind  \n2153 1998-05-06  NorthWind  \n2154 1998-05-06  NorthWind  \n\n[2155 rows x 8 columns]",
      "text/html": "<div>\n<style scoped>\n    .dataframe tbody tr th:only-of-type {\n        vertical-align: middle;\n    }\n\n    .dataframe tbody tr th {\n        vertical-align: top;\n    }\n\n    .dataframe thead th {\n        text-align: right;\n    }\n</style>\n<table border=\"1\" class=\"dataframe\">\n  <thead>\n    <tr style=\"text-align: right;\">\n      <th></th>\n      <th>OrderID</th>\n      <th>OrderLineID</th>\n      <th>ProductKey</th>\n      <th>EmployeeKey</th>\n      <th>Quantity</th>\n      <th>UnitPrice</th>\n      <th>OrderDate</th>\n      <th>Source</th>\n    </tr>\n  </thead>\n  <tbody>\n    <tr>\n      <th>0</th>\n      <td>10248</td>\n      <td>11</td>\n      <td>525</td>\n      <td>97</td>\n      <td>12</td>\n      <td>14.00</td>\n      <td>1996-07-04</td>\n      <td>NorthWind</td>\n    </tr>\n    <tr>\n      <th>1</th>\n      <td>10248</td>\n      <td>42</td>\n      <td>556</td>\n      <td>97</td>\n      <td>10</td>\n      <td>9.80</td>\n      <td>1996-07-04</td>\n      <td>NorthWind</td>\n    </tr>\n    <tr>\n      <th>2</th>\n      <td>10248</td>\n      <td>72</td>\n      <td>586</td>\n      <td>97</td>\n      <td>5</td>\n      <td>34.80</td>\n      <td>1996-07-04</td>\n      <td>NorthWind</td>\n    </tr>\n    <tr>\n      <th>3</th>\n      <td>10249</td>\n      <td>14</td>\n      <td>528</td>\n      <td>98</td>\n      <td>9</td>\n      <td>18.60</td>\n      <td>1996-07-05</td>\n      <td>NorthWind</td>\n    </tr>\n    <tr>\n      <th>4</th>\n      <td>10249</td>\n      <td>51</td>\n      <td>565</td>\n      <td>98</td>\n      <td>40</td>\n      <td>42.40</td>\n      <td>1996-07-05</td>\n      <td>NorthWind</td>\n    </tr>\n    <tr>\n      <th>...</th>\n      <td>...</td>\n      <td>...</td>\n      <td>...</td>\n      <td>...</td>\n      <td>...</td>\n      <td>...</td>\n      <td>...</td>\n      <td>...</td>\n    </tr>\n    <tr>\n      <th>2150</th>\n      <td>11077</td>\n      <td>64</td>\n      <td>578</td>\n      <td>93</td>\n      <td>2</td>\n      <td>33.25</td>\n      <td>1998-05-06</td>\n      <td>NorthWind</td>\n    </tr>\n    <tr>\n      <th>2151</th>\n      <td>11077</td>\n      <td>66</td>\n      <td>580</td>\n      <td>93</td>\n      <td>1</td>\n      <td>17.00</td>\n      <td>1998-05-06</td>\n      <td>NorthWind</td>\n    </tr>\n    <tr>\n      <th>2152</th>\n      <td>11077</td>\n      <td>73</td>\n      <td>587</td>\n      <td>93</td>\n      <td>2</td>\n      <td>15.00</td>\n      <td>1998-05-06</td>\n      <td>NorthWind</td>\n    </tr>\n    <tr>\n      <th>2153</th>\n      <td>11077</td>\n      <td>75</td>\n      <td>589</td>\n      <td>93</td>\n      <td>4</td>\n      <td>7.75</td>\n      <td>1998-05-06</td>\n      <td>NorthWind</td>\n    </tr>\n    <tr>\n      <th>2154</th>\n      <td>11077</td>\n      <td>77</td>\n      <td>591</td>\n      <td>93</td>\n      <td>2</td>\n      <td>13.00</td>\n      <td>1998-05-06</td>\n      <td>NorthWind</td>\n    </tr>\n  </tbody>\n</table>\n<p>2155 rows × 8 columns</p>\n</div>"
     },
     "execution_count": 43,
     "metadata": {},
     "output_type": "execute_result"
    }
   ],
   "source": [
    "final_nw_orderdetail_item = nw_df_orderDetails_merged_product.drop(columns=['Discount','CustomerID','EmployeeID','RequiredDate','ShipAddress','ShipCity','ShipCountry','ShipName','ShippedDate','ShipPostalCode','ShipRegion','ShipVia','Freight','Unnamed: 0_x','Unnamed: 0_y','FirstName','LastName','Address','City','State','Country','Name','Subcategory','Category'])\n",
    "final_nw_orderdetail_item = final_nw_orderdetail_item.reindex(columns=['OrderID','ProductID','ProductKey','EmployeeKey','Quantity','UnitPrice','OrderDate','Source'])\n",
    "final_nw_orderdetail_item = final_nw_orderdetail_item.rename(columns={'ProductID' : 'OrderLineID'})\n",
    "\n",
    "final_nw_orderdetail_item"
   ],
   "metadata": {
    "collapsed": false,
    "ExecuteTime": {
     "end_time": "2024-05-31T08:50:30.722647Z",
     "start_time": "2024-05-31T08:50:30.675613500Z"
    }
   },
   "id": "6d8afe0224a825c",
   "execution_count": 43
  },
  {
   "cell_type": "code",
   "outputs": [
    {
     "data": {
      "text/plain": "        SalesOrderID  SalesOrderDetailID CarrierTrackingNumber  OrderQty  \\\n0              43659                   1          4911-403C-98         1   \n1              43661                  25          4E0A-4F89-AE         4   \n2              43665                  70          19F0-4638-8E         1   \n3              43670                 114          F101-4649-85         1   \n4              43672                 127          F4B5-48D0-BA         2   \n...              ...                 ...                   ...       ...   \n121312         75059              121158                  NULL         1   \n121313         75082              121219                  NULL         1   \n121314         75088              121230                  NULL         1   \n121315         51823               41781          2FB1-4AE1-BC         1   \n121316         51875               42912          CB08-4C83-82         3   \n\n        ProductID  SpecialOfferID  UnitPrice  UnitPriceDiscount  LineTotal  \\\n0             776               1   2024.994                0.0   2024.994   \n1             776               1   2024.994                0.0   8099.976   \n2             776               1   2024.994                0.0   2024.994   \n3             776               1   2024.994                0.0   2024.994   \n4             776               1   2024.994                0.0   4049.988   \n...           ...             ...        ...                ...        ...   \n121312        713               1     49.990                0.0     49.990   \n121313        713               1     49.990                0.0     49.990   \n121314        713               1     49.990                0.0     49.990   \n121315        897               1    200.052                0.0    200.052   \n121316        897               1    200.052                0.0    600.156   \n\n                                   rowguid_x  ...     TotalDue  Comment  \\\n0       B207C96D-D9E6-402B-8470-2CC176C42283  ...   23153.2339     NULL   \n1       E8E15B60-3A73-4507-9368-A4FB27B6EE0B  ...   36865.8012     NULL   \n2       0D2A679C-6C8E-4CC2-8A55-B8DB83937AC2  ...   16158.6961     NULL   \n3       7E07B269-8004-418E-A426-A38B3526E467  ...    6893.2549     NULL   \n4       4FCF9FC7-3B29-41D0-8BAC-E022BD06BA93  ...    6895.4100     NULL   \n...                                      ...  ...          ...      ...   \n121312  130B86CE-7C17-42C5-B2DA-D2DD0687D9E6  ...     134.7437     NULL   \n121313  5CC22934-06C4-46AA-AB64-9AB0246A99D9  ...      59.6479     NULL   \n121314  5C085429-02B3-45C9-ADC8-ED18C64C3589  ...     125.9258     NULL   \n121315  34019C07-4672-4619-9E13-9F3A64847794  ...  112685.2793     NULL   \n121316  8BFA8F82-D489-4B92-84B8-DD015EE2F4FA  ...   44816.9738     NULL   \n\n                                   rowguid_y ModifiedDate_y          Source  \\\n0       79B65321-39CA-4115-9CBA-8FE0903E12E6     2011-06-07  AdventureWorks   \n1       D91B9131-18A4-4A11-BC3A-90B6F53E9D74     2011-06-07  AdventureWorks   \n2       5602C304-853C-43D7-9E79-76E320D476CF     2011-06-07  AdventureWorks   \n3       573E52A7-573F-40B6-B695-6F3D242E0C6D     2011-06-07  AdventureWorks   \n4       194202AA-8E15-4932-A2C4-7A7AC0713639     2011-06-07  AdventureWorks   \n...                                      ...            ...             ...   \n121312  1569F6C4-0633-42B4-A154-ED3FE809A37C     2014-07-05  AdventureWorks   \n121313  A588873C-3719-465C-B217-A8B415F7DDF0     2014-07-06  AdventureWorks   \n121314  E90D88B8-C4D5-4C1C-AADE-66ECDAD220AE     2014-07-07  AdventureWorks   \n121315  ECFC6AD2-F55D-43D2-AF03-C08B55535550     2013-07-07  AdventureWorks   \n121316  C923704F-1747-4826-8374-EBDF2A091316     2013-07-07  AdventureWorks   \n\n        Unnamed: 0  ProductKey                         Name     Subcategory  \\\n0              280         281       Mountain-100 Black, 42  Mountain Bikes   \n1              280         281       Mountain-100 Black, 42  Mountain Bikes   \n2              280         281       Mountain-100 Black, 42  Mountain Bikes   \n3              280         281       Mountain-100 Black, 42  Mountain Bikes   \n4              280         281       Mountain-100 Black, 42  Mountain Bikes   \n...            ...         ...                          ...             ...   \n121312         217         218   Long-Sleeve Logo Jersey, S         Jerseys   \n121313         217         218   Long-Sleeve Logo Jersey, S         Jerseys   \n121314         217         218   Long-Sleeve Logo Jersey, S         Jerseys   \n121315         401         402  LL Touring Frame - Blue, 58  Touring Frames   \n121316         401         402  LL Touring Frame - Blue, 58  Touring Frames   \n\n          Category  \n0            Bikes  \n1            Bikes  \n2            Bikes  \n3            Bikes  \n4            Bikes  \n...            ...  \n121312    Clothing  \n121313    Clothing  \n121314    Clothing  \n121315  Components  \n121316  Components  \n\n[121317 rows x 42 columns]",
      "text/html": "<div>\n<style scoped>\n    .dataframe tbody tr th:only-of-type {\n        vertical-align: middle;\n    }\n\n    .dataframe tbody tr th {\n        vertical-align: top;\n    }\n\n    .dataframe thead th {\n        text-align: right;\n    }\n</style>\n<table border=\"1\" class=\"dataframe\">\n  <thead>\n    <tr style=\"text-align: right;\">\n      <th></th>\n      <th>SalesOrderID</th>\n      <th>SalesOrderDetailID</th>\n      <th>CarrierTrackingNumber</th>\n      <th>OrderQty</th>\n      <th>ProductID</th>\n      <th>SpecialOfferID</th>\n      <th>UnitPrice</th>\n      <th>UnitPriceDiscount</th>\n      <th>LineTotal</th>\n      <th>rowguid_x</th>\n      <th>...</th>\n      <th>TotalDue</th>\n      <th>Comment</th>\n      <th>rowguid_y</th>\n      <th>ModifiedDate_y</th>\n      <th>Source</th>\n      <th>Unnamed: 0</th>\n      <th>ProductKey</th>\n      <th>Name</th>\n      <th>Subcategory</th>\n      <th>Category</th>\n    </tr>\n  </thead>\n  <tbody>\n    <tr>\n      <th>0</th>\n      <td>43659</td>\n      <td>1</td>\n      <td>4911-403C-98</td>\n      <td>1</td>\n      <td>776</td>\n      <td>1</td>\n      <td>2024.994</td>\n      <td>0.0</td>\n      <td>2024.994</td>\n      <td>B207C96D-D9E6-402B-8470-2CC176C42283</td>\n      <td>...</td>\n      <td>23153.2339</td>\n      <td>NULL</td>\n      <td>79B65321-39CA-4115-9CBA-8FE0903E12E6</td>\n      <td>2011-06-07</td>\n      <td>AdventureWorks</td>\n      <td>280</td>\n      <td>281</td>\n      <td>Mountain-100 Black, 42</td>\n      <td>Mountain Bikes</td>\n      <td>Bikes</td>\n    </tr>\n    <tr>\n      <th>1</th>\n      <td>43661</td>\n      <td>25</td>\n      <td>4E0A-4F89-AE</td>\n      <td>4</td>\n      <td>776</td>\n      <td>1</td>\n      <td>2024.994</td>\n      <td>0.0</td>\n      <td>8099.976</td>\n      <td>E8E15B60-3A73-4507-9368-A4FB27B6EE0B</td>\n      <td>...</td>\n      <td>36865.8012</td>\n      <td>NULL</td>\n      <td>D91B9131-18A4-4A11-BC3A-90B6F53E9D74</td>\n      <td>2011-06-07</td>\n      <td>AdventureWorks</td>\n      <td>280</td>\n      <td>281</td>\n      <td>Mountain-100 Black, 42</td>\n      <td>Mountain Bikes</td>\n      <td>Bikes</td>\n    </tr>\n    <tr>\n      <th>2</th>\n      <td>43665</td>\n      <td>70</td>\n      <td>19F0-4638-8E</td>\n      <td>1</td>\n      <td>776</td>\n      <td>1</td>\n      <td>2024.994</td>\n      <td>0.0</td>\n      <td>2024.994</td>\n      <td>0D2A679C-6C8E-4CC2-8A55-B8DB83937AC2</td>\n      <td>...</td>\n      <td>16158.6961</td>\n      <td>NULL</td>\n      <td>5602C304-853C-43D7-9E79-76E320D476CF</td>\n      <td>2011-06-07</td>\n      <td>AdventureWorks</td>\n      <td>280</td>\n      <td>281</td>\n      <td>Mountain-100 Black, 42</td>\n      <td>Mountain Bikes</td>\n      <td>Bikes</td>\n    </tr>\n    <tr>\n      <th>3</th>\n      <td>43670</td>\n      <td>114</td>\n      <td>F101-4649-85</td>\n      <td>1</td>\n      <td>776</td>\n      <td>1</td>\n      <td>2024.994</td>\n      <td>0.0</td>\n      <td>2024.994</td>\n      <td>7E07B269-8004-418E-A426-A38B3526E467</td>\n      <td>...</td>\n      <td>6893.2549</td>\n      <td>NULL</td>\n      <td>573E52A7-573F-40B6-B695-6F3D242E0C6D</td>\n      <td>2011-06-07</td>\n      <td>AdventureWorks</td>\n      <td>280</td>\n      <td>281</td>\n      <td>Mountain-100 Black, 42</td>\n      <td>Mountain Bikes</td>\n      <td>Bikes</td>\n    </tr>\n    <tr>\n      <th>4</th>\n      <td>43672</td>\n      <td>127</td>\n      <td>F4B5-48D0-BA</td>\n      <td>2</td>\n      <td>776</td>\n      <td>1</td>\n      <td>2024.994</td>\n      <td>0.0</td>\n      <td>4049.988</td>\n      <td>4FCF9FC7-3B29-41D0-8BAC-E022BD06BA93</td>\n      <td>...</td>\n      <td>6895.4100</td>\n      <td>NULL</td>\n      <td>194202AA-8E15-4932-A2C4-7A7AC0713639</td>\n      <td>2011-06-07</td>\n      <td>AdventureWorks</td>\n      <td>280</td>\n      <td>281</td>\n      <td>Mountain-100 Black, 42</td>\n      <td>Mountain Bikes</td>\n      <td>Bikes</td>\n    </tr>\n    <tr>\n      <th>...</th>\n      <td>...</td>\n      <td>...</td>\n      <td>...</td>\n      <td>...</td>\n      <td>...</td>\n      <td>...</td>\n      <td>...</td>\n      <td>...</td>\n      <td>...</td>\n      <td>...</td>\n      <td>...</td>\n      <td>...</td>\n      <td>...</td>\n      <td>...</td>\n      <td>...</td>\n      <td>...</td>\n      <td>...</td>\n      <td>...</td>\n      <td>...</td>\n      <td>...</td>\n      <td>...</td>\n    </tr>\n    <tr>\n      <th>121312</th>\n      <td>75059</td>\n      <td>121158</td>\n      <td>NULL</td>\n      <td>1</td>\n      <td>713</td>\n      <td>1</td>\n      <td>49.990</td>\n      <td>0.0</td>\n      <td>49.990</td>\n      <td>130B86CE-7C17-42C5-B2DA-D2DD0687D9E6</td>\n      <td>...</td>\n      <td>134.7437</td>\n      <td>NULL</td>\n      <td>1569F6C4-0633-42B4-A154-ED3FE809A37C</td>\n      <td>2014-07-05</td>\n      <td>AdventureWorks</td>\n      <td>217</td>\n      <td>218</td>\n      <td>Long-Sleeve Logo Jersey, S</td>\n      <td>Jerseys</td>\n      <td>Clothing</td>\n    </tr>\n    <tr>\n      <th>121313</th>\n      <td>75082</td>\n      <td>121219</td>\n      <td>NULL</td>\n      <td>1</td>\n      <td>713</td>\n      <td>1</td>\n      <td>49.990</td>\n      <td>0.0</td>\n      <td>49.990</td>\n      <td>5CC22934-06C4-46AA-AB64-9AB0246A99D9</td>\n      <td>...</td>\n      <td>59.6479</td>\n      <td>NULL</td>\n      <td>A588873C-3719-465C-B217-A8B415F7DDF0</td>\n      <td>2014-07-06</td>\n      <td>AdventureWorks</td>\n      <td>217</td>\n      <td>218</td>\n      <td>Long-Sleeve Logo Jersey, S</td>\n      <td>Jerseys</td>\n      <td>Clothing</td>\n    </tr>\n    <tr>\n      <th>121314</th>\n      <td>75088</td>\n      <td>121230</td>\n      <td>NULL</td>\n      <td>1</td>\n      <td>713</td>\n      <td>1</td>\n      <td>49.990</td>\n      <td>0.0</td>\n      <td>49.990</td>\n      <td>5C085429-02B3-45C9-ADC8-ED18C64C3589</td>\n      <td>...</td>\n      <td>125.9258</td>\n      <td>NULL</td>\n      <td>E90D88B8-C4D5-4C1C-AADE-66ECDAD220AE</td>\n      <td>2014-07-07</td>\n      <td>AdventureWorks</td>\n      <td>217</td>\n      <td>218</td>\n      <td>Long-Sleeve Logo Jersey, S</td>\n      <td>Jerseys</td>\n      <td>Clothing</td>\n    </tr>\n    <tr>\n      <th>121315</th>\n      <td>51823</td>\n      <td>41781</td>\n      <td>2FB1-4AE1-BC</td>\n      <td>1</td>\n      <td>897</td>\n      <td>1</td>\n      <td>200.052</td>\n      <td>0.0</td>\n      <td>200.052</td>\n      <td>34019C07-4672-4619-9E13-9F3A64847794</td>\n      <td>...</td>\n      <td>112685.2793</td>\n      <td>NULL</td>\n      <td>ECFC6AD2-F55D-43D2-AF03-C08B55535550</td>\n      <td>2013-07-07</td>\n      <td>AdventureWorks</td>\n      <td>401</td>\n      <td>402</td>\n      <td>LL Touring Frame - Blue, 58</td>\n      <td>Touring Frames</td>\n      <td>Components</td>\n    </tr>\n    <tr>\n      <th>121316</th>\n      <td>51875</td>\n      <td>42912</td>\n      <td>CB08-4C83-82</td>\n      <td>3</td>\n      <td>897</td>\n      <td>1</td>\n      <td>200.052</td>\n      <td>0.0</td>\n      <td>600.156</td>\n      <td>8BFA8F82-D489-4B92-84B8-DD015EE2F4FA</td>\n      <td>...</td>\n      <td>44816.9738</td>\n      <td>NULL</td>\n      <td>C923704F-1747-4826-8374-EBDF2A091316</td>\n      <td>2013-07-07</td>\n      <td>AdventureWorks</td>\n      <td>401</td>\n      <td>402</td>\n      <td>LL Touring Frame - Blue, 58</td>\n      <td>Touring Frames</td>\n      <td>Components</td>\n    </tr>\n  </tbody>\n</table>\n<p>121317 rows × 42 columns</p>\n</div>"
     },
     "execution_count": 44,
     "metadata": {},
     "output_type": "execute_result"
    }
   ],
   "source": [
    "adv_salesOrderDetail_merged = pd.merge(adv_salesOrderDetail,adv_SalesOrderHeader,on='SalesOrderID',how='left')\n",
    "adv_salesOrderDetail_merged['Source'] = 'AdventureWorks'\n",
    "adv_salesOrderDetail_merged_product = pd.merge(adv_salesOrderDetail_merged,df_product_new,on=['ProductID','Source'])\n",
    "\n",
    "adv_salesOrderDetail_merged_product['SalesPersonID'] = adv_salesOrderDetail_merged_product['SalesPersonID'].astype('object')\n",
    "adv_salesOrderDetail_merged_product.replace(np.nan,'NULL',inplace=True)\n",
    "adv_salesOrderDetail_merged_product\n"
   ],
   "metadata": {
    "collapsed": false,
    "ExecuteTime": {
     "end_time": "2024-05-31T08:50:32.380313900Z",
     "start_time": "2024-05-31T08:50:31.948766100Z"
    }
   },
   "id": "50508a7c1bb86ab1",
   "execution_count": 44
  },
  {
   "cell_type": "code",
   "outputs": [
    {
     "data": {
      "text/plain": "     Unnamed: 0  EmployeeKey EmployeeID FirstName   LastName  \\\n0             0            1        285      Syed      Abbas   \n1             1            2        283     David   Campbell   \n2             2            3        278   Garrett     Vargas   \n3             3            4        279      Tsvi     Reiter   \n4             4            5        277   Jillian     Carson   \n..          ...          ...        ...       ...        ...   \n96           96           97          5    Steven   Buchanan   \n97           97           98          6   Michael     Suyama   \n98           98           99          7    Robert       King   \n99           99          100          8     Laura   Callahan   \n100         100          101          9      Anne  Dodsworth   \n\n                            Address      City       State         Country  \\\n0              7484 Roundtree Drive   Bothell  Washington   United States   \n1                2284 Azalea Avenue  Bellevue  Washington   United States   \n2                10203 Acorn Avenue   Calgary     Alberta          Canada   \n3                 8291 Crossbow Way   Memphis   Tennessee   United States   \n4                80 Sunview Terrace    Duluth   Minnesota   United States   \n..                              ...       ...         ...             ...   \n96                  14 Garrett Hill    London     England  United Kingdom   \n97        Coventry House\\nMiner Rd.    London     England  United Kingdom   \n98   Edgeham Hollow\\nWinchester Way    London     England  United Kingdom   \n99            4726 - 11th Ave. N.E.   Seattle  Washington   United States   \n100               7 Houndstooth Rd.    London     England  United Kingdom   \n\n             Source  \n0    AdventureWorks  \n1    AdventureWorks  \n2    AdventureWorks  \n3    AdventureWorks  \n4    AdventureWorks  \n..              ...  \n96        NorthWind  \n97        NorthWind  \n98        NorthWind  \n99        NorthWind  \n100       NorthWind  \n\n[101 rows x 10 columns]",
      "text/html": "<div>\n<style scoped>\n    .dataframe tbody tr th:only-of-type {\n        vertical-align: middle;\n    }\n\n    .dataframe tbody tr th {\n        vertical-align: top;\n    }\n\n    .dataframe thead th {\n        text-align: right;\n    }\n</style>\n<table border=\"1\" class=\"dataframe\">\n  <thead>\n    <tr style=\"text-align: right;\">\n      <th></th>\n      <th>Unnamed: 0</th>\n      <th>EmployeeKey</th>\n      <th>EmployeeID</th>\n      <th>FirstName</th>\n      <th>LastName</th>\n      <th>Address</th>\n      <th>City</th>\n      <th>State</th>\n      <th>Country</th>\n      <th>Source</th>\n    </tr>\n  </thead>\n  <tbody>\n    <tr>\n      <th>0</th>\n      <td>0</td>\n      <td>1</td>\n      <td>285</td>\n      <td>Syed</td>\n      <td>Abbas</td>\n      <td>7484 Roundtree Drive</td>\n      <td>Bothell</td>\n      <td>Washington</td>\n      <td>United States</td>\n      <td>AdventureWorks</td>\n    </tr>\n    <tr>\n      <th>1</th>\n      <td>1</td>\n      <td>2</td>\n      <td>283</td>\n      <td>David</td>\n      <td>Campbell</td>\n      <td>2284 Azalea Avenue</td>\n      <td>Bellevue</td>\n      <td>Washington</td>\n      <td>United States</td>\n      <td>AdventureWorks</td>\n    </tr>\n    <tr>\n      <th>2</th>\n      <td>2</td>\n      <td>3</td>\n      <td>278</td>\n      <td>Garrett</td>\n      <td>Vargas</td>\n      <td>10203 Acorn Avenue</td>\n      <td>Calgary</td>\n      <td>Alberta</td>\n      <td>Canada</td>\n      <td>AdventureWorks</td>\n    </tr>\n    <tr>\n      <th>3</th>\n      <td>3</td>\n      <td>4</td>\n      <td>279</td>\n      <td>Tsvi</td>\n      <td>Reiter</td>\n      <td>8291 Crossbow Way</td>\n      <td>Memphis</td>\n      <td>Tennessee</td>\n      <td>United States</td>\n      <td>AdventureWorks</td>\n    </tr>\n    <tr>\n      <th>4</th>\n      <td>4</td>\n      <td>5</td>\n      <td>277</td>\n      <td>Jillian</td>\n      <td>Carson</td>\n      <td>80 Sunview Terrace</td>\n      <td>Duluth</td>\n      <td>Minnesota</td>\n      <td>United States</td>\n      <td>AdventureWorks</td>\n    </tr>\n    <tr>\n      <th>...</th>\n      <td>...</td>\n      <td>...</td>\n      <td>...</td>\n      <td>...</td>\n      <td>...</td>\n      <td>...</td>\n      <td>...</td>\n      <td>...</td>\n      <td>...</td>\n      <td>...</td>\n    </tr>\n    <tr>\n      <th>96</th>\n      <td>96</td>\n      <td>97</td>\n      <td>5</td>\n      <td>Steven</td>\n      <td>Buchanan</td>\n      <td>14 Garrett Hill</td>\n      <td>London</td>\n      <td>England</td>\n      <td>United Kingdom</td>\n      <td>NorthWind</td>\n    </tr>\n    <tr>\n      <th>97</th>\n      <td>97</td>\n      <td>98</td>\n      <td>6</td>\n      <td>Michael</td>\n      <td>Suyama</td>\n      <td>Coventry House\\nMiner Rd.</td>\n      <td>London</td>\n      <td>England</td>\n      <td>United Kingdom</td>\n      <td>NorthWind</td>\n    </tr>\n    <tr>\n      <th>98</th>\n      <td>98</td>\n      <td>99</td>\n      <td>7</td>\n      <td>Robert</td>\n      <td>King</td>\n      <td>Edgeham Hollow\\nWinchester Way</td>\n      <td>London</td>\n      <td>England</td>\n      <td>United Kingdom</td>\n      <td>NorthWind</td>\n    </tr>\n    <tr>\n      <th>99</th>\n      <td>99</td>\n      <td>100</td>\n      <td>8</td>\n      <td>Laura</td>\n      <td>Callahan</td>\n      <td>4726 - 11th Ave. N.E.</td>\n      <td>Seattle</td>\n      <td>Washington</td>\n      <td>United States</td>\n      <td>NorthWind</td>\n    </tr>\n    <tr>\n      <th>100</th>\n      <td>100</td>\n      <td>101</td>\n      <td>9</td>\n      <td>Anne</td>\n      <td>Dodsworth</td>\n      <td>7 Houndstooth Rd.</td>\n      <td>London</td>\n      <td>England</td>\n      <td>United Kingdom</td>\n      <td>NorthWind</td>\n    </tr>\n  </tbody>\n</table>\n<p>101 rows × 10 columns</p>\n</div>"
     },
     "execution_count": 45,
     "metadata": {},
     "output_type": "execute_result"
    }
   ],
   "source": [
    "df_employee_new"
   ],
   "metadata": {
    "collapsed": false,
    "ExecuteTime": {
     "end_time": "2024-05-31T08:50:33.773110300Z",
     "start_time": "2024-05-31T08:50:33.723099400Z"
    }
   },
   "id": "2dfd219e3028eeb9",
   "execution_count": 45
  },
  {
   "cell_type": "code",
   "outputs": [
    {
     "data": {
      "text/plain": "        SalesOrderID  SalesOrderDetailID CarrierTrackingNumber  OrderQty  \\\n0              43659                   1          4911-403C-98         1   \n1              43661                  25          4E0A-4F89-AE         4   \n2              43665                  70          19F0-4638-8E         1   \n3              43670                 114          F101-4649-85         1   \n4              43672                 127          F4B5-48D0-BA         2   \n...              ...                 ...                   ...       ...   \n121312         75059              121158                  NULL         1   \n121313         75082              121219                  NULL         1   \n121314         75088              121230                  NULL         1   \n121315         51823               41781          2FB1-4AE1-BC         1   \n121316         51875               42912          CB08-4C83-82         3   \n\n        ProductID  SpecialOfferID  UnitPrice  UnitPriceDiscount  LineTotal  \\\n0             776               1   2024.994                0.0   2024.994   \n1             776               1   2024.994                0.0   8099.976   \n2             776               1   2024.994                0.0   2024.994   \n3             776               1   2024.994                0.0   2024.994   \n4             776               1   2024.994                0.0   4049.988   \n...           ...             ...        ...                ...        ...   \n121312        713               1     49.990                0.0     49.990   \n121313        713               1     49.990                0.0     49.990   \n121314        713               1     49.990                0.0     49.990   \n121315        897               1    200.052                0.0    200.052   \n121316        897               1    200.052                0.0    600.156   \n\n                                   rowguid_x  ...    Category  Unnamed: 0_y  \\\n0       B207C96D-D9E6-402B-8470-2CC176C42283  ...       Bikes           NaN   \n1       E8E15B60-3A73-4507-9368-A4FB27B6EE0B  ...       Bikes           NaN   \n2       0D2A679C-6C8E-4CC2-8A55-B8DB83937AC2  ...       Bikes           NaN   \n3       7E07B269-8004-418E-A426-A38B3526E467  ...       Bikes           NaN   \n4       4FCF9FC7-3B29-41D0-8BAC-E022BD06BA93  ...       Bikes           NaN   \n...                                      ...  ...         ...           ...   \n121312  130B86CE-7C17-42C5-B2DA-D2DD0687D9E6  ...    Clothing           NaN   \n121313  5CC22934-06C4-46AA-AB64-9AB0246A99D9  ...    Clothing           NaN   \n121314  5C085429-02B3-45C9-ADC8-ED18C64C3589  ...    Clothing           NaN   \n121315  34019C07-4672-4619-9E13-9F3A64847794  ...  Components           NaN   \n121316  8BFA8F82-D489-4B92-84B8-DD015EE2F4FA  ...  Components           NaN   \n\n       EmployeeKey EmployeeID FirstName  LastName  Address City State Country  \n0              NaN        NaN       NaN       NaN      NaN  NaN   NaN     NaN  \n1              NaN        NaN       NaN       NaN      NaN  NaN   NaN     NaN  \n2              NaN        NaN       NaN       NaN      NaN  NaN   NaN     NaN  \n3              NaN        NaN       NaN       NaN      NaN  NaN   NaN     NaN  \n4              NaN        NaN       NaN       NaN      NaN  NaN   NaN     NaN  \n...            ...        ...       ...       ...      ...  ...   ...     ...  \n121312         NaN        NaN       NaN       NaN      NaN  NaN   NaN     NaN  \n121313         NaN        NaN       NaN       NaN      NaN  NaN   NaN     NaN  \n121314         NaN        NaN       NaN       NaN      NaN  NaN   NaN     NaN  \n121315         NaN        NaN       NaN       NaN      NaN  NaN   NaN     NaN  \n121316         NaN        NaN       NaN       NaN      NaN  NaN   NaN     NaN  \n\n[121317 rows x 51 columns]",
      "text/html": "<div>\n<style scoped>\n    .dataframe tbody tr th:only-of-type {\n        vertical-align: middle;\n    }\n\n    .dataframe tbody tr th {\n        vertical-align: top;\n    }\n\n    .dataframe thead th {\n        text-align: right;\n    }\n</style>\n<table border=\"1\" class=\"dataframe\">\n  <thead>\n    <tr style=\"text-align: right;\">\n      <th></th>\n      <th>SalesOrderID</th>\n      <th>SalesOrderDetailID</th>\n      <th>CarrierTrackingNumber</th>\n      <th>OrderQty</th>\n      <th>ProductID</th>\n      <th>SpecialOfferID</th>\n      <th>UnitPrice</th>\n      <th>UnitPriceDiscount</th>\n      <th>LineTotal</th>\n      <th>rowguid_x</th>\n      <th>...</th>\n      <th>Category</th>\n      <th>Unnamed: 0_y</th>\n      <th>EmployeeKey</th>\n      <th>EmployeeID</th>\n      <th>FirstName</th>\n      <th>LastName</th>\n      <th>Address</th>\n      <th>City</th>\n      <th>State</th>\n      <th>Country</th>\n    </tr>\n  </thead>\n  <tbody>\n    <tr>\n      <th>0</th>\n      <td>43659</td>\n      <td>1</td>\n      <td>4911-403C-98</td>\n      <td>1</td>\n      <td>776</td>\n      <td>1</td>\n      <td>2024.994</td>\n      <td>0.0</td>\n      <td>2024.994</td>\n      <td>B207C96D-D9E6-402B-8470-2CC176C42283</td>\n      <td>...</td>\n      <td>Bikes</td>\n      <td>NaN</td>\n      <td>NaN</td>\n      <td>NaN</td>\n      <td>NaN</td>\n      <td>NaN</td>\n      <td>NaN</td>\n      <td>NaN</td>\n      <td>NaN</td>\n      <td>NaN</td>\n    </tr>\n    <tr>\n      <th>1</th>\n      <td>43661</td>\n      <td>25</td>\n      <td>4E0A-4F89-AE</td>\n      <td>4</td>\n      <td>776</td>\n      <td>1</td>\n      <td>2024.994</td>\n      <td>0.0</td>\n      <td>8099.976</td>\n      <td>E8E15B60-3A73-4507-9368-A4FB27B6EE0B</td>\n      <td>...</td>\n      <td>Bikes</td>\n      <td>NaN</td>\n      <td>NaN</td>\n      <td>NaN</td>\n      <td>NaN</td>\n      <td>NaN</td>\n      <td>NaN</td>\n      <td>NaN</td>\n      <td>NaN</td>\n      <td>NaN</td>\n    </tr>\n    <tr>\n      <th>2</th>\n      <td>43665</td>\n      <td>70</td>\n      <td>19F0-4638-8E</td>\n      <td>1</td>\n      <td>776</td>\n      <td>1</td>\n      <td>2024.994</td>\n      <td>0.0</td>\n      <td>2024.994</td>\n      <td>0D2A679C-6C8E-4CC2-8A55-B8DB83937AC2</td>\n      <td>...</td>\n      <td>Bikes</td>\n      <td>NaN</td>\n      <td>NaN</td>\n      <td>NaN</td>\n      <td>NaN</td>\n      <td>NaN</td>\n      <td>NaN</td>\n      <td>NaN</td>\n      <td>NaN</td>\n      <td>NaN</td>\n    </tr>\n    <tr>\n      <th>3</th>\n      <td>43670</td>\n      <td>114</td>\n      <td>F101-4649-85</td>\n      <td>1</td>\n      <td>776</td>\n      <td>1</td>\n      <td>2024.994</td>\n      <td>0.0</td>\n      <td>2024.994</td>\n      <td>7E07B269-8004-418E-A426-A38B3526E467</td>\n      <td>...</td>\n      <td>Bikes</td>\n      <td>NaN</td>\n      <td>NaN</td>\n      <td>NaN</td>\n      <td>NaN</td>\n      <td>NaN</td>\n      <td>NaN</td>\n      <td>NaN</td>\n      <td>NaN</td>\n      <td>NaN</td>\n    </tr>\n    <tr>\n      <th>4</th>\n      <td>43672</td>\n      <td>127</td>\n      <td>F4B5-48D0-BA</td>\n      <td>2</td>\n      <td>776</td>\n      <td>1</td>\n      <td>2024.994</td>\n      <td>0.0</td>\n      <td>4049.988</td>\n      <td>4FCF9FC7-3B29-41D0-8BAC-E022BD06BA93</td>\n      <td>...</td>\n      <td>Bikes</td>\n      <td>NaN</td>\n      <td>NaN</td>\n      <td>NaN</td>\n      <td>NaN</td>\n      <td>NaN</td>\n      <td>NaN</td>\n      <td>NaN</td>\n      <td>NaN</td>\n      <td>NaN</td>\n    </tr>\n    <tr>\n      <th>...</th>\n      <td>...</td>\n      <td>...</td>\n      <td>...</td>\n      <td>...</td>\n      <td>...</td>\n      <td>...</td>\n      <td>...</td>\n      <td>...</td>\n      <td>...</td>\n      <td>...</td>\n      <td>...</td>\n      <td>...</td>\n      <td>...</td>\n      <td>...</td>\n      <td>...</td>\n      <td>...</td>\n      <td>...</td>\n      <td>...</td>\n      <td>...</td>\n      <td>...</td>\n      <td>...</td>\n    </tr>\n    <tr>\n      <th>121312</th>\n      <td>75059</td>\n      <td>121158</td>\n      <td>NULL</td>\n      <td>1</td>\n      <td>713</td>\n      <td>1</td>\n      <td>49.990</td>\n      <td>0.0</td>\n      <td>49.990</td>\n      <td>130B86CE-7C17-42C5-B2DA-D2DD0687D9E6</td>\n      <td>...</td>\n      <td>Clothing</td>\n      <td>NaN</td>\n      <td>NaN</td>\n      <td>NaN</td>\n      <td>NaN</td>\n      <td>NaN</td>\n      <td>NaN</td>\n      <td>NaN</td>\n      <td>NaN</td>\n      <td>NaN</td>\n    </tr>\n    <tr>\n      <th>121313</th>\n      <td>75082</td>\n      <td>121219</td>\n      <td>NULL</td>\n      <td>1</td>\n      <td>713</td>\n      <td>1</td>\n      <td>49.990</td>\n      <td>0.0</td>\n      <td>49.990</td>\n      <td>5CC22934-06C4-46AA-AB64-9AB0246A99D9</td>\n      <td>...</td>\n      <td>Clothing</td>\n      <td>NaN</td>\n      <td>NaN</td>\n      <td>NaN</td>\n      <td>NaN</td>\n      <td>NaN</td>\n      <td>NaN</td>\n      <td>NaN</td>\n      <td>NaN</td>\n      <td>NaN</td>\n    </tr>\n    <tr>\n      <th>121314</th>\n      <td>75088</td>\n      <td>121230</td>\n      <td>NULL</td>\n      <td>1</td>\n      <td>713</td>\n      <td>1</td>\n      <td>49.990</td>\n      <td>0.0</td>\n      <td>49.990</td>\n      <td>5C085429-02B3-45C9-ADC8-ED18C64C3589</td>\n      <td>...</td>\n      <td>Clothing</td>\n      <td>NaN</td>\n      <td>NaN</td>\n      <td>NaN</td>\n      <td>NaN</td>\n      <td>NaN</td>\n      <td>NaN</td>\n      <td>NaN</td>\n      <td>NaN</td>\n      <td>NaN</td>\n    </tr>\n    <tr>\n      <th>121315</th>\n      <td>51823</td>\n      <td>41781</td>\n      <td>2FB1-4AE1-BC</td>\n      <td>1</td>\n      <td>897</td>\n      <td>1</td>\n      <td>200.052</td>\n      <td>0.0</td>\n      <td>200.052</td>\n      <td>34019C07-4672-4619-9E13-9F3A64847794</td>\n      <td>...</td>\n      <td>Components</td>\n      <td>NaN</td>\n      <td>NaN</td>\n      <td>NaN</td>\n      <td>NaN</td>\n      <td>NaN</td>\n      <td>NaN</td>\n      <td>NaN</td>\n      <td>NaN</td>\n      <td>NaN</td>\n    </tr>\n    <tr>\n      <th>121316</th>\n      <td>51875</td>\n      <td>42912</td>\n      <td>CB08-4C83-82</td>\n      <td>3</td>\n      <td>897</td>\n      <td>1</td>\n      <td>200.052</td>\n      <td>0.0</td>\n      <td>600.156</td>\n      <td>8BFA8F82-D489-4B92-84B8-DD015EE2F4FA</td>\n      <td>...</td>\n      <td>Components</td>\n      <td>NaN</td>\n      <td>NaN</td>\n      <td>NaN</td>\n      <td>NaN</td>\n      <td>NaN</td>\n      <td>NaN</td>\n      <td>NaN</td>\n      <td>NaN</td>\n      <td>NaN</td>\n    </tr>\n  </tbody>\n</table>\n<p>121317 rows × 51 columns</p>\n</div>"
     },
     "execution_count": 46,
     "metadata": {},
     "output_type": "execute_result"
    }
   ],
   "source": [
    "adv_salesOrderDetail_merged_employee = pd.merge(adv_salesOrderDetail_merged_product,df_employee_new,left_on=['SalesPersonID','Source'],right_on=['EmployeeID','Source'],how='left')\n",
    "adv_salesOrderDetail_merged_employee"
   ],
   "metadata": {
    "collapsed": false,
    "ExecuteTime": {
     "end_time": "2024-05-31T08:50:34.547294600Z",
     "start_time": "2024-05-31T08:50:34.394250800Z"
    }
   },
   "id": "400ee964b578f0d8",
   "execution_count": 46
  },
  {
   "cell_type": "code",
   "outputs": [
    {
     "data": {
      "text/plain": "        OrderID  OrderLineID  ProductKey  EmployeeKey  Quantity  UnitPrice  \\\n0         43659            1         281          NaN         1   2024.994   \n1         43661           25         281          NaN         4   2024.994   \n2         43665           70         281          NaN         1   2024.994   \n3         43670          114         281          NaN         1   2024.994   \n4         43672          127         281          NaN         2   2024.994   \n...         ...          ...         ...          ...       ...        ...   \n121312    75059       121158         218          NaN         1     49.990   \n121313    75082       121219         218          NaN         1     49.990   \n121314    75088       121230         218          NaN         1     49.990   \n121315    51823        41781         402          NaN         1    200.052   \n121316    51875        42912         402          NaN         3    200.052   \n\n        OrderDate          Source  \n0      2011-05-31  AdventureWorks  \n1      2011-05-31  AdventureWorks  \n2      2011-05-31  AdventureWorks  \n3      2011-05-31  AdventureWorks  \n4      2011-05-31  AdventureWorks  \n...           ...             ...  \n121312 2014-06-28  AdventureWorks  \n121313 2014-06-29  AdventureWorks  \n121314 2014-06-30  AdventureWorks  \n121315 2013-06-30  AdventureWorks  \n121316 2013-06-30  AdventureWorks  \n\n[121317 rows x 8 columns]",
      "text/html": "<div>\n<style scoped>\n    .dataframe tbody tr th:only-of-type {\n        vertical-align: middle;\n    }\n\n    .dataframe tbody tr th {\n        vertical-align: top;\n    }\n\n    .dataframe thead th {\n        text-align: right;\n    }\n</style>\n<table border=\"1\" class=\"dataframe\">\n  <thead>\n    <tr style=\"text-align: right;\">\n      <th></th>\n      <th>OrderID</th>\n      <th>OrderLineID</th>\n      <th>ProductKey</th>\n      <th>EmployeeKey</th>\n      <th>Quantity</th>\n      <th>UnitPrice</th>\n      <th>OrderDate</th>\n      <th>Source</th>\n    </tr>\n  </thead>\n  <tbody>\n    <tr>\n      <th>0</th>\n      <td>43659</td>\n      <td>1</td>\n      <td>281</td>\n      <td>NaN</td>\n      <td>1</td>\n      <td>2024.994</td>\n      <td>2011-05-31</td>\n      <td>AdventureWorks</td>\n    </tr>\n    <tr>\n      <th>1</th>\n      <td>43661</td>\n      <td>25</td>\n      <td>281</td>\n      <td>NaN</td>\n      <td>4</td>\n      <td>2024.994</td>\n      <td>2011-05-31</td>\n      <td>AdventureWorks</td>\n    </tr>\n    <tr>\n      <th>2</th>\n      <td>43665</td>\n      <td>70</td>\n      <td>281</td>\n      <td>NaN</td>\n      <td>1</td>\n      <td>2024.994</td>\n      <td>2011-05-31</td>\n      <td>AdventureWorks</td>\n    </tr>\n    <tr>\n      <th>3</th>\n      <td>43670</td>\n      <td>114</td>\n      <td>281</td>\n      <td>NaN</td>\n      <td>1</td>\n      <td>2024.994</td>\n      <td>2011-05-31</td>\n      <td>AdventureWorks</td>\n    </tr>\n    <tr>\n      <th>4</th>\n      <td>43672</td>\n      <td>127</td>\n      <td>281</td>\n      <td>NaN</td>\n      <td>2</td>\n      <td>2024.994</td>\n      <td>2011-05-31</td>\n      <td>AdventureWorks</td>\n    </tr>\n    <tr>\n      <th>...</th>\n      <td>...</td>\n      <td>...</td>\n      <td>...</td>\n      <td>...</td>\n      <td>...</td>\n      <td>...</td>\n      <td>...</td>\n      <td>...</td>\n    </tr>\n    <tr>\n      <th>121312</th>\n      <td>75059</td>\n      <td>121158</td>\n      <td>218</td>\n      <td>NaN</td>\n      <td>1</td>\n      <td>49.990</td>\n      <td>2014-06-28</td>\n      <td>AdventureWorks</td>\n    </tr>\n    <tr>\n      <th>121313</th>\n      <td>75082</td>\n      <td>121219</td>\n      <td>218</td>\n      <td>NaN</td>\n      <td>1</td>\n      <td>49.990</td>\n      <td>2014-06-29</td>\n      <td>AdventureWorks</td>\n    </tr>\n    <tr>\n      <th>121314</th>\n      <td>75088</td>\n      <td>121230</td>\n      <td>218</td>\n      <td>NaN</td>\n      <td>1</td>\n      <td>49.990</td>\n      <td>2014-06-30</td>\n      <td>AdventureWorks</td>\n    </tr>\n    <tr>\n      <th>121315</th>\n      <td>51823</td>\n      <td>41781</td>\n      <td>402</td>\n      <td>NaN</td>\n      <td>1</td>\n      <td>200.052</td>\n      <td>2013-06-30</td>\n      <td>AdventureWorks</td>\n    </tr>\n    <tr>\n      <th>121316</th>\n      <td>51875</td>\n      <td>42912</td>\n      <td>402</td>\n      <td>NaN</td>\n      <td>3</td>\n      <td>200.052</td>\n      <td>2013-06-30</td>\n      <td>AdventureWorks</td>\n    </tr>\n  </tbody>\n</table>\n<p>121317 rows × 8 columns</p>\n</div>"
     },
     "execution_count": 47,
     "metadata": {},
     "output_type": "execute_result"
    }
   ],
   "source": [
    "adv_sales_final = adv_salesOrderDetail_merged_employee.drop(columns=['CarrierTrackingNumber','ProductID','SpecialOfferID','SalesOrderNumber','RevisionNumber','DueDate','ShipDate','ShipMethodID','ShipToAddressID','Status','OnlineOrderFlag','PurchaseOrderNumber','AccountNumber','CustomerID','SalesPersonID','TerritoryID','BillToAddressID','CreditCardID','CreditCardApprovalCode','CurrencyRateID','SubTotal','TaxAmt','Freight','TotalDue','Comment','rowguid_y','rowguid_x','ModifiedDate_y','ModifiedDate_x','LineTotal','Unnamed: 0_x','Unnamed: 0_y','FirstName','LastName','Address','City','State','Country','Name','Subcategory','Category','EmployeeID','UnitPriceDiscount'])\n",
    "adv_sales_final = adv_sales_final.rename(columns={'SalesOrderID' : 'OrderID','SalesOrderDetailID' : 'OrderLineID','OrderQty': 'Quantity'} )\n",
    "adv_sales_final = adv_sales_final.reindex(columns=['OrderID','OrderLineID','ProductKey','EmployeeKey','Quantity','UnitPrice','OrderDate','Source'])\n",
    "adv_sales_final"
   ],
   "metadata": {
    "collapsed": false,
    "ExecuteTime": {
     "end_time": "2024-05-31T08:50:35.927810100Z",
     "start_time": "2024-05-31T08:50:35.732771300Z"
    }
   },
   "id": "c9efde3b2bd04161",
   "execution_count": 47
  },
  {
   "cell_type": "code",
   "outputs": [],
   "source": [
    "temp_df, final_aenc_orderdetail_item = final_nw_orderdetail_item.align(final_aenc_orderdetail_item, axis=1)\n",
    "final_nw_orderdetail_item, adv_sales_final = temp_df.align(adv_sales_final, axis=1)"
   ],
   "metadata": {
    "collapsed": false,
    "ExecuteTime": {
     "end_time": "2024-05-31T08:50:38.131224200Z",
     "start_time": "2024-05-31T08:50:38.094192100Z"
    }
   },
   "id": "47aaddbdcf04f279",
   "execution_count": 48
  },
  {
   "cell_type": "code",
   "outputs": [
    {
     "data": {
      "text/plain": "      OrderID  OrderLineID  ProductKey  EmployeeKey  Quantity  UnitPrice  \\\n0       10248           11         525           97        12      14.00   \n1       10248           42         556           97        10       9.80   \n2       10248           72         586           97         5      34.80   \n3       10249           14         528           98         9      18.60   \n4       10249           51         565           98        40      42.40   \n...       ...          ...         ...          ...       ...        ...   \n2150    11077           64         578           93         2      33.25   \n2151    11077           66         580           93         1      17.00   \n2152    11077           73         587           93         2      15.00   \n2153    11077           75         589           93         4       7.75   \n2154    11077           77         591           93         2      13.00   \n\n      OrderDate     Source  \n0    1996-07-04  NorthWind  \n1    1996-07-04  NorthWind  \n2    1996-07-04  NorthWind  \n3    1996-07-05  NorthWind  \n4    1996-07-05  NorthWind  \n...         ...        ...  \n2150 1998-05-06  NorthWind  \n2151 1998-05-06  NorthWind  \n2152 1998-05-06  NorthWind  \n2153 1998-05-06  NorthWind  \n2154 1998-05-06  NorthWind  \n\n[2155 rows x 8 columns]",
      "text/html": "<div>\n<style scoped>\n    .dataframe tbody tr th:only-of-type {\n        vertical-align: middle;\n    }\n\n    .dataframe tbody tr th {\n        vertical-align: top;\n    }\n\n    .dataframe thead th {\n        text-align: right;\n    }\n</style>\n<table border=\"1\" class=\"dataframe\">\n  <thead>\n    <tr style=\"text-align: right;\">\n      <th></th>\n      <th>OrderID</th>\n      <th>OrderLineID</th>\n      <th>ProductKey</th>\n      <th>EmployeeKey</th>\n      <th>Quantity</th>\n      <th>UnitPrice</th>\n      <th>OrderDate</th>\n      <th>Source</th>\n    </tr>\n  </thead>\n  <tbody>\n    <tr>\n      <th>0</th>\n      <td>10248</td>\n      <td>11</td>\n      <td>525</td>\n      <td>97</td>\n      <td>12</td>\n      <td>14.00</td>\n      <td>1996-07-04</td>\n      <td>NorthWind</td>\n    </tr>\n    <tr>\n      <th>1</th>\n      <td>10248</td>\n      <td>42</td>\n      <td>556</td>\n      <td>97</td>\n      <td>10</td>\n      <td>9.80</td>\n      <td>1996-07-04</td>\n      <td>NorthWind</td>\n    </tr>\n    <tr>\n      <th>2</th>\n      <td>10248</td>\n      <td>72</td>\n      <td>586</td>\n      <td>97</td>\n      <td>5</td>\n      <td>34.80</td>\n      <td>1996-07-04</td>\n      <td>NorthWind</td>\n    </tr>\n    <tr>\n      <th>3</th>\n      <td>10249</td>\n      <td>14</td>\n      <td>528</td>\n      <td>98</td>\n      <td>9</td>\n      <td>18.60</td>\n      <td>1996-07-05</td>\n      <td>NorthWind</td>\n    </tr>\n    <tr>\n      <th>4</th>\n      <td>10249</td>\n      <td>51</td>\n      <td>565</td>\n      <td>98</td>\n      <td>40</td>\n      <td>42.40</td>\n      <td>1996-07-05</td>\n      <td>NorthWind</td>\n    </tr>\n    <tr>\n      <th>...</th>\n      <td>...</td>\n      <td>...</td>\n      <td>...</td>\n      <td>...</td>\n      <td>...</td>\n      <td>...</td>\n      <td>...</td>\n      <td>...</td>\n    </tr>\n    <tr>\n      <th>2150</th>\n      <td>11077</td>\n      <td>64</td>\n      <td>578</td>\n      <td>93</td>\n      <td>2</td>\n      <td>33.25</td>\n      <td>1998-05-06</td>\n      <td>NorthWind</td>\n    </tr>\n    <tr>\n      <th>2151</th>\n      <td>11077</td>\n      <td>66</td>\n      <td>580</td>\n      <td>93</td>\n      <td>1</td>\n      <td>17.00</td>\n      <td>1998-05-06</td>\n      <td>NorthWind</td>\n    </tr>\n    <tr>\n      <th>2152</th>\n      <td>11077</td>\n      <td>73</td>\n      <td>587</td>\n      <td>93</td>\n      <td>2</td>\n      <td>15.00</td>\n      <td>1998-05-06</td>\n      <td>NorthWind</td>\n    </tr>\n    <tr>\n      <th>2153</th>\n      <td>11077</td>\n      <td>75</td>\n      <td>589</td>\n      <td>93</td>\n      <td>4</td>\n      <td>7.75</td>\n      <td>1998-05-06</td>\n      <td>NorthWind</td>\n    </tr>\n    <tr>\n      <th>2154</th>\n      <td>11077</td>\n      <td>77</td>\n      <td>591</td>\n      <td>93</td>\n      <td>2</td>\n      <td>13.00</td>\n      <td>1998-05-06</td>\n      <td>NorthWind</td>\n    </tr>\n  </tbody>\n</table>\n<p>2155 rows × 8 columns</p>\n</div>"
     },
     "execution_count": 49,
     "metadata": {},
     "output_type": "execute_result"
    }
   ],
   "source": [
    "final_nw_orderdetail_item"
   ],
   "metadata": {
    "collapsed": false,
    "ExecuteTime": {
     "end_time": "2024-05-31T08:50:39.524884900Z",
     "start_time": "2024-05-31T08:50:39.488848500Z"
    }
   },
   "id": "783cb4c1d6841b3c",
   "execution_count": 49
  },
  {
   "cell_type": "code",
   "outputs": [
    {
     "data": {
      "text/plain": "      OrderID  OrderLineID  ProductKey  EmployeeKey  Quantity UnitPrice  \\\n0       10248           11         525         97.0        12      14.0   \n1       10248           42         556         97.0        10       9.8   \n2       10248           72         586         97.0         5      34.8   \n3       10249           14         528         98.0         9      18.6   \n4       10249           51         565         98.0        40      42.4   \n...       ...          ...         ...          ...       ...       ...   \n1098     2654            2         507         21.0         3        14   \n1099     2654            3         508         21.0         8         9   \n1100     2003            3         508         68.0        12         9   \n1101     2003            1         510         68.0        12         7   \n1102     2003            2         511         68.0        12         7   \n\n                    OrderDate     Source  \n0         1996-07-04 00:00:00  NorthWind  \n1         1996-07-04 00:00:00  NorthWind  \n2         1996-07-04 00:00:00  NorthWind  \n3         1996-07-05 00:00:00  NorthWind  \n4         1996-07-05 00:00:00  NorthWind  \n...                       ...        ...  \n1098  26-Feb-1999 12:00:00 AM       AenC  \n1099  26-Feb-1999 12:00:00 AM       AenC  \n1100  21-Mar-1996 12:00:00 AM       AenC  \n1101  21-Mar-1996 12:00:00 AM       AenC  \n1102  21-Mar-1996 12:00:00 AM       AenC  \n\n[124575 rows x 8 columns]",
      "text/html": "<div>\n<style scoped>\n    .dataframe tbody tr th:only-of-type {\n        vertical-align: middle;\n    }\n\n    .dataframe tbody tr th {\n        vertical-align: top;\n    }\n\n    .dataframe thead th {\n        text-align: right;\n    }\n</style>\n<table border=\"1\" class=\"dataframe\">\n  <thead>\n    <tr style=\"text-align: right;\">\n      <th></th>\n      <th>OrderID</th>\n      <th>OrderLineID</th>\n      <th>ProductKey</th>\n      <th>EmployeeKey</th>\n      <th>Quantity</th>\n      <th>UnitPrice</th>\n      <th>OrderDate</th>\n      <th>Source</th>\n    </tr>\n  </thead>\n  <tbody>\n    <tr>\n      <th>0</th>\n      <td>10248</td>\n      <td>11</td>\n      <td>525</td>\n      <td>97.0</td>\n      <td>12</td>\n      <td>14.0</td>\n      <td>1996-07-04 00:00:00</td>\n      <td>NorthWind</td>\n    </tr>\n    <tr>\n      <th>1</th>\n      <td>10248</td>\n      <td>42</td>\n      <td>556</td>\n      <td>97.0</td>\n      <td>10</td>\n      <td>9.8</td>\n      <td>1996-07-04 00:00:00</td>\n      <td>NorthWind</td>\n    </tr>\n    <tr>\n      <th>2</th>\n      <td>10248</td>\n      <td>72</td>\n      <td>586</td>\n      <td>97.0</td>\n      <td>5</td>\n      <td>34.8</td>\n      <td>1996-07-04 00:00:00</td>\n      <td>NorthWind</td>\n    </tr>\n    <tr>\n      <th>3</th>\n      <td>10249</td>\n      <td>14</td>\n      <td>528</td>\n      <td>98.0</td>\n      <td>9</td>\n      <td>18.6</td>\n      <td>1996-07-05 00:00:00</td>\n      <td>NorthWind</td>\n    </tr>\n    <tr>\n      <th>4</th>\n      <td>10249</td>\n      <td>51</td>\n      <td>565</td>\n      <td>98.0</td>\n      <td>40</td>\n      <td>42.4</td>\n      <td>1996-07-05 00:00:00</td>\n      <td>NorthWind</td>\n    </tr>\n    <tr>\n      <th>...</th>\n      <td>...</td>\n      <td>...</td>\n      <td>...</td>\n      <td>...</td>\n      <td>...</td>\n      <td>...</td>\n      <td>...</td>\n      <td>...</td>\n    </tr>\n    <tr>\n      <th>1098</th>\n      <td>2654</td>\n      <td>2</td>\n      <td>507</td>\n      <td>21.0</td>\n      <td>3</td>\n      <td>14</td>\n      <td>26-Feb-1999 12:00:00 AM</td>\n      <td>AenC</td>\n    </tr>\n    <tr>\n      <th>1099</th>\n      <td>2654</td>\n      <td>3</td>\n      <td>508</td>\n      <td>21.0</td>\n      <td>8</td>\n      <td>9</td>\n      <td>26-Feb-1999 12:00:00 AM</td>\n      <td>AenC</td>\n    </tr>\n    <tr>\n      <th>1100</th>\n      <td>2003</td>\n      <td>3</td>\n      <td>508</td>\n      <td>68.0</td>\n      <td>12</td>\n      <td>9</td>\n      <td>21-Mar-1996 12:00:00 AM</td>\n      <td>AenC</td>\n    </tr>\n    <tr>\n      <th>1101</th>\n      <td>2003</td>\n      <td>1</td>\n      <td>510</td>\n      <td>68.0</td>\n      <td>12</td>\n      <td>7</td>\n      <td>21-Mar-1996 12:00:00 AM</td>\n      <td>AenC</td>\n    </tr>\n    <tr>\n      <th>1102</th>\n      <td>2003</td>\n      <td>2</td>\n      <td>511</td>\n      <td>68.0</td>\n      <td>12</td>\n      <td>7</td>\n      <td>21-Mar-1996 12:00:00 AM</td>\n      <td>AenC</td>\n    </tr>\n  </tbody>\n</table>\n<p>124575 rows × 8 columns</p>\n</div>"
     },
     "execution_count": 50,
     "metadata": {},
     "output_type": "execute_result"
    }
   ],
   "source": [
    "final_df = pd.concat([final_nw_orderdetail_item, adv_sales_final,final_aenc_orderdetail_item])\n",
    "final_df\n"
   ],
   "metadata": {
    "collapsed": false,
    "ExecuteTime": {
     "end_time": "2024-05-31T08:50:41.472044300Z",
     "start_time": "2024-05-31T08:50:41.229773800Z"
    }
   },
   "id": "be8d214b43868219",
   "execution_count": 50
  },
  {
   "cell_type": "code",
   "outputs": [
    {
     "data": {
      "text/plain": "      OrderID  OrderLineID  ProductKey  EmployeeKey  Quantity UnitPrice  \\\n0       10248           11         525         97.0        12      14.0   \n1       10248           42         556         97.0        10       9.8   \n2       10248           72         586         97.0         5      34.8   \n3       10249           14         528         98.0         9      18.6   \n4       10249           51         565         98.0        40      42.4   \n...       ...          ...         ...          ...       ...       ...   \n1098     2654            2         507         21.0         3        14   \n1099     2654            3         508         21.0         8         9   \n1100     2003            3         508         68.0        12         9   \n1101     2003            1         510         68.0        12         7   \n1102     2003            2         511         68.0        12         7   \n\n                    OrderDate     Source  OrderKey  \n0         1996-07-04 00:00:00  NorthWind         1  \n1         1996-07-04 00:00:00  NorthWind         2  \n2         1996-07-04 00:00:00  NorthWind         3  \n3         1996-07-05 00:00:00  NorthWind         4  \n4         1996-07-05 00:00:00  NorthWind         5  \n...                       ...        ...       ...  \n1098  26-Feb-1999 12:00:00 AM       AenC    124571  \n1099  26-Feb-1999 12:00:00 AM       AenC    124572  \n1100  21-Mar-1996 12:00:00 AM       AenC    124573  \n1101  21-Mar-1996 12:00:00 AM       AenC    124574  \n1102  21-Mar-1996 12:00:00 AM       AenC    124575  \n\n[124575 rows x 9 columns]",
      "text/html": "<div>\n<style scoped>\n    .dataframe tbody tr th:only-of-type {\n        vertical-align: middle;\n    }\n\n    .dataframe tbody tr th {\n        vertical-align: top;\n    }\n\n    .dataframe thead th {\n        text-align: right;\n    }\n</style>\n<table border=\"1\" class=\"dataframe\">\n  <thead>\n    <tr style=\"text-align: right;\">\n      <th></th>\n      <th>OrderID</th>\n      <th>OrderLineID</th>\n      <th>ProductKey</th>\n      <th>EmployeeKey</th>\n      <th>Quantity</th>\n      <th>UnitPrice</th>\n      <th>OrderDate</th>\n      <th>Source</th>\n      <th>OrderKey</th>\n    </tr>\n  </thead>\n  <tbody>\n    <tr>\n      <th>0</th>\n      <td>10248</td>\n      <td>11</td>\n      <td>525</td>\n      <td>97.0</td>\n      <td>12</td>\n      <td>14.0</td>\n      <td>1996-07-04 00:00:00</td>\n      <td>NorthWind</td>\n      <td>1</td>\n    </tr>\n    <tr>\n      <th>1</th>\n      <td>10248</td>\n      <td>42</td>\n      <td>556</td>\n      <td>97.0</td>\n      <td>10</td>\n      <td>9.8</td>\n      <td>1996-07-04 00:00:00</td>\n      <td>NorthWind</td>\n      <td>2</td>\n    </tr>\n    <tr>\n      <th>2</th>\n      <td>10248</td>\n      <td>72</td>\n      <td>586</td>\n      <td>97.0</td>\n      <td>5</td>\n      <td>34.8</td>\n      <td>1996-07-04 00:00:00</td>\n      <td>NorthWind</td>\n      <td>3</td>\n    </tr>\n    <tr>\n      <th>3</th>\n      <td>10249</td>\n      <td>14</td>\n      <td>528</td>\n      <td>98.0</td>\n      <td>9</td>\n      <td>18.6</td>\n      <td>1996-07-05 00:00:00</td>\n      <td>NorthWind</td>\n      <td>4</td>\n    </tr>\n    <tr>\n      <th>4</th>\n      <td>10249</td>\n      <td>51</td>\n      <td>565</td>\n      <td>98.0</td>\n      <td>40</td>\n      <td>42.4</td>\n      <td>1996-07-05 00:00:00</td>\n      <td>NorthWind</td>\n      <td>5</td>\n    </tr>\n    <tr>\n      <th>...</th>\n      <td>...</td>\n      <td>...</td>\n      <td>...</td>\n      <td>...</td>\n      <td>...</td>\n      <td>...</td>\n      <td>...</td>\n      <td>...</td>\n      <td>...</td>\n    </tr>\n    <tr>\n      <th>1098</th>\n      <td>2654</td>\n      <td>2</td>\n      <td>507</td>\n      <td>21.0</td>\n      <td>3</td>\n      <td>14</td>\n      <td>26-Feb-1999 12:00:00 AM</td>\n      <td>AenC</td>\n      <td>124571</td>\n    </tr>\n    <tr>\n      <th>1099</th>\n      <td>2654</td>\n      <td>3</td>\n      <td>508</td>\n      <td>21.0</td>\n      <td>8</td>\n      <td>9</td>\n      <td>26-Feb-1999 12:00:00 AM</td>\n      <td>AenC</td>\n      <td>124572</td>\n    </tr>\n    <tr>\n      <th>1100</th>\n      <td>2003</td>\n      <td>3</td>\n      <td>508</td>\n      <td>68.0</td>\n      <td>12</td>\n      <td>9</td>\n      <td>21-Mar-1996 12:00:00 AM</td>\n      <td>AenC</td>\n      <td>124573</td>\n    </tr>\n    <tr>\n      <th>1101</th>\n      <td>2003</td>\n      <td>1</td>\n      <td>510</td>\n      <td>68.0</td>\n      <td>12</td>\n      <td>7</td>\n      <td>21-Mar-1996 12:00:00 AM</td>\n      <td>AenC</td>\n      <td>124574</td>\n    </tr>\n    <tr>\n      <th>1102</th>\n      <td>2003</td>\n      <td>2</td>\n      <td>511</td>\n      <td>68.0</td>\n      <td>12</td>\n      <td>7</td>\n      <td>21-Mar-1996 12:00:00 AM</td>\n      <td>AenC</td>\n      <td>124575</td>\n    </tr>\n  </tbody>\n</table>\n<p>124575 rows × 9 columns</p>\n</div>"
     },
     "execution_count": 51,
     "metadata": {},
     "output_type": "execute_result"
    }
   ],
   "source": [
    "final_df['OrderKey'] = range(1, len(final_df) + 1)\n",
    "final_df"
   ],
   "metadata": {
    "collapsed": false,
    "ExecuteTime": {
     "end_time": "2024-05-31T08:50:44.112048100Z",
     "start_time": "2024-05-31T08:50:44.063028400Z"
    }
   },
   "id": "2334f6f5b865fe09",
   "execution_count": 51
  },
  {
   "cell_type": "code",
   "outputs": [
    {
     "data": {
      "text/plain": "<pyodbc.Cursor at 0x20100e019b0>"
     },
     "execution_count": 29,
     "metadata": {},
     "output_type": "execute_result"
    }
   ],
   "source": [
    "DBUnitedOutdoorsDWH = {'servername': 'LAPTOP-JCB37LKM\\SQLEXPRESS',\n",
    "               'database': 'UnitedOutdoorsDWH'}\n",
    "\n",
    "export_conn_UODwh = pyodbc.connect('DRIVER={SQL Server};SERVER='+ DBUnitedOutdoorsDWH['servername'] + ';DATABASE=' + DBUnitedOutdoorsDWH['database'] + ';Trusted_Connection=yes')\n",
    "export_cursor = export_conn_UODwh.cursor()\n",
    "export_cursor\n"
   ],
   "metadata": {
    "collapsed": false,
    "ExecuteTime": {
     "end_time": "2024-05-31T00:48:13.976787700Z",
     "start_time": "2024-05-31T00:48:13.871758400Z"
    }
   },
   "id": "fe9df3327dc2d46e",
   "execution_count": 29
  },
  {
   "cell_type": "code",
   "outputs": [],
   "source": [
    "import sys\n",
    "\n",
    "for index, row in final_df.iterrows():\n",
    "    try:\n",
    "        employee_key = 'NULL' if pd.isnull(row['EmployeeKey']) else row['EmployeeKey']\n",
    "        query = f\"INSERT INTO Sales (OrderID, OrderLineID, ProductKey,EmployeeKey,Quantity,UnitPrice,OrderDate,Source) VALUES ({row['OrderID']}, {row['OrderLineID']},{row['ProductKey']},{employee_key},{row['Quantity']},{row['UnitPrice']},'{row['OrderDate']}','{row['Source']}')\"\n",
    "        export_cursor.execute(query)\n",
    "    except pyodbc.Error:\n",
    "        # If there's an error, print the query for debugging\n",
    "        print(sys.exc_info()[1])\n",
    "        print(\"Query:\", query)\n",
    "\n",
    "export_conn_UODwh.commit()\n",
    "export_cursor.close()"
   ],
   "metadata": {
    "collapsed": false,
    "ExecuteTime": {
     "end_time": "2024-05-31T00:48:48.932628700Z",
     "start_time": "2024-05-31T00:48:18.098414600Z"
    }
   },
   "id": "6086909219997fae",
   "execution_count": 30
  },
  {
   "cell_type": "code",
   "outputs": [
    {
     "data": {
      "text/plain": "     Unnamed: 0  ProductKey  ProductID                             Name  \\\n0             0           1          1                  Adjustable Race   \n1             1           2          2                     Bearing Ball   \n2             2           3          3                  BB Ball Bearing   \n3             3           4          4            Headset Ball Bearings   \n4             4           5        316                            Blade   \n..          ...         ...        ...                              ...   \n586         586         587         73                       Röd Kaviar   \n587         587         588         74                    Longlife Tofu   \n588         588         589         75             Rhönbräu Klosterbier   \n589         589         590         76                     Lakkalikööri   \n590         590         591         77  Original Frankfurter grüne Soße   \n\n    Subcategory Category          Source  \n0           NaN      NaN  AdventureWorks  \n1           NaN      NaN  AdventureWorks  \n2           NaN      NaN  AdventureWorks  \n3           NaN      NaN  AdventureWorks  \n4           NaN      NaN  AdventureWorks  \n..          ...      ...             ...  \n586     Seafood     Food       NorthWind  \n587     Produce     Food       NorthWind  \n588   Beverages     Food       NorthWind  \n589   Beverages     Food       NorthWind  \n590  Condiments     Food       NorthWind  \n\n[591 rows x 7 columns]",
      "text/html": "<div>\n<style scoped>\n    .dataframe tbody tr th:only-of-type {\n        vertical-align: middle;\n    }\n\n    .dataframe tbody tr th {\n        vertical-align: top;\n    }\n\n    .dataframe thead th {\n        text-align: right;\n    }\n</style>\n<table border=\"1\" class=\"dataframe\">\n  <thead>\n    <tr style=\"text-align: right;\">\n      <th></th>\n      <th>Unnamed: 0</th>\n      <th>ProductKey</th>\n      <th>ProductID</th>\n      <th>Name</th>\n      <th>Subcategory</th>\n      <th>Category</th>\n      <th>Source</th>\n    </tr>\n  </thead>\n  <tbody>\n    <tr>\n      <th>0</th>\n      <td>0</td>\n      <td>1</td>\n      <td>1</td>\n      <td>Adjustable Race</td>\n      <td>NaN</td>\n      <td>NaN</td>\n      <td>AdventureWorks</td>\n    </tr>\n    <tr>\n      <th>1</th>\n      <td>1</td>\n      <td>2</td>\n      <td>2</td>\n      <td>Bearing Ball</td>\n      <td>NaN</td>\n      <td>NaN</td>\n      <td>AdventureWorks</td>\n    </tr>\n    <tr>\n      <th>2</th>\n      <td>2</td>\n      <td>3</td>\n      <td>3</td>\n      <td>BB Ball Bearing</td>\n      <td>NaN</td>\n      <td>NaN</td>\n      <td>AdventureWorks</td>\n    </tr>\n    <tr>\n      <th>3</th>\n      <td>3</td>\n      <td>4</td>\n      <td>4</td>\n      <td>Headset Ball Bearings</td>\n      <td>NaN</td>\n      <td>NaN</td>\n      <td>AdventureWorks</td>\n    </tr>\n    <tr>\n      <th>4</th>\n      <td>4</td>\n      <td>5</td>\n      <td>316</td>\n      <td>Blade</td>\n      <td>NaN</td>\n      <td>NaN</td>\n      <td>AdventureWorks</td>\n    </tr>\n    <tr>\n      <th>...</th>\n      <td>...</td>\n      <td>...</td>\n      <td>...</td>\n      <td>...</td>\n      <td>...</td>\n      <td>...</td>\n      <td>...</td>\n    </tr>\n    <tr>\n      <th>586</th>\n      <td>586</td>\n      <td>587</td>\n      <td>73</td>\n      <td>Röd Kaviar</td>\n      <td>Seafood</td>\n      <td>Food</td>\n      <td>NorthWind</td>\n    </tr>\n    <tr>\n      <th>587</th>\n      <td>587</td>\n      <td>588</td>\n      <td>74</td>\n      <td>Longlife Tofu</td>\n      <td>Produce</td>\n      <td>Food</td>\n      <td>NorthWind</td>\n    </tr>\n    <tr>\n      <th>588</th>\n      <td>588</td>\n      <td>589</td>\n      <td>75</td>\n      <td>Rhönbräu Klosterbier</td>\n      <td>Beverages</td>\n      <td>Food</td>\n      <td>NorthWind</td>\n    </tr>\n    <tr>\n      <th>589</th>\n      <td>589</td>\n      <td>590</td>\n      <td>76</td>\n      <td>Lakkalikööri</td>\n      <td>Beverages</td>\n      <td>Food</td>\n      <td>NorthWind</td>\n    </tr>\n    <tr>\n      <th>590</th>\n      <td>590</td>\n      <td>591</td>\n      <td>77</td>\n      <td>Original Frankfurter grüne Soße</td>\n      <td>Condiments</td>\n      <td>Food</td>\n      <td>NorthWind</td>\n    </tr>\n  </tbody>\n</table>\n<p>591 rows × 7 columns</p>\n</div>"
     },
     "execution_count": 85,
     "metadata": {},
     "output_type": "execute_result"
    }
   ],
   "source": [
    "df_product_new"
   ],
   "metadata": {
    "collapsed": false,
    "ExecuteTime": {
     "end_time": "2024-05-31T00:06:55.903474500Z",
     "start_time": "2024-05-31T00:06:55.876962800Z"
    }
   },
   "id": "4f741929912852a3",
   "execution_count": 85
  },
  {
   "cell_type": "code",
   "outputs": [],
   "source": [
    "import sys\n",
    "\n",
    "for index, row in df_product_new.iterrows():\n",
    "    try:\n",
    "        name = row['Name'].replace(\"'\", \"''\")\n",
    "        query = f\"INSERT INTO Product (ProductID, Name, Subcategory,Category,Source) VALUES ({row['ProductID']}, '{name}','{row['Subcategory']}', '{row['Category']}', '{row['Source']}')\"\n",
    "        export_cursor.execute(query)\n",
    "    except pyodbc.Error:\n",
    "        # If there's an error, print the query for debugging\n",
    "        print(\"Query:\", query)\n",
    "        print(\"Error:\", sys.exc_info()[1])\n",
    "\n",
    "export_conn_UODwh.commit()\n",
    "export_cursor.close()"
   ],
   "metadata": {
    "collapsed": false,
    "ExecuteTime": {
     "end_time": "2024-05-31T00:09:37.293728500Z",
     "start_time": "2024-05-31T00:09:37.081826900Z"
    }
   },
   "id": "efb16a96ffb3375a",
   "execution_count": 89
  },
  {
   "cell_type": "code",
   "outputs": [],
   "source": [
    "export_cursor.close()"
   ],
   "metadata": {
    "collapsed": false,
    "ExecuteTime": {
     "end_time": "2024-05-31T00:44:00.879945900Z",
     "start_time": "2024-05-31T00:44:00.862482300Z"
    }
   },
   "id": "b2216f39028aa980",
   "execution_count": 28
  },
  {
   "cell_type": "code",
   "outputs": [],
   "source": [
    "import sys\n",
    "\n",
    "for index, row in df_employee_new.iterrows():\n",
    "    try:\n",
    "        name = row['FirstName'].replace(\"'\", \"''\")\n",
    "        query = f\"INSERT INTO Employee (EmployeeID, FirstName, LastName,Address,City,State,Country,Source) VALUES ({row['EmployeeID']}, '{name}','{row['LastName']}', '{row['Address']}','{row['City']}','{row['State']}','{row['Country']}', '{row['Source']}')\"\n",
    "        export_cursor.execute(query)\n",
    "    except pyodbc.Error:\n",
    "        # If there's an error, print the query for debugging\n",
    "        print(\"Query:\", query)\n",
    "        print(\"Error:\", sys.exc_info()[1])\n",
    "\n",
    "export_conn_UODwh.commit()\n",
    "export_cursor.close()"
   ],
   "metadata": {
    "collapsed": false,
    "ExecuteTime": {
     "start_time": "2024-05-30T23:15:40.865912500Z"
    }
   },
   "id": "906dd042181622d1",
   "execution_count": null
  },
  {
   "cell_type": "code",
   "outputs": [],
   "source": [],
   "metadata": {
    "collapsed": false,
    "ExecuteTime": {
     "start_time": "2024-05-30T23:15:40.867912100Z"
    }
   },
   "id": "c082d02bec4751ed"
  }
 ],
 "metadata": {
  "kernelspec": {
   "display_name": "Python 3",
   "language": "python",
   "name": "python3"
  },
  "language_info": {
   "codemirror_mode": {
    "name": "ipython",
    "version": 2
   },
   "file_extension": ".py",
   "mimetype": "text/x-python",
   "name": "python",
   "nbconvert_exporter": "python",
   "pygments_lexer": "ipython2",
   "version": "2.7.6"
  }
 },
 "nbformat": 4,
 "nbformat_minor": 5
}
